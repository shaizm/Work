{
 "cells": [
  {
   "cell_type": "code",
   "execution_count": 5,
   "id": "aae49d6f",
   "metadata": {},
   "outputs": [],
   "source": [
    "# overwrites existing file or creates new one\n",
    "import openpyxl as xl\n",
    "import pathlib as pt\n",
    "path = pt.Path.home()/ 'Desktop\\\\testing.xlsx'\n",
    "\n",
    "workbook = xl.Workbook()\n",
    "sheet = workbook.active\n",
    "data1 = (\"test\", \"file\", \"jumba\")\n",
    "\n",
    "sheet.append(data)\n",
    "workbook.save(filename = path)\n",
    "#workbook.close()\n"
   ]
  },
  {
   "cell_type": "code",
   "execution_count": 21,
   "id": "ea035349",
   "metadata": {},
   "outputs": [
    {
     "name": "stdout",
     "output_type": "stream",
     "text": [
      "test\n"
     ]
    }
   ],
   "source": [
    "# Opens existing file\n",
    "import openpyxl as xl\n",
    "import pathlib as pt\n",
    "\n",
    "file_name = 'Desktop\\\\testing.xlsx'\n",
    "path = pt.Path.home()/ file_name\n",
    "\n",
    "workbook = xl.load_workbook(path)\n",
    "sheet = workbook.active\n",
    "cell = sheet['A1']\n",
    "print(cell.value)\n",
    "workbook.close()\n"
   ]
  },
  {
   "cell_type": "code",
   "execution_count": 59,
   "id": "afed3303",
   "metadata": {},
   "outputs": [
    {
     "name": "stdout",
     "output_type": "stream",
     "text": [
      "7\n",
      "10 7 9 3 2 1 15\n",
      "7 3 3 2 1 -1 -1\n"
     ]
    }
   ],
   "source": [
    "length = int(input())\n",
    "l = list(map(int, input().split()[:length]))\n",
    "new = []\n",
    "\n",
    "for i in range(0, len(l)):\n",
    "    ele = -1\n",
    "    for j in range(i+1, len(l)):\n",
    "        if l[i] > l[j]: \n",
    "            ele = l[j]\n",
    "            new.append(ele)  \n",
    "            break\n",
    "    else:\n",
    "        new.append(ele)        \n",
    "\n",
    "print(*new)\n"
   ]
  },
  {
   "cell_type": "code",
   "execution_count": 72,
   "id": "341136a6",
   "metadata": {},
   "outputs": [
    {
     "ename": "AttributeError",
     "evalue": "'Counter' object has no attribute 'least_common'",
     "output_type": "error",
     "traceback": [
      "\u001b[1;31m---------------------------------------------------------------------------\u001b[0m",
      "\u001b[1;31mAttributeError\u001b[0m                            Traceback (most recent call last)",
      "\u001b[1;32m~\\AppData\\Local\\Temp/ipykernel_7028/1985214702.py\u001b[0m in \u001b[0;36m<module>\u001b[1;34m\u001b[0m\n\u001b[0;32m      6\u001b[0m \u001b[0mcounts\u001b[0m \u001b[1;33m=\u001b[0m \u001b[0mCounter\u001b[0m\u001b[1;33m(\u001b[0m\u001b[0ma\u001b[0m\u001b[1;33m)\u001b[0m\u001b[1;33m\u001b[0m\u001b[1;33m\u001b[0m\u001b[0m\n\u001b[0;32m      7\u001b[0m \u001b[1;33m\u001b[0m\u001b[0m\n\u001b[1;32m----> 8\u001b[1;33m \u001b[0mcounts\u001b[0m\u001b[1;33m.\u001b[0m\u001b[0mleast_common\u001b[0m\u001b[1;33m(\u001b[0m\u001b[1;33m)\u001b[0m\u001b[1;33m\u001b[0m\u001b[1;33m\u001b[0m\u001b[0m\n\u001b[0m\u001b[0;32m      9\u001b[0m \u001b[1;33m\u001b[0m\u001b[0m\n\u001b[0;32m     10\u001b[0m \u001b[0mprint\u001b[0m\u001b[1;33m(\u001b[0m\u001b[0mp\u001b[0m\u001b[1;33m)\u001b[0m\u001b[1;33m\u001b[0m\u001b[1;33m\u001b[0m\u001b[0m\n",
      "\u001b[1;31mAttributeError\u001b[0m: 'Counter' object has no attribute 'least_common'"
     ]
    }
   ],
   "source": [
    "from collections import Counter\n",
    "a = [1,1,7,2]\n",
    "\n",
    "a = sorted(a)\n",
    "\n",
    "counts = Counter(a)\n",
    "\n",
    "counts.least\n",
    "    \n",
    "print(p)\n"
   ]
  },
  {
   "cell_type": "code",
   "execution_count": 93,
   "id": "b589dd8d",
   "metadata": {},
   "outputs": [
    {
     "name": "stdout",
     "output_type": "stream",
     "text": [
      "2 3 1 \n"
     ]
    }
   ],
   "source": [
    "# Array- 3\n",
    "from collections import Counter\n",
    "\n",
    "a = [1,1,3,3,2]\n",
    "l = ''\n",
    "c = Counter(a)\n",
    "sort = c.most_common()\n",
    "\n",
    "for i in sort:\n",
    "    l = (str(i[0]) + ' ' + l)\n",
    "        \n",
    "print(l)\n"
   ]
  },
  {
   "cell_type": "code",
   "execution_count": 5,
   "id": "38b847db",
   "metadata": {},
   "outputs": [
    {
     "name": "stdout",
     "output_type": "stream",
     "text": [
      "5\n",
      "3 5 4 4 7\n",
      "4\n"
     ]
    }
   ],
   "source": [
    "n = int(input())\n",
    "array = list(map(int, input().split()[:n]))\n",
    "\n",
    "min_ = min(array)\n",
    "max_ = max(array)\n",
    "\n",
    "min_index = array.index(min_)\n",
    "max_index = array.index(max_)\n",
    "\n",
    "print(abs(max_index - min_index))\n"
   ]
  },
  {
   "cell_type": "code",
   "execution_count": 11,
   "id": "3b257db7",
   "metadata": {},
   "outputs": [
    {
     "name": "stdout",
     "output_type": "stream",
     "text": [
      "string 0\n",
      "string\n"
     ]
    }
   ],
   "source": [
    "n,k = input().split()\n",
    "k = int(k)\n",
    "elemt = ''\n",
    "\n",
    "for i in n:\n",
    "    if k != 0:\n",
    "        if (n.index(i)+1)%k == 0:\n",
    "            elemt = elemt + i.upper()\n",
    "        else:\n",
    "            elemt = elemt + i\n",
    "    else:\n",
    "        elemt = elemt + i\n",
    "\n",
    "print(elemt)\n"
   ]
  },
  {
   "cell_type": "code",
   "execution_count": 36,
   "id": "97574c07",
   "metadata": {},
   "outputs": [
    {
     "name": "stdout",
     "output_type": "stream",
     "text": [
      "hey and bye\n"
     ]
    },
    {
     "ename": "IndexError",
     "evalue": "list index out of range",
     "output_type": "error",
     "traceback": [
      "\u001b[1;31m---------------------------------------------------------------------------\u001b[0m",
      "\u001b[1;31mIndexError\u001b[0m                                Traceback (most recent call last)",
      "\u001b[1;32m~\\AppData\\Local\\Temp/ipykernel_3960/3730270385.py\u001b[0m in \u001b[0;36m<module>\u001b[1;34m\u001b[0m\n\u001b[0;32m      7\u001b[0m         \u001b[0ml1\u001b[0m\u001b[1;33m.\u001b[0m\u001b[0mappend\u001b[0m\u001b[1;33m(\u001b[0m\u001b[0ms\u001b[0m\u001b[1;33m[\u001b[0m\u001b[0mi\u001b[0m\u001b[1;33m]\u001b[0m\u001b[1;33m)\u001b[0m\u001b[1;33m\u001b[0m\u001b[1;33m\u001b[0m\u001b[0m\n\u001b[0;32m      8\u001b[0m         \u001b[0ml1\u001b[0m\u001b[1;33m.\u001b[0m\u001b[0mappend\u001b[0m\u001b[1;33m(\u001b[0m\u001b[0ms\u001b[0m\u001b[1;33m[\u001b[0m\u001b[0mi\u001b[0m\u001b[1;33m-\u001b[0m\u001b[1;36m1\u001b[0m\u001b[1;33m]\u001b[0m\u001b[1;33m)\u001b[0m\u001b[1;33m\u001b[0m\u001b[1;33m\u001b[0m\u001b[0m\n\u001b[1;32m----> 9\u001b[1;33m         \u001b[1;32mif\u001b[0m \u001b[0ms\u001b[0m\u001b[1;33m[\u001b[0m\u001b[0mi\u001b[0m\u001b[1;33m+\u001b[0m\u001b[1;36m2\u001b[0m\u001b[1;33m]\u001b[0m \u001b[1;33m!=\u001b[0m \u001b[1;34m'and'\u001b[0m \u001b[1;32mand\u001b[0m \u001b[0ms\u001b[0m\u001b[1;33m[\u001b[0m\u001b[0mi\u001b[0m\u001b[1;33m+\u001b[0m\u001b[1;36m3\u001b[0m\u001b[1;33m]\u001b[0m \u001b[1;33m!=\u001b[0m \u001b[1;34m'and'\u001b[0m\u001b[1;33m:\u001b[0m\u001b[1;33m\u001b[0m\u001b[1;33m\u001b[0m\u001b[0m\n\u001b[0m\u001b[0;32m     10\u001b[0m             \u001b[0ml1\u001b[0m\u001b[1;33m.\u001b[0m\u001b[0mappend\u001b[0m\u001b[1;33m(\u001b[0m\u001b[0ms\u001b[0m\u001b[1;33m[\u001b[0m\u001b[0mi\u001b[0m\u001b[1;33m+\u001b[0m\u001b[1;36m2\u001b[0m\u001b[1;33m]\u001b[0m\u001b[1;33m)\u001b[0m\u001b[1;33m\u001b[0m\u001b[1;33m\u001b[0m\u001b[0m\n\u001b[0;32m     11\u001b[0m         \u001b[1;32melse\u001b[0m\u001b[1;33m:\u001b[0m\u001b[1;33m\u001b[0m\u001b[1;33m\u001b[0m\u001b[0m\n",
      "\u001b[1;31mIndexError\u001b[0m: list index out of range"
     ]
    }
   ],
   "source": [
    "s = list(map(str, input().split()))\n",
    "l1 = []\n",
    "\n",
    "for i in range(0, len(s)):\n",
    "    if s[i] == 'and':\n",
    "        l1.append(s[i+1])\n",
    "        l1.append(s[i])\n",
    "        l1.append(s[i-1])\n",
    "        if s[i+2] != 'and' and s[i+3] != 'and': \n",
    "            l1.append(s[i+2])\n",
    "        else:\n",
    "            break\n",
    "else:\n",
    "    for i in range((len(l1)-len(s)), 0):\n",
    "        l1.append(s[i])   \n",
    "print(*l1)\n",
    "\n",
    "# still not complete :)\n"
   ]
  },
  {
   "cell_type": "code",
   "execution_count": 47,
   "id": "770ad176",
   "metadata": {},
   "outputs": [
    {
     "name": "stdout",
     "output_type": "stream",
     "text": [
      "6\n",
      "1 2 1 3 4 5\n",
      "5->4->3->1->2->1\n"
     ]
    }
   ],
   "source": [
    "n = int(input())\n",
    "array = list(map(int, input().split()[:n]))\n",
    "rslt = ''\n",
    "\n",
    "for i in reversed(array):\n",
    "    rslt = rslt+str(i)\n",
    "    \n",
    "print('->'.join(rslt))\n",
    "    "
   ]
  },
  {
   "cell_type": "code",
   "execution_count": 64,
   "id": "a4011aff",
   "metadata": {},
   "outputs": [
    {
     "name": "stdout",
     "output_type": "stream",
     "text": [
      "a3b1\n"
     ]
    }
   ],
   "source": [
    "from collections import Counter\n",
    "\n",
    "s = 'aaab'\n",
    "string_ = ''\n",
    "c = Counter(s)\n",
    "\n",
    "for key, value in c.items():\n",
    "    string_ = string_ + key + str(value)\n",
    "    \n",
    "print(string_)"
   ]
  },
  {
   "cell_type": "code",
   "execution_count": 73,
   "id": "e88be6b6",
   "metadata": {},
   "outputs": [
    {
     "name": "stdout",
     "output_type": "stream",
     "text": [
      "4\n",
      "1 2 3 4\n",
      "4 3 2 1\n",
      "yes\n",
      "yes\n",
      "yes\n",
      "yes\n"
     ]
    }
   ],
   "source": [
    "n = int(input())\n",
    "arr1 = list(map(int, input().split()[:n]))\n",
    "arr2 = list(map(int, input().split()[:n]))\n",
    "arr2.reverse()\n",
    "\n",
    "for i in range(len(arr1)):\n",
    "    if arr1[i]==arr2[i]:\n",
    "        print('yes')\n",
    "        break\n",
    "    else:\n",
    "        print('no')\n",
    "        break"
   ]
  }
 ],
 "metadata": {
  "kernelspec": {
   "display_name": "Python 3 (ipykernel)",
   "language": "python",
   "name": "python3"
  },
  "language_info": {
   "codemirror_mode": {
    "name": "ipython",
    "version": 3
   },
   "file_extension": ".py",
   "mimetype": "text/x-python",
   "name": "python",
   "nbconvert_exporter": "python",
   "pygments_lexer": "ipython3",
   "version": "3.9.2"
  }
 },
 "nbformat": 4,
 "nbformat_minor": 5
}
