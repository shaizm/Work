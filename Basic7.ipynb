{
 "cells": [
  {
   "cell_type": "code",
   "execution_count": 10,
   "id": "cc52078a",
   "metadata": {},
   "outputs": [
    {
     "name": "stdout",
     "output_type": "stream",
     "text": [
      "Enter the principle amount: 32000\n",
      "Enter the rate of interest: 7\n",
      "Enter the duration of loan: 2\n",
      "Enter the number of times interest is compounded anually: 12\n",
      "The CI is: 4636.800000000003\n",
      "The final amount is: 36636.8\n"
     ]
    }
   ],
   "source": [
    "p = float(input(\"Enter the principle amount: \"))\n",
    "r = float(input(\"Enter the rate of interest: \"))\n",
    "t = float(input(\"Enter the duration of loan: \"))\n",
    "n = float(input(\"Enter the number of times interest is compounded anually: \"))\n",
    "\n",
    "A = p * (pow((1 + r / 100), t))\n",
    "CI = A-p\n",
    "\n",
    "\n",
    "print (\"The CI is: {}\".format(CI))\n",
    "print (\"The final amount is: {}\".format(A))"
   ]
  }
 ],
 "metadata": {
  "kernelspec": {
   "display_name": "Python 3 (ipykernel)",
   "language": "python",
   "name": "python3"
  },
  "language_info": {
   "codemirror_mode": {
    "name": "ipython",
    "version": 3
   },
   "file_extension": ".py",
   "mimetype": "text/x-python",
   "name": "python",
   "nbconvert_exporter": "python",
   "pygments_lexer": "ipython3",
   "version": "3.9.2"
  }
 },
 "nbformat": 4,
 "nbformat_minor": 5
}
