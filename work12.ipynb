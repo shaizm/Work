{
 "cells": [
  {
   "cell_type": "code",
   "execution_count": 9,
   "id": "9606f0a1",
   "metadata": {},
   "outputs": [
    {
     "name": "stdout",
     "output_type": "stream",
     "text": [
      "5\n",
      "4\n"
     ]
    }
   ],
   "source": [
    "num = int(input())\n",
    "\n",
    "l = []\n",
    "for i in range(1,num+1):\n",
    "    for j in range (1,num + 1):\n",
    "        if i + j == num:\n",
    "            total = i+j\n",
    "            l.append(total)\n",
    "\n",
    "print(len(l))"
   ]
  },
  {
   "cell_type": "code",
   "execution_count": 18,
   "id": "80bf559d",
   "metadata": {},
   "outputs": [
    {
     "name": "stdout",
     "output_type": "stream",
     "text": [
      "10\n",
      "10 165 895 654 123 78 9 64 21 322\n",
      "10\n",
      "1 0 0 0 0 0 0 0 0 0\n",
      "1 0 0 0 0 0 0 0 0 0\n"
     ]
    }
   ],
   "source": [
    "no_of_tickets = int(input())\n",
    "ticket_id = list(map(int, input().split(' ')[:no_of_tickets+1]))\n",
    "date = int(input())\n",
    "\n",
    "result = []\n",
    "\n",
    "for i in ticket_id:\n",
    "    if i%date == 0:\n",
    "        result.append(1)\n",
    "    else:\n",
    "        result.append(0)\n",
    "        \n",
    "print(*result)\n",
    "#Another method for printing\n",
    "print(' '.join(map(str,result)))\n"
   ]
  },
  {
   "cell_type": "code",
   "execution_count": 19,
   "id": "f98e39a4",
   "metadata": {},
   "outputs": [
    {
     "name": "stdout",
     "output_type": "stream",
     "text": [
      "26\n",
      "yes\n"
     ]
    }
   ],
   "source": [
    "num = int(input())\n",
    "\n",
    "if num%13==0:\n",
    "    print(\"yes\")\n",
    "else:\n",
    "    print('no')"
   ]
  },
  {
   "cell_type": "code",
   "execution_count": 24,
   "id": "d1787b99",
   "metadata": {},
   "outputs": [
    {
     "name": "stdout",
     "output_type": "stream",
     "text": [
      "5 5 5\n",
      "0\n"
     ]
    }
   ],
   "source": [
    "num = list(map(int, input().split(' ')))\n",
    "\n",
    "print((num[0]*num[1]) % num[2])"
   ]
  },
  {
   "cell_type": "code",
   "execution_count": 1,
   "id": "0a71f95f",
   "metadata": {},
   "outputs": [
    {
     "name": "stdout",
     "output_type": "stream",
     "text": [
      "55 73\n",
      "1\n"
     ]
    }
   ],
   "source": [
    "num1, num2 =  map(int, input().split(' '))\n",
    "\n",
    "if num1 > num2:\n",
    "    greater = num1\n",
    "else:\n",
    "    greater = num2\n",
    "\n",
    "co_prime = 0\n",
    "for i in range(1,greater+1):\n",
    "    if num1%i == 0 and num2%i ==0:\n",
    "        co_prime = 1\n",
    "    else:\n",
    "        continue\n",
    "\n",
    "print(co_prime)"
   ]
  },
  {
   "cell_type": "code",
   "execution_count": 47,
   "id": "aa6efc3e",
   "metadata": {},
   "outputs": [
    {
     "name": "stdout",
     "output_type": "stream",
     "text": [
      "HR05-AA-2669\n",
      "28\n"
     ]
    }
   ],
   "source": [
    "reg_no =  list(map(str, ' '.join(input())))\n",
    "\n",
    "digi = []\n",
    "for i in reg_no:\n",
    "    if i.isdigit():\n",
    "        digi.append(int(i))\n",
    "        \n",
    "print(sum(digi))\n",
    "        "
   ]
  },
  {
   "cell_type": "code",
   "execution_count": 3,
   "id": "b7cb80b0",
   "metadata": {},
   "outputs": [
    {
     "name": "stdout",
     "output_type": "stream",
     "text": [
      "5 7 9 64 51 0\n",
      "0\n"
     ]
    }
   ],
   "source": [
    "num = list(map(int, input().split(' ')))\n",
    "\n",
    "#smallest = 0\n",
    "\n",
    "for j in num:\n",
    "    if i <= j:\n",
    "        i = i\n",
    "    else:\n",
    "        i = j\n",
    "            \n",
    "print(i)"
   ]
  },
  {
   "cell_type": "code",
   "execution_count": 5,
   "id": "f53b4ebd",
   "metadata": {},
   "outputs": [
    {
     "name": "stdout",
     "output_type": "stream",
     "text": [
      "3\n",
      "3 4 9 1 6\n",
      "3\n"
     ]
    }
   ],
   "source": [
    "size = int(input())\n",
    "num = list(map(int, input().split(' ')[:size]))\n",
    "print(min(num))"
   ]
  }
 ],
 "metadata": {
  "kernelspec": {
   "display_name": "Python 3 (ipykernel)",
   "language": "python",
   "name": "python3"
  },
  "language_info": {
   "codemirror_mode": {
    "name": "ipython",
    "version": 3
   },
   "file_extension": ".py",
   "mimetype": "text/x-python",
   "name": "python",
   "nbconvert_exporter": "python",
   "pygments_lexer": "ipython3",
   "version": "3.9.2"
  }
 },
 "nbformat": 4,
 "nbformat_minor": 5
}
