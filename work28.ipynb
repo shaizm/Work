{
 "cells": [
  {
   "cell_type": "code",
   "execution_count": 2,
   "id": "8e27955c",
   "metadata": {},
   "outputs": [
    {
     "name": "stdout",
     "output_type": "stream",
     "text": [
      "2.6\n",
      "3\n"
     ]
    }
   ],
   "source": [
    "a = float(input())\n",
    "a = (a//1)+1\n",
    "print(round(a))"
   ]
  },
  {
   "cell_type": "code",
   "execution_count": 3,
   "id": "97f2aa7b",
   "metadata": {},
   "outputs": [
    {
     "name": "stdout",
     "output_type": "stream",
     "text": [
      "2.6\n",
      "3\n"
     ]
    }
   ],
   "source": [
    "# another method\n",
    "\n",
    "from math import ceil\n",
    "print(ceil(float(input())))"
   ]
  },
  {
   "cell_type": "code",
   "execution_count": 8,
   "id": "cf7c4de5",
   "metadata": {},
   "outputs": [
    {
     "name": "stdout",
     "output_type": "stream",
     "text": [
      "6\n",
      "1 2 3 6\n"
     ]
    }
   ],
   "source": [
    "n = int(input())\n",
    "l = []\n",
    "for i in range(1, n+1):\n",
    "    if n%i == 0:\n",
    "        l.append(i)\n",
    "\n",
    "print(*l)"
   ]
  },
  {
   "cell_type": "code",
   "execution_count": 13,
   "id": "72bcb2bc",
   "metadata": {},
   "outputs": [
    {
     "name": "stdout",
     "output_type": "stream",
     "text": [
      "12\n",
      "5\n"
     ]
    }
   ],
   "source": [
    "n = input()\n",
    "L = []\n",
    "\n",
    "for i in n:\n",
    "    L.append(int(i)**2)\n",
    "\n",
    "print(sum(L))"
   ]
  },
  {
   "cell_type": "code",
   "execution_count": 12,
   "id": "0c39dbb6",
   "metadata": {},
   "outputs": [
    {
     "name": "stdout",
     "output_type": "stream",
     "text": [
      "12\n",
      "1\n",
      "2\n"
     ]
    }
   ],
   "source": [
    "a = input()\n",
    "for i in a:\n",
    "    print(i)"
   ]
  },
  {
   "cell_type": "code",
   "execution_count": 18,
   "id": "804e57c1",
   "metadata": {},
   "outputs": [
    {
     "name": "stdout",
     "output_type": "stream",
     "text": [
      "5\n",
      "2 3 5 -4 -1\n",
      "-5\n"
     ]
    }
   ],
   "source": [
    "n = int(input())\n",
    "arr = list(map(int, input().split()[:n]))\n",
    "L = []\n",
    "\n",
    "for i in arr:\n",
    "    if i < 0:\n",
    "        L.append(i)\n",
    "    else:\n",
    "        continue\n",
    "        \n",
    "print(sum(L))"
   ]
  },
  {
   "cell_type": "code",
   "execution_count": 23,
   "id": "a8bd9d6d",
   "metadata": {},
   "outputs": [
    {
     "name": "stdout",
     "output_type": "stream",
     "text": [
      "9\n",
      "2\n"
     ]
    }
   ],
   "source": [
    "m = int(input())\n",
    "L = []\n",
    "for i in range(1,m):\n",
    "    if m%i == 0:\n",
    "        L.append(i)\n",
    "        \n",
    "print(len(L))"
   ]
  },
  {
   "cell_type": "code",
   "execution_count": 40,
   "id": "87644ed0",
   "metadata": {},
   "outputs": [
    {
     "name": "stdout",
     "output_type": "stream",
     "text": [
      "4\n",
      "[2, 5, 10, 17]\n"
     ]
    }
   ],
   "source": [
    "n = int(input())\n",
    "L = []\n",
    "\n",
    "for i in range(0,n):\n",
    "    L.append((i**2) + (2*i)+2)\n",
    "print(*L)    \n"
   ]
  }
 ],
 "metadata": {
  "kernelspec": {
   "display_name": "Python 3 (ipykernel)",
   "language": "python",
   "name": "python3"
  },
  "language_info": {
   "codemirror_mode": {
    "name": "ipython",
    "version": 3
   },
   "file_extension": ".py",
   "mimetype": "text/x-python",
   "name": "python",
   "nbconvert_exporter": "python",
   "pygments_lexer": "ipython3",
   "version": "3.9.2"
  }
 },
 "nbformat": 4,
 "nbformat_minor": 5
}
