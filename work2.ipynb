{
 "cells": [
  {
   "cell_type": "code",
   "execution_count": 3,
   "id": "08e83749",
   "metadata": {},
   "outputs": [
    {
     "name": "stdout",
     "output_type": "stream",
     "text": [
      "1000 2 5\n",
      "100.0\n"
     ]
    }
   ],
   "source": [
    "amount,interest,time = map(float,input().split())\n",
    "#amount,interest,time = int(input()), int(input()), int(input())\n",
    "simple_interest = round((amount*time*interest)/100,2)\n",
    "print(simple_interest)"
   ]
  },
  {
   "cell_type": "code",
   "execution_count": 1,
   "id": "76ff106a",
   "metadata": {},
   "outputs": [
    {
     "name": "stdout",
     "output_type": "stream",
     "text": [
      "-3\n"
     ]
    }
   ],
   "source": [
    "a = -3\n",
    "b =  -8\n",
    "if a>b:\n",
    "    print(a)\n",
    "else:\n",
    "    print(b)"
   ]
  },
  {
   "cell_type": "code",
   "execution_count": 30,
   "id": "b210e0c0",
   "metadata": {},
   "outputs": [
    {
     "name": "stdout",
     "output_type": "stream",
     "text": [
      "<class 'int'>\n"
     ]
    }
   ],
   "source": [
    "a = 0\n",
    "print(type(a))"
   ]
  },
  {
   "cell_type": "code",
   "execution_count": 6,
   "id": "2df0958f",
   "metadata": {},
   "outputs": [
    {
     "name": "stdout",
     "output_type": "stream",
     "text": [
      "4 6 3\n"
     ]
    }
   ],
   "source": [
    "s,*a = [5,4,6,3]\n",
    "print(*a)"
   ]
  },
  {
   "cell_type": "code",
   "execution_count": 2,
   "id": "1cebe07f",
   "metadata": {},
   "outputs": [
    {
     "name": "stdout",
     "output_type": "stream",
     "text": [
      "-3\n",
      "0\n",
      "-8\n",
      "0\n"
     ]
    }
   ],
   "source": [
    "# Didn't Work ...but now does\n",
    "num1 = int(input())\n",
    "num2 = int(input())\n",
    "num3 = int(input())\n",
    "\n",
    "if num1 > num2 and num1 > num3:\n",
    "    print(num1)\n",
    "elif num2 > num1 and num2 > num3:\n",
    "    print (num2)\n",
    "else:\n",
    "    print(num3)"
   ]
  },
  {
   "cell_type": "code",
   "execution_count": 39,
   "id": "c673f8ee",
   "metadata": {},
   "outputs": [
    {
     "name": "stdout",
     "output_type": "stream",
     "text": [
      "-3\n",
      "0\n",
      "-11\n",
      "0.0\n"
     ]
    }
   ],
   "source": [
    "# Works Fine\n",
    "num1 = float(input())\n",
    "num2 = float(input())\n",
    "num3 = float(input())\n",
    "\n",
    "if num1 > num2 and num1 > num3:\n",
    "    print(num1)\n",
    "elif num2 > num1 and num2 > num3:\n",
    "    print (num2)\n",
    "else:\n",
    "    print(num3)"
   ]
  },
  {
   "cell_type": "code",
   "execution_count": 8,
   "id": "e5ada020",
   "metadata": {},
   "outputs": [
    {
     "name": "stdout",
     "output_type": "stream",
     "text": [
      "4 5 6\n",
      "6.0\n"
     ]
    }
   ],
   "source": [
    "# Works Fine\n",
    "num1, num2, num3 = map(float,input().split())\n",
    "\n",
    "\n",
    "if num1 > num2 and num1 > num3:\n",
    "    print(num1)\n",
    "elif num2 > num1 and num2 > num3:\n",
    "    print (num2)\n",
    "else:\n",
    "    print(num3)"
   ]
  },
  {
   "cell_type": "code",
   "execution_count": 38,
   "id": "00c5edc5",
   "metadata": {},
   "outputs": [
    {
     "name": "stdout",
     "output_type": "stream",
     "text": [
      "-3 0 -11\n",
      "0\n"
     ]
    }
   ],
   "source": [
    "#Works Fine 2\n",
    "num1, num2, num3 = map(int,input().split())\n",
    "\n",
    "if num1 > num2 and num1 > num3:\n",
    "    print(num1)\n",
    "elif num2 > num1 and num2 > num3:\n",
    "    print (num2)\n",
    "else:\n",
    "    print(num3)"
   ]
  },
  {
   "cell_type": "code",
   "execution_count": 48,
   "id": "0a82fedf",
   "metadata": {},
   "outputs": [
    {
     "name": "stdout",
     "output_type": "stream",
     "text": [
      "5 6\n",
      "5\n",
      "Wall time: 1.66 s\n"
     ]
    }
   ],
   "source": [
    "%%time\n",
    "num1, num2 = map(int,input().split())\n",
    "\n",
    "if num1 < num2:\n",
    "    print(num1)\n",
    "else:\n",
    "    print(num2)"
   ]
  },
  {
   "cell_type": "code",
   "execution_count": 62,
   "id": "fd7c8a21",
   "metadata": {},
   "outputs": [
    {
     "name": "stdout",
     "output_type": "stream",
     "text": [
      "3 2 -1\n",
      "0.33\n",
      "-1.00\n",
      "Wall time: 4.8 s\n"
     ]
    }
   ],
   "source": [
    "%%time\n",
    "from math import sqrt\n",
    "coef1, coef2, coef3 = map(int,input().split())\n",
    "\n",
    "x = (-coef2+sqrt(coef2**2-4*coef1*coef3))/(2*coef1)\n",
    "y = (-coef2-sqrt(coef2**2-4*coef1*coef3))/(2*coef1)\n",
    "x = '%.2f' % x\n",
    "y = '%.2f' % y\n",
    "\n",
    "x = '%.2f' %x\n",
    "print(x)\n",
    "print(y)"
   ]
  },
  {
   "cell_type": "code",
   "execution_count": 11,
   "id": "e21f347f",
   "metadata": {},
   "outputs": [
    {
     "name": "stdout",
     "output_type": "stream",
     "text": [
      "5\n",
      "5\n",
      "5\n",
      "5\n",
      "5\n",
      "5\n"
     ]
    }
   ],
   "source": [
    "num = int(input())\n",
    "\n",
    "print(num,num,num,num,num,sep = \"\\n\")"
   ]
  },
  {
   "cell_type": "code",
   "execution_count": 10,
   "id": "66df52e1",
   "metadata": {},
   "outputs": [
    {
     "name": "stdout",
     "output_type": "stream",
     "text": [
      "5\n",
      "5\n",
      "5\n",
      "5\n",
      "5\n",
      "5\n",
      "5\n"
     ]
    }
   ],
   "source": [
    "num = input()\n",
    "\n",
    "for i in range(1,6):\n",
    "    print(num)"
   ]
  },
  {
   "cell_type": "code",
   "execution_count": 64,
   "id": "4c58ee87",
   "metadata": {},
   "outputs": [
    {
     "name": "stdout",
     "output_type": "stream",
     "text": [
      "5\n",
      "120\n"
     ]
    }
   ],
   "source": [
    "num = int(input())\n",
    "\n",
    "Fact = 1\n",
    "\n",
    "for i in range(1,num+1):\n",
    "    Fact = Fact * i\n",
    "\n",
    "print(Fact)"
   ]
  },
  {
   "cell_type": "code",
   "execution_count": 65,
   "id": "1b6b0026",
   "metadata": {},
   "outputs": [
    {
     "name": "stdout",
     "output_type": "stream",
     "text": [
      "3\n",
      "1\n",
      "2\n",
      "3\n"
     ]
    }
   ],
   "source": [
    "num = int(input())\n",
    "\n",
    "for i in range(1,num+1):\n",
    "    print(i,sep = \"\\n\")\n"
   ]
  },
  {
   "cell_type": "code",
   "execution_count": 74,
   "id": "66782d24",
   "metadata": {},
   "outputs": [
    {
     "name": "stdout",
     "output_type": "stream",
     "text": [
      "10\n",
      "2\n",
      "4\n",
      "6\n",
      "8\n",
      "10\n"
     ]
    }
   ],
   "source": [
    "num = int(input())\n",
    "\n",
    "for i in range(1,num+1):\n",
    "    if i%2 == 0:\n",
    "        print(i,sep = \"\\n\")    "
   ]
  },
  {
   "cell_type": "code",
   "execution_count": 77,
   "id": "35308f63",
   "metadata": {},
   "outputs": [
    {
     "name": "stdout",
     "output_type": "stream",
     "text": [
      "10\n",
      "10\n",
      "9\n",
      "8\n",
      "7\n",
      "6\n",
      "5\n",
      "4\n",
      "3\n",
      "2\n",
      "1\n"
     ]
    }
   ],
   "source": [
    "num = int(input())\n",
    "\n",
    "for i in range(num,1-1,-1):  #or...range(num,0,-1):\n",
    "    print(i,sep = \"\\n\")\n"
   ]
  },
  {
   "cell_type": "code",
   "execution_count": 78,
   "id": "40254b81",
   "metadata": {},
   "outputs": [
    {
     "name": "stdout",
     "output_type": "stream",
     "text": [
      "10\n",
      "10\n",
      "9\n",
      "8\n",
      "7\n",
      "6\n",
      "5\n",
      "4\n",
      "3\n",
      "2\n",
      "1\n"
     ]
    }
   ],
   "source": [
    "num = int(input())\n",
    "\n",
    "for i in reversed(range(1,num+1)):\n",
    "    print(i,sep = \"\\n\")"
   ]
  },
  {
   "cell_type": "code",
   "execution_count": 12,
   "id": "65eda2a2",
   "metadata": {},
   "outputs": [
    {
     "name": "stdout",
     "output_type": "stream",
     "text": [
      "shaiz\n",
      "ziahs\n"
     ]
    }
   ],
   "source": [
    "user_input = input()\n",
    "\n",
    "reverse = ''\n",
    "\n",
    "for i in user_input:  \n",
    "    reverse = i + reverse\n",
    "print(reverse)"
   ]
  },
  {
   "cell_type": "code",
   "execution_count": 91,
   "id": "4bea66be",
   "metadata": {},
   "outputs": [
    {
     "name": "stdout",
     "output_type": "stream",
     "text": [
      "shaiz\n",
      "z i a h s\n"
     ]
    }
   ],
   "source": [
    "user_input = input()\n",
    "reversed_str = \" \".join(reversed(user_input))\n",
    "print(reversed_str)"
   ]
  },
  {
   "cell_type": "code",
   "execution_count": 89,
   "id": "b21d6c02",
   "metadata": {},
   "outputs": [
    {
     "name": "stdout",
     "output_type": "stream",
     "text": [
      "The original string  is : Geeksforgeeks\n",
      "The reversed string(using reversed) is : skeegrofskeeG\n"
     ]
    }
   ],
   "source": [
    "def reverse(string):\n",
    "    string = \"\".join(reversed(string))\n",
    "    return string\n",
    "  \n",
    "s = \"Geeksforgeeks\"\n",
    "  \n",
    "print (\"The original string  is : \",end=\"\")\n",
    "print (s)\n",
    "  \n",
    "print (\"The reversed string(using reversed) is : \",end=\"\")\n",
    "print (reverse(s))"
   ]
  },
  {
   "cell_type": "code",
   "execution_count": 13,
   "id": "c65ef151",
   "metadata": {},
   "outputs": [
    {
     "name": "stdout",
     "output_type": "stream",
     "text": [
      "[8, 7, 6, 5, 4, 3, 2, 1]\n"
     ]
    }
   ],
   "source": [
    "old_list = [1,2,3,4,5,6,7,8]\n",
    "max_range = len(old_list)+1\n",
    "new_list = []\n",
    "for i in range(1,max_range):\n",
    "    a = old_list.pop(-1)\n",
    "    new_list.append(a)\n",
    "print(new_list)"
   ]
  },
  {
   "cell_type": "code",
   "execution_count": 14,
   "id": "80ac77e9",
   "metadata": {},
   "outputs": [
    {
     "name": "stdout",
     "output_type": "stream",
     "text": [
      "] 8   , 7   , 6   , 5   , 4   , 3   , 2   , 1 [\n"
     ]
    }
   ],
   "source": [
    "old_list = [1,2,3,4,5,6,7,8]\n",
    "\n",
    "old_list = str(old_\n",
    "old_list = reversed(old_list)\n",
    "print(old_list)"
   ]
  },
  {
   "cell_type": "code",
   "execution_count": 113,
   "id": "195d697b",
   "metadata": {},
   "outputs": [
    {
     "name": "stdout",
     "output_type": "stream",
     "text": [
      "5 8\n",
      "5\n",
      "5\n",
      "5\n",
      "5\n",
      "5\n",
      "5\n",
      "5\n",
      "5\n"
     ]
    }
   ],
   "source": [
    "num1, num2 = map(int,input().split())\n",
    "\n",
    "for i in range(1,num2+1):\n",
    "    print(num1,sep = \"\\n\")"
   ]
  },
  {
   "cell_type": "code",
   "execution_count": 3,
   "id": "960fd6ae",
   "metadata": {},
   "outputs": [
    {
     "name": "stdout",
     "output_type": "stream",
     "text": [
      "6\n",
      "Even\n"
     ]
    }
   ],
   "source": [
    "num = round(float(input()))\n",
    "\n",
    "if num == 0:\n",
    "    print(\"Zero\")\n",
    "    \n",
    "elif num%2 == 0:\n",
    "    print(\"Even\")\n",
    "\n",
    "else:\n",
    "    print(\"Odd\")"
   ]
  },
  {
   "cell_type": "code",
   "execution_count": 31,
   "id": "0041def1",
   "metadata": {},
   "outputs": [
    {
     "name": "stdout",
     "output_type": "stream",
     "text": [
      "156\n",
      "12\n"
     ]
    }
   ],
   "source": [
    "user_input = input()\n",
    "\n",
    "l = []\n",
    "x = \"\".join(user_input)\n",
    "for i in x:\n",
    "    l.append(int(i))\n",
    "\n",
    "print(sum(l))"
   ]
  },
  {
   "cell_type": "code",
   "execution_count": 36,
   "id": "47a910a5",
   "metadata": {},
   "outputs": [
    {
     "name": "stdout",
     "output_type": "stream",
     "text": [
      "156\n",
      "12\n"
     ]
    }
   ],
   "source": [
    "user_input =sum(list(map(int, input())))\n",
    "print(user_input)"
   ]
  }
 ],
 "metadata": {
  "kernelspec": {
   "display_name": "Python 3 (ipykernel)",
   "language": "python",
   "name": "python3"
  },
  "language_info": {
   "codemirror_mode": {
    "name": "ipython",
    "version": 3
   },
   "file_extension": ".py",
   "mimetype": "text/x-python",
   "name": "python",
   "nbconvert_exporter": "python",
   "pygments_lexer": "ipython3",
   "version": "3.9.2"
  }
 },
 "nbformat": 4,
 "nbformat_minor": 5
}
