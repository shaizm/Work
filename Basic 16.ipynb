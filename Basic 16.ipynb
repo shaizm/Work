{
 "cells": [
  {
   "cell_type": "code",
   "execution_count": 22,
   "id": "e7115ca8",
   "metadata": {},
   "outputs": [
    {
     "name": "stdout",
     "output_type": "stream",
     "text": [
      "Enter the principle amount: 69000\n",
      "Enter the rate of interest: 9\n",
      "Enter the duration of loan: 0.75\n",
      "The SI is: 4657.5\n",
      "The final amount is: 73657.5\n"
     ]
    }
   ],
   "source": [
    "p = float(input(\"Enter the principle amount: \"))\n",
    "r = float(input(\"Enter the rate of interest: \"))\n",
    "t = float(input(\"Enter the duration of loan: \"))\n",
    "\n",
    "S = (p*r*t)/100\n",
    "A = p+(p*r*t)/100\n",
    "\n",
    "print (\"The SI is: {}\".format(S))\n",
    "print (\"The final amount is: {}\".format(A))"
   ]
  }
 ],
 "metadata": {
  "kernelspec": {
   "display_name": "Python 3 (ipykernel)",
   "language": "python",
   "name": "python3"
  },
  "language_info": {
   "codemirror_mode": {
    "name": "ipython",
    "version": 3
   },
   "file_extension": ".py",
   "mimetype": "text/x-python",
   "name": "python",
   "nbconvert_exporter": "python",
   "pygments_lexer": "ipython3",
   "version": "3.9.2"
  }
 },
 "nbformat": 4,
 "nbformat_minor": 5
}
