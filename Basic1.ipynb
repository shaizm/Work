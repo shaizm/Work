{
 "cells": [
  {
   "cell_type": "code",
   "execution_count": 10,
   "id": "d04ccd10",
   "metadata": {},
   "outputs": [
    {
     "name": "stdout",
     "output_type": "stream",
     "text": [
      "9\n"
     ]
    }
   ],
   "source": [
    "# add array\n",
    "arr = [2, 3, 4]\n",
    "\n",
    "su = sum(arr)\n",
    "print(su)"
   ]
  },
  {
   "cell_type": "code",
   "execution_count": 16,
   "id": "f8853ef0",
   "metadata": {},
   "outputs": [
    {
     "name": "stdout",
     "output_type": "stream",
     "text": [
      "5\n",
      "2 3 5 7 8\n"
     ]
    },
    {
     "data": {
      "text/plain": [
       "25"
      ]
     },
     "execution_count": 16,
     "metadata": {},
     "output_type": "execute_result"
    }
   ],
   "source": [
    "#add array by taking input from user\n",
    "n = int(input())\n",
    "arr = input()   # takes the whole line of n numbers\n",
    "l = list(map(int,arr.split(' '))) # split those numbers wi\n",
    "total = sum(l)\n",
    "total"
   ]
  }
 ],
 "metadata": {
  "kernelspec": {
   "display_name": "Python 3 (ipykernel)",
   "language": "python",
   "name": "python3"
  },
  "language_info": {
   "codemirror_mode": {
    "name": "ipython",
    "version": 3
   },
   "file_extension": ".py",
   "mimetype": "text/x-python",
   "name": "python",
   "nbconvert_exporter": "python",
   "pygments_lexer": "ipython3",
   "version": "3.9.2"
  }
 },
 "nbformat": 4,
 "nbformat_minor": 5
}
