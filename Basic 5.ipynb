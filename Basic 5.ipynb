{
 "cells": [
  {
   "cell_type": "code",
   "execution_count": null,
   "id": "f23d8de3",
   "metadata": {},
   "outputs": [],
   "source": [
    "# Write a program which will find all such numbers which are divisible \n",
    "# by 7 but are not a multiple of 5, between 2000 and 3200 \n",
    "# (both included).The numbers obtained should be printed \n",
    "# in a comma-separated sequence on a single line\n"
   ]
  },
  {
   "cell_type": "code",
   "execution_count": 14,
   "id": "623acb86",
   "metadata": {},
   "outputs": [
    {
     "name": "stdout",
     "output_type": "stream",
     "text": [
      "[2002, 2009, 2016, 2023, 2037, 2044, 2051, 2058, 2072, 2079, 2086, 2093, 2107, 2114, 2121, 2128, 2142, 2149, 2156, 2163, 2177, 2184, 2191, 2198, 2212, 2219, 2226, 2233, 2247, 2254, 2261, 2268, 2282, 2289, 2296, 2303, 2317, 2324, 2331, 2338, 2352, 2359, 2366, 2373, 2387, 2394, 2401, 2408, 2422, 2429, 2436, 2443, 2457, 2464, 2471, 2478, 2492, 2499, 2506, 2513, 2527, 2534, 2541, 2548, 2562, 2569, 2576, 2583, 2597, 2604, 2611, 2618, 2632, 2639, 2646, 2653, 2667, 2674, 2681, 2688, 2702, 2709, 2716, 2723, 2737, 2744, 2751, 2758, 2772, 2779, 2786, 2793, 2807, 2814, 2821, 2828, 2842, 2849, 2856, 2863, 2877, 2884, 2891, 2898, 2912, 2919, 2926, 2933, 2947, 2954, 2961, 2968, 2982, 2989, 2996]\n"
     ]
    }
   ],
   "source": [
    "#1\n",
    "num = []\n",
    "for i in range (2000, 3001):\n",
    "    if i%7 == 0 and i%5 != 0:\n",
    "        num.append(i)\n",
    "print(num)"
   ]
  },
  {
   "cell_type": "code",
   "execution_count": 8,
   "id": "98816d8b",
   "metadata": {},
   "outputs": [
    {
     "name": "stdout",
     "output_type": "stream",
     "text": [
      "2002,2009,2016,2023,2037,2044,2051,2058,2072,2079,2086,2093,2107,2114,2121,2128,2142,2149,2156,2163,2177,2184,2191,2198,2212,2219,2226,2233,2247,2254,2261,2268,2282,2289,2296,2303,2317,2324,2331,2338,2352,2359,2366,2373,2387,2394,2401,2408,2422,2429,2436,2443,2457,2464,2471,2478,2492,2499,2506,2513,2527,2534,2541,2548,2562,2569,2576,2583,2597,2604,2611,2618,2632,2639,2646,2653,2667,2674,2681,2688,2702,2709,2716,2723,2737,2744,2751,2758,2772,2779,2786,2793,2807,2814,2821,2828,2842,2849,2856,2863,2877,2884,2891,2898,2912,2919,2926,2933,2947,2954,2961,2968,2982,2989,2996\n"
     ]
    }
   ],
   "source": [
    "#1\n",
    "l=[]\n",
    "for i in range(2000, 3001):\n",
    "    if (i%7==0) and (i%5!=0):\n",
    "        l.append(str(i))\n",
    "\n",
    "print (','.join(l))"
   ]
  },
  {
   "cell_type": "code",
   "execution_count": null,
   "id": "241df62a",
   "metadata": {},
   "outputs": [],
   "source": [
    "# Write a program which can compute the factorial of a given numbers.\n",
    "# The results should be printed in a comma-separated sequence on a \n",
    "# single line.Suppose the following input is supplied to the \n",
    "# program: 8 Then, the output should be:40320"
   ]
  },
  {
   "cell_type": "code",
   "execution_count": 26,
   "id": "ad0b3c2c",
   "metadata": {},
   "outputs": [
    {
     "name": "stdout",
     "output_type": "stream",
     "text": [
      "6\n"
     ]
    },
    {
     "data": {
      "text/plain": [
       "720"
      ]
     },
     "execution_count": 26,
     "metadata": {},
     "output_type": "execute_result"
    }
   ],
   "source": [
    "#2\n",
    "num = int(input())\n",
    "def fact(n):\n",
    "    if n==0 or n==1:\n",
    "        return 1\n",
    "    else:\n",
    "        return (n*fact(n-1))\n",
    "fact(num)\n",
    "\n",
    "\n",
    "\n",
    "# def factorial(n):\n",
    "#     return (1 if (n==0 or n==1) else n*factorial(n-1))\n",
    "    \n",
    "# num = int(input())\n",
    "# print(\"The factorial of the number is:\", factorial(num))\n"
   ]
  },
  {
   "cell_type": "code",
   "execution_count": null,
   "id": "17fce042",
   "metadata": {},
   "outputs": [],
   "source": [
    "# With a given integral number n, write a program to generate a dictionary that contains (i, i x i) \n",
    "# such that is an integral number between 1 and n (both included). and then the program should print \n",
    "# the dictionary.Suppose the following input is supplied to the program: 8"
   ]
  },
  {
   "cell_type": "code",
   "execution_count": 35,
   "id": "a2024c1d",
   "metadata": {},
   "outputs": [
    {
     "name": "stdout",
     "output_type": "stream",
     "text": [
      "5\n",
      "{0: 0, 1: 1, 2: 4, 3: 9, 4: 16, 5: 25}\n"
     ]
    }
   ],
   "source": [
    "#3\n",
    "a = int(input())\n",
    "ans={}\n",
    "def dic(x):\n",
    "    for x in range (0, x+1):\n",
    "        ans[x] = x*x\n",
    "dic(a)\n",
    "print(ans)"
   ]
  },
  {
   "cell_type": "code",
   "execution_count": 44,
   "id": "ccf0af95",
   "metadata": {},
   "outputs": [
    {
     "name": "stdout",
     "output_type": "stream",
     "text": [
      "5\n",
      "{0: 0, 1: 1, 2: 4, 3: 9, 4: 16, 5: 25}\n"
     ]
    }
   ],
   "source": [
    "#3\n",
    "a = int(input())\n",
    "def dic(x):\n",
    "    c ={x:x*x for x in range (0,x+1)}\n",
    "dic(a)\n",
    "print(c)"
   ]
  },
  {
   "cell_type": "code",
   "execution_count": null,
   "id": "f0ed5718",
   "metadata": {},
   "outputs": [],
   "source": [
    "# Write a program which accepts a sequence of comma-separated numbers from console \n",
    "# and generate a list and a tuple which contains every number.Suppose the following \n",
    "# input is supplied to the program"
   ]
  },
  {
   "cell_type": "code",
   "execution_count": 46,
   "id": "f13b3fb9",
   "metadata": {},
   "outputs": [
    {
     "name": "stdout",
     "output_type": "stream",
     "text": [
      "1,2,3\n",
      "['1', '2', '3']\n",
      "('1', '2', '3')\n"
     ]
    }
   ],
   "source": [
    "#4\n",
    "a = input()\n",
    "x = a.split(',')\n",
    "print (x)\n",
    "print (tuple(x))"
   ]
  },
  {
   "cell_type": "code",
   "execution_count": null,
   "id": "2021e960",
   "metadata": {},
   "outputs": [],
   "source": [
    "#     Write a program that calculates and prints the value according to the given formula:\n",
    "#     Q = Square root of [(2 _ C _ D)/H]\n",
    "#     Following are the fixed values of C and H:\n",
    "#     C is 50. H is 30.\n",
    "#     D is the variable whose values should be input to your program in a comma-separated \n",
    "#     sequence.For example Let us assume the following comma separated input sequence is given to the program: 100,150,180\n"
   ]
  },
  {
   "cell_type": "code",
   "execution_count": 63,
   "id": "d941d89f",
   "metadata": {},
   "outputs": [
    {
     "name": "stdout",
     "output_type": "stream",
     "text": [
      "50,5,12\n",
      "12,4,6\n"
     ]
    }
   ],
   "source": [
    "#5\n",
    "from math import sqrt\n",
    "C,H = 50,30\n",
    "\n",
    "def calc(D):\n",
    "    return sqrt((2*C*D)/H)\n",
    "\n",
    "print(\",\".join([str(int(calc(int(i)))) for i in input().split(',')]))"
   ]
  },
  {
   "cell_type": "code",
   "execution_count": null,
   "id": "7d073455",
   "metadata": {},
   "outputs": [],
   "source": [
    "#6\n"
   ]
  }
 ],
 "metadata": {
  "kernelspec": {
   "display_name": "Python 3 (ipykernel)",
   "language": "python",
   "name": "python3"
  },
  "language_info": {
   "codemirror_mode": {
    "name": "ipython",
    "version": 3
   },
   "file_extension": ".py",
   "mimetype": "text/x-python",
   "name": "python",
   "nbconvert_exporter": "python",
   "pygments_lexer": "ipython3",
   "version": "3.9.2"
  }
 },
 "nbformat": 4,
 "nbformat_minor": 5
}
