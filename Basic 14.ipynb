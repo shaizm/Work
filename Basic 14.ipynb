{
 "cells": [
  {
   "cell_type": "code",
   "execution_count": 69,
   "id": "cb68a4ad",
   "metadata": {},
   "outputs": [
    {
     "name": "stdout",
     "output_type": "stream",
     "text": [
      "{<function lam.<locals>.<lambda> at 0x0000016E6530E550>}\n"
     ]
    }
   ],
   "source": [
    "def lam(x):\n",
    "    return (lambda x:x*2) \n",
    "\n",
    "print(lam(2))"
   ]
  },
  {
   "cell_type": "code",
   "execution_count": null,
   "id": "07c522d5",
   "metadata": {},
   "outputs": [],
   "source": [
    "#Basic user definer function\n",
    "def symb(x):\n",
    "    \"Hu haaa haaa\"\n",
    "    return x*2\n",
    "symb(x)"
   ]
  },
  {
   "cell_type": "code",
   "execution_count": 3,
   "id": "97392a96",
   "metadata": {},
   "outputs": [
    {
     "name": "stdout",
     "output_type": "stream",
     "text": [
      "cannot divide by zero\n"
     ]
    }
   ],
   "source": [
    "#try and except\n",
    "try:\n",
    "    print(0/0)\n",
    "except ZeroDivisionError:\n",
    "    print(\"cannot divide by zero\")\n",
    "    \n",
    "    "
   ]
  },
  {
   "cell_type": "code",
   "execution_count": 51,
   "id": "0ebc9176",
   "metadata": {},
   "outputs": [
    {
     "data": {
      "text/plain": [
       "2"
      ]
     },
     "execution_count": 51,
     "metadata": {},
     "output_type": "execute_result"
    }
   ],
   "source": [
    "#Dictionary\n",
    "new_dish = {\"car\":1, \"Bus\":2, \"cycle\":3}\n",
    "new_dish['van'] = 4\n",
    "value = new_dish[\"Bus\"]\n",
    "new_dish['truck'] = [1,5,'cat', 10.5]\n",
    "value"
   ]
  },
  {
   "cell_type": "code",
   "execution_count": 52,
   "id": "7d772d92",
   "metadata": {},
   "outputs": [
    {
     "data": {
      "text/plain": [
       "{'car': 1, 'Bus': 2, 'cycle': 3, 'van': 4, 'truck': [1, 5, 'cat', 10.5]}"
      ]
     },
     "execution_count": 52,
     "metadata": {},
     "output_type": "execute_result"
    }
   ],
   "source": [
    "new_dish"
   ]
  },
  {
   "cell_type": "code",
   "execution_count": 53,
   "id": "0a1fd2fe",
   "metadata": {},
   "outputs": [
    {
     "data": {
      "text/plain": [
       "5"
      ]
     },
     "execution_count": 53,
     "metadata": {},
     "output_type": "execute_result"
    }
   ],
   "source": [
    "len(new_dish)"
   ]
  },
  {
   "cell_type": "code",
   "execution_count": 55,
   "id": "bde372bb",
   "metadata": {},
   "outputs": [
    {
     "data": {
      "text/plain": [
       "True"
      ]
     },
     "execution_count": 55,
     "metadata": {},
     "output_type": "execute_result"
    }
   ],
   "source": [
    "#check if key is present in Dictionary\n",
    "'cycle' in new_dish"
   ]
  },
  {
   "cell_type": "code",
   "execution_count": 26,
   "id": "19e4ab04",
   "metadata": {},
   "outputs": [
    {
     "data": {
      "text/plain": [
       "dict_keys(['car', 'Bus', 'cycle', 'van', 'truck'])"
      ]
     },
     "execution_count": 26,
     "metadata": {},
     "output_type": "execute_result"
    }
   ],
   "source": [
    "#print all keys of the dictionary\n",
    "new_dish.keys()"
   ]
  },
  {
   "cell_type": "code",
   "execution_count": 27,
   "id": "156eaa65",
   "metadata": {},
   "outputs": [
    {
     "data": {
      "text/plain": [
       "dict_values([1, 2, 3, 4, [1, 5, 'cat', 10.5]])"
      ]
     },
     "execution_count": 27,
     "metadata": {},
     "output_type": "execute_result"
    }
   ],
   "source": [
    "#print all values  of the dictionary\n",
    "new_dish.values()"
   ]
  },
  {
   "cell_type": "code",
   "execution_count": 31,
   "id": "28cce1d6",
   "metadata": {},
   "outputs": [
    {
     "data": {
      "text/plain": [
       "dict_items([('car', 1), ('Bus', 2), ('cycle', 3), ('van', 4), ('truck', [1, 5, 'cat', 10.5])])"
      ]
     },
     "execution_count": 31,
     "metadata": {},
     "output_type": "execute_result"
    }
   ],
   "source": [
    "#print all items of dictionary as a list\n",
    "new_dish.items()"
   ]
  },
  {
   "cell_type": "code",
   "execution_count": 57,
   "id": "5d3e2e9c",
   "metadata": {},
   "outputs": [
    {
     "data": {
      "text/plain": [
       "[('car', 1),\n",
       " ('Bus', 2),\n",
       " ('cycle', 3),\n",
       " ('van', 4),\n",
       " ('truck', [1, 5, 'cat', 10.5])]"
      ]
     },
     "execution_count": 57,
     "metadata": {},
     "output_type": "execute_result"
    }
   ],
   "source": [
    "#turn the dictionary into a list\n",
    "list_it  = list(new_dish.items())\n",
    "list_it"
   ]
  },
  {
   "cell_type": "code",
   "execution_count": 36,
   "id": "f5f8972a",
   "metadata": {},
   "outputs": [],
   "source": [
    "#writing a file with some words\n",
    "filename = open('G:\\Others\\Data Science - TYPE A\\cardinal test.txt', 'a')\n",
    "addition = \"tiger cat lion platypus horse bug horse lion elephant lion lion elephant lion elephant lion lion elephant lion elephant lion lion elephant\"\n",
    "filename.write(addition)\n",
    "filename.close()"
   ]
  },
  {
   "cell_type": "code",
   "execution_count": 27,
   "id": "d22d8526",
   "metadata": {},
   "outputs": [
    {
     "name": "stdout",
     "output_type": "stream",
     "text": [
      "['tiger', 'cat', 'lion', 'lion', 'elephanttiger', 'cat', 'lion', 'platypus', 'horse', 'bug', 'horse', 'lion', 'elephant', 'lion', 'lion', 'elephant', 'lion', 'elephant', 'lion', 'lion', 'elephant', 'lion', 'elephant', 'lion', 'lion', 'elephanttiger', 'cat', 'lion', 'platypus', 'horse', 'bug', 'horse', 'lion', 'elephant', 'lion', 'lion', 'elephant', 'lion', 'elephant', 'lion', 'lion', 'elephant', 'lion', 'elephant', 'lion', 'lion', 'elephanttiger', 'cat', 'lion', 'platypus', 'horse', 'bug', 'horse', 'lion', 'elephant', 'lion', 'lion', 'elephant', 'lion', 'elephant', 'lion', 'lion', 'elephant', 'lion', 'elephant', 'lion', 'lion', 'elephanttiger', 'cat', 'lion', 'platypus', 'horse', 'bug', 'horse', 'lion', 'elephant', 'lion', 'lion', 'elephant', 'lion', 'elephant', 'lion', 'lion', 'elephant', 'lion', 'elephant', 'lion', 'lion', 'elephant']\n"
     ]
    }
   ],
   "source": [
    "#opening the document for word counting\n",
    "import pandas as pd\n",
    "file = open('G:\\Others\\Data Science - TYPE A\\cardinal test.txt')\n",
    "reading = file.read()\n",
    "a = reading.split()\n",
    "print(a)"
   ]
  },
  {
   "cell_type": "code",
   "execution_count": 39,
   "id": "2857f516",
   "metadata": {},
   "outputs": [
    {
     "name": "stdout",
     "output_type": "stream",
     "text": [
      "{'tiger': 1, 'cat': 5, 'lion': 42, 'elephanttiger': 4, 'platypus': 4, 'horse': 8, 'bug': 4, 'elephant': 21}\n"
     ]
    }
   ],
   "source": [
    "##and to count the number of words with dict\n",
    "new_dict = {}\n",
    "for word in a:\n",
    "    if word in new_dict:\n",
    "        new_dict[word] += 1\n",
    "    else:\n",
    "        new_dict[word] = 1\n",
    "print(new_dict)"
   ]
  },
  {
   "cell_type": "code",
   "execution_count": 43,
   "id": "37ba680d",
   "metadata": {},
   "outputs": [
    {
     "name": "stdout",
     "output_type": "stream",
     "text": [
      "defaultdict(<class 'int'>, {'tiger': 1, 'cat': 5, 'lion': 42, 'elephanttiger': 4, 'platypus': 4, 'horse': 8, 'bug': 4, 'elephant': 21})\n"
     ]
    }
   ],
   "source": [
    "#and to count the number of words using defaultdict\n",
    "from collections import defaultdict\n",
    "new_dict = defaultdict(int)\n",
    "for word in a:\n",
    "    new_dict[word]+= 1\n",
    "print(new_dict)"
   ]
  },
  {
   "cell_type": "code",
   "execution_count": 49,
   "id": "ceb3f97b",
   "metadata": {},
   "outputs": [
    {
     "name": "stdout",
     "output_type": "stream",
     "text": [
      "('lion', 42)\n",
      "('elephant', 21)\n"
     ]
    }
   ],
   "source": [
    "#to look for 2 most repeated word in the document\n",
    "#and to count the number of words using Counter\n",
    "from collections import Counter\n",
    "\n",
    "counting = Counter(a)\n",
    "for word in counting.most_common(2):\n",
    "    print (word)"
   ]
  },
  {
   "cell_type": "code",
   "execution_count": 21,
   "id": "40b4c5de",
   "metadata": {},
   "outputs": [
    {
     "data": {
      "text/plain": [
       "'10RS'"
      ]
     },
     "execution_count": 21,
     "metadata": {},
     "output_type": "execute_result"
    }
   ],
   "source": [
    "#making and using  a dict\n",
    "icecream = {\"apple\":'10RS',(\"lemon\",\"orange\"):\"20Rs\", \"chocolate\":\"25Rs\",\"BlackBerry\":\"30Rs\",\"chocochip\":\"35Rs\"}\n",
    "icecream['straberry'] = \"22Rs\"\n",
    "buy = icecream[(\"apple\")]\n",
    "buy"
   ]
  },
  {
   "cell_type": "code",
   "execution_count": 9,
   "id": "6201f4f2",
   "metadata": {},
   "outputs": [
    {
     "ename": "KeyError",
     "evalue": "'coconut'",
     "output_type": "error",
     "traceback": [
      "\u001b[1;31m---------------------------------------------------------------------------\u001b[0m",
      "\u001b[1;31mKeyError\u001b[0m                                  Traceback (most recent call last)",
      "\u001b[1;32m~\\AppData\\Local\\Temp/ipykernel_1704/3877565875.py\u001b[0m in \u001b[0;36m<module>\u001b[1;34m\u001b[0m\n\u001b[0;32m      1\u001b[0m \u001b[1;31m#looking at key error that appear when elements are not present\u001b[0m\u001b[1;33m\u001b[0m\u001b[1;33m\u001b[0m\u001b[1;33m\u001b[0m\u001b[0m\n\u001b[1;32m----> 2\u001b[1;33m \u001b[0mcant_buy\u001b[0m \u001b[1;33m=\u001b[0m \u001b[0micecream\u001b[0m\u001b[1;33m[\u001b[0m\u001b[1;34m'coconut'\u001b[0m\u001b[1;33m]\u001b[0m\u001b[1;33m\u001b[0m\u001b[1;33m\u001b[0m\u001b[0m\n\u001b[0m\u001b[0;32m      3\u001b[0m \u001b[0mcant_buy\u001b[0m\u001b[1;33m\u001b[0m\u001b[1;33m\u001b[0m\u001b[0m\n",
      "\u001b[1;31mKeyError\u001b[0m: 'coconut'"
     ]
    }
   ],
   "source": [
    "#looking at key error that appear when elements are not present\n",
    "cant_buy = icecream['coconut']\n",
    "cant_buy"
   ]
  },
  {
   "cell_type": "code",
   "execution_count": 11,
   "id": "7f3a5289",
   "metadata": {},
   "outputs": [
    {
     "data": {
      "text/plain": [
       "dict_items([('litchi', '45Rs'), ('rambutan', '50Rs')])"
      ]
     },
     "execution_count": 11,
     "metadata": {},
     "output_type": "execute_result"
    }
   ],
   "source": [
    "#using default dict\n",
    "from collections import defaultdict\n",
    "def avoiding():\n",
    "    return \"Element not found\"\n",
    "\n",
    "icecream2 = defaultdict(avoiding)\n",
    "icecream2['litchi'] = '45Rs'\n",
    "icecream2['rambutan'] = '50Rs'\n",
    "item = icecream2.items()\n",
    "item\n",
    "\n"
   ]
  },
  {
   "cell_type": "code",
   "execution_count": 24,
   "id": "f1d42e9a",
   "metadata": {},
   "outputs": [
    {
     "ename": "NameError",
     "evalue": "name 'default_factory' is not defined",
     "output_type": "error",
     "traceback": [
      "\u001b[1;31m---------------------------------------------------------------------------\u001b[0m",
      "\u001b[1;31mNameError\u001b[0m                                 Traceback (most recent call last)",
      "\u001b[1;32m~\\AppData\\Local\\Temp/ipykernel_1704/3202798481.py\u001b[0m in \u001b[0;36m<module>\u001b[1;34m\u001b[0m\n\u001b[1;32m----> 1\u001b[1;33m \u001b[0micecream2\u001b[0m \u001b[1;33m=\u001b[0m \u001b[0mdefaultdict\u001b[0m\u001b[1;33m(\u001b[0m\u001b[0mdefault_factory\u001b[0m\u001b[1;33m)\u001b[0m\u001b[1;33m\u001b[0m\u001b[1;33m\u001b[0m\u001b[0m\n\u001b[0m\u001b[0;32m      2\u001b[0m \u001b[0micecream2\u001b[0m\u001b[1;33m[\u001b[0m\u001b[1;34m'litchi'\u001b[0m\u001b[1;33m]\u001b[0m \u001b[1;33m=\u001b[0m \u001b[1;34m'45Rs'\u001b[0m\u001b[1;33m\u001b[0m\u001b[1;33m\u001b[0m\u001b[0m\n\u001b[0;32m      3\u001b[0m \u001b[0micecream2\u001b[0m\u001b[1;33m[\u001b[0m\u001b[1;34m'rambutan'\u001b[0m\u001b[1;33m]\u001b[0m \u001b[1;33m=\u001b[0m \u001b[1;34m'50Rs'\u001b[0m\u001b[1;33m\u001b[0m\u001b[1;33m\u001b[0m\u001b[0m\n\u001b[0;32m      4\u001b[0m \u001b[0mbuy\u001b[0m \u001b[1;33m=\u001b[0m \u001b[0micecream2\u001b[0m\u001b[1;33m[\u001b[0m\u001b[1;34m'moosambi'\u001b[0m\u001b[1;33m]\u001b[0m\u001b[1;33m\u001b[0m\u001b[1;33m\u001b[0m\u001b[0m\n\u001b[0;32m      5\u001b[0m \u001b[0mbuy\u001b[0m\u001b[1;33m\u001b[0m\u001b[1;33m\u001b[0m\u001b[0m\n",
      "\u001b[1;31mNameError\u001b[0m: name 'default_factory' is not defined"
     ]
    }
   ],
   "source": [
    "#demonstration of error when default dict has no value passed \n",
    "icecream2 = defaultdict(default_factory)\n",
    "icecream2['litchi'] = '45Rs'\n",
    "icecream2['rambutan'] = '50Rs'\n",
    "buy = icecream2['moosambi']\n",
    "buy\n"
   ]
  },
  {
   "cell_type": "code",
   "execution_count": 14,
   "id": "bb8c8f93",
   "metadata": {},
   "outputs": [
    {
     "name": "stdout",
     "output_type": "stream",
     "text": [
      "45Rs\n",
      "Element not found\n"
     ]
    }
   ],
   "source": [
    "#defaultdict at work\n",
    "buy = icecream2['litchi']\n",
    "cant_buy = icecream2['mango']\n",
    "print (buy)\n",
    "print(cant_buy)"
   ]
  },
  {
   "cell_type": "code",
   "execution_count": 6,
   "id": "e6d629d5",
   "metadata": {},
   "outputs": [
    {
     "name": "stdout",
     "output_type": "stream",
     "text": [
      "dict_keys(['vanila', 'chocolate', 'BlackBerry', 'chocochip', 'straberry'])\n"
     ]
    }
   ],
   "source": [
    "#printing all keys of a dict\n",
    "keys = icecream.keys()\n",
    "print(keys)"
   ]
  },
  {
   "cell_type": "code",
   "execution_count": 7,
   "id": "322b57d3",
   "metadata": {},
   "outputs": [
    {
     "name": "stdout",
     "output_type": "stream",
     "text": [
      "dict_values(['20Rs', '25Rs', '30Rs', '35Rs', '22Rs'])\n"
     ]
    }
   ],
   "source": [
    "#printing all values of a dict\n",
    "value = icecream.values()\n",
    "print(value)"
   ]
  },
  {
   "cell_type": "code",
   "execution_count": 8,
   "id": "eee4d2e7",
   "metadata": {},
   "outputs": [
    {
     "data": {
      "text/plain": [
       "dict_items([('vanila', '20Rs'), ('chocolate', '25Rs'), ('BlackBerry', '30Rs'), ('chocochip', '35Rs'), ('straberry', '22Rs')])"
      ]
     },
     "execution_count": 8,
     "metadata": {},
     "output_type": "execute_result"
    }
   ],
   "source": [
    "#printing all items of a dict\n",
    "item = icecream.items()\n",
    "item"
   ]
  },
  {
   "cell_type": "code",
   "execution_count": 30,
   "id": "d610612b",
   "metadata": {},
   "outputs": [
    {
     "name": "stdout",
     "output_type": "stream",
     "text": [
      "Counter({'lion': 42, 'elephant': 21, 'horse': 8, 'cat': 5, 'elephanttiger': 4, 'platypus': 4, 'bug': 4, 'tiger': 1})\n"
     ]
    }
   ],
   "source": [
    "#word count using Counting\n",
    "from collections import Counter\n",
    "count = Counter(a)\n",
    "print(count)"
   ]
  },
  {
   "cell_type": "code",
   "execution_count": 36,
   "id": "fa5e068d",
   "metadata": {},
   "outputs": [
    {
     "name": "stdout",
     "output_type": "stream",
     "text": [
      "{2, 5, 7}\n",
      "lenth of set \"s\" is : 3\n"
     ]
    }
   ],
   "source": [
    "#Set datatype \n",
    "s = set()\n",
    "a = s.add(2)\n",
    "b = s.add(5)\n",
    "c = s.add(7)\n",
    "d = s.add(2)\n",
    "print(s)\n",
    "print(\"lenth of set \\\"s\\\" is :\", len(s))\n"
   ]
  },
  {
   "cell_type": "code",
   "execution_count": 56,
   "id": "d7653122",
   "metadata": {},
   "outputs": [
    {
     "data": {
      "text/plain": [
       "[4, 3, -2, -8]"
      ]
     },
     "execution_count": 56,
     "metadata": {},
     "output_type": "execute_result"
    }
   ],
   "source": [
    "#to sort elements of a list\n",
    "x = [4,-2,-8,3]\n",
    "y = sorted(x, reverse = True)\n",
    "#y = sorted(x, key= abs, reverse = True)\n",
    "#x.sort(reverse = True)\n",
    "y"
   ]
  },
  {
   "cell_type": "code",
   "execution_count": 49,
   "id": "0360bf5c",
   "metadata": {},
   "outputs": [
    {
     "data": {
      "text/plain": [
       "[8, 4, 3, 2]"
      ]
     },
     "execution_count": 49,
     "metadata": {},
     "output_type": "execute_result"
    }
   ],
   "source": [
    "x"
   ]
  },
  {
   "cell_type": "code",
   "execution_count": 61,
   "id": "812b41f3",
   "metadata": {},
   "outputs": [
    {
     "data": {
      "text/plain": [
       "[0, 1, 4, 9, 16]"
      ]
     },
     "execution_count": 61,
     "metadata": {},
     "output_type": "execute_result"
    }
   ],
   "source": [
    "#making list using list\n",
    "a = [2,-2,8,5]\n",
    "b = [x for x in range(5) if x%2==0]\n",
    "c = [x*x for x in b]\n",
    "d = [x*x for x in range(5)]\n",
    "d"
   ]
  },
  {
   "cell_type": "code",
   "execution_count": 64,
   "id": "19b5ad8d",
   "metadata": {},
   "outputs": [
    {
     "data": {
      "text/plain": [
       "{0: 0, 1: 1, 2: 4, 3: 9, 4: 16}"
      ]
     },
     "execution_count": 64,
     "metadata": {},
     "output_type": "execute_result"
    }
   ],
   "source": [
    "dict_of_list = {x:x*x for x in range(5)}\n",
    "dict_of_list"
   ]
  },
  {
   "cell_type": "code",
   "execution_count": 81,
   "id": "d1acfaa7",
   "metadata": {},
   "outputs": [
    {
     "data": {
      "text/plain": [
       "[(0, 1), (0, 2), (1, 2)]"
      ]
     },
     "execution_count": 81,
     "metadata": {},
     "output_type": "execute_result"
    }
   ],
   "source": [
    "#dict using multiple for condition\n",
    "e = [(x,y) for x in range(4) \n",
    "     for y in range(x+1,3)]\n",
    "e"
   ]
  },
  {
   "cell_type": "code",
   "execution_count": 14,
   "id": "2a07e571",
   "metadata": {},
   "outputs": [
    {
     "name": "stdout",
     "output_type": "stream",
     "text": [
      "[1, 4, 9, 16, 25, 36, 49, 64, 81]\n"
     ]
    }
   ],
   "source": [
    "l = []\n",
    "def itr(n):\n",
    "    i = 1\n",
    "    while i<n:\n",
    "        l.append(i*i)\n",
    "    \n",
    "        i += 1\n",
    "itr(10)\n",
    "print(l)"
   ]
  },
  {
   "cell_type": "code",
   "execution_count": 23,
   "id": "165903a7",
   "metadata": {},
   "outputs": [
    {
     "name": "stdout",
     "output_type": "stream",
     "text": [
      "1\n",
      "4\n",
      "9\n",
      "16\n",
      "25\n",
      "36\n",
      "49\n",
      "64\n",
      "81\n"
     ]
    }
   ],
   "source": [
    "def yielder(n):\n",
    "    i = 1\n",
    "    while i<n:\n",
    "        yield(i*i)\n",
    "        i += 1\n",
    "\n",
    "for i in yielder(10):\n",
    "    print(i)\n"
   ]
  },
  {
   "cell_type": "code",
   "execution_count": 32,
   "id": "b558215e",
   "metadata": {},
   "outputs": [
    {
     "data": {
      "text/plain": [
       "0.9163453718085519"
      ]
     },
     "execution_count": 32,
     "metadata": {},
     "output_type": "execute_result"
    }
   ],
   "source": [
    "import random as ram\n",
    "ram.random()"
   ]
  },
  {
   "cell_type": "code",
   "execution_count": 13,
   "id": "39b5c0e2",
   "metadata": {},
   "outputs": [
    {
     "data": {
      "text/plain": [
       "0.6229016948897019"
      ]
     },
     "execution_count": 13,
     "metadata": {},
     "output_type": "execute_result"
    }
   ],
   "source": [
    "#to create random number repeatedly\n",
    "ram.seed(5)\n",
    "ram.random()"
   ]
  },
  {
   "cell_type": "code",
   "execution_count": 56,
   "id": "e863a856",
   "metadata": {},
   "outputs": [
    {
     "data": {
      "text/plain": [
       "4"
      ]
     },
     "execution_count": 56,
     "metadata": {},
     "output_type": "execute_result"
    }
   ],
   "source": [
    "    ram.randrange(1,7)"
   ]
  },
  {
   "cell_type": "code",
   "execution_count": 40,
   "id": "52be61dd",
   "metadata": {},
   "outputs": [
    {
     "name": "stdout",
     "output_type": "stream",
     "text": [
      "[4, 5, 2, 3, 1]\n"
     ]
    }
   ],
   "source": [
    "a =[1,2,3,4,5]\n",
    "ram.shuffle(a)\n",
    "print (a)"
   ]
  },
  {
   "cell_type": "code",
   "execution_count": 67,
   "id": "7ae734a1",
   "metadata": {},
   "outputs": [
    {
     "data": {
      "text/plain": [
       "4"
      ]
     },
     "execution_count": 67,
     "metadata": {},
     "output_type": "execute_result"
    }
   ],
   "source": [
    "ram.choice(a)"
   ]
  },
  {
   "cell_type": "code",
   "execution_count": 70,
   "id": "e37abade",
   "metadata": {},
   "outputs": [
    {
     "data": {
      "text/plain": [
       "[4, 3, 5, 2]"
      ]
     },
     "execution_count": 70,
     "metadata": {},
     "output_type": "execute_result"
    }
   ],
   "source": [
    "ram.sample(a,4)"
   ]
  },
  {
   "cell_type": "code",
   "execution_count": 116,
   "id": "2848743b",
   "metadata": {},
   "outputs": [
    {
     "data": {
      "text/plain": [
       "[5, 20, 43, 38, 31, 45, 22, 41, 23, 3]"
      ]
     },
     "execution_count": 116,
     "metadata": {},
     "output_type": "execute_result"
    }
   ],
   "source": [
    "ram.sample(range(50),10)"
   ]
  },
  {
   "cell_type": "code",
   "execution_count": 128,
   "id": "0886cce8",
   "metadata": {},
   "outputs": [
    {
     "name": "stdout",
     "output_type": "stream",
     "text": [
      "4\n"
     ]
    }
   ],
   "source": [
    "class hero():\n",
    "    x=4\n",
    "\n",
    "a = hero()\n",
    "print(a.x)"
   ]
  },
  {
   "cell_type": "code",
   "execution_count": 138,
   "id": "304beccb",
   "metadata": {},
   "outputs": [
    {
     "name": "stdout",
     "output_type": "stream",
     "text": [
      "heena\n"
     ]
    }
   ],
   "source": [
    "class family():\n",
    "    def __init__(self, name, age):\n",
    "        self.name = name\n",
    "        self.age = age\n",
    "\n",
    "member1 = family('heena', 21)\n",
    "member2 = family('shaiz', 28)\n",
    "member3 = family('shamshad', 52)\n",
    "member4 = family('zameer', 60)\n",
    "print(member1.name)"
   ]
  },
  {
   "cell_type": "code",
   "execution_count": 6,
   "id": "a6f5d119",
   "metadata": {},
   "outputs": [
    {
     "name": "stdout",
     "output_type": "stream",
     "text": [
      "These are my family members:heena\n",
      "These are my family members:shaiz\n",
      "These are my family members:shamshad\n",
      "These are my family members:zameer\n"
     ]
    }
   ],
   "source": [
    "class family():\n",
    "    def __init__(self, name, age):\n",
    "        self.name = name\n",
    "        self.age = age\n",
    "        \n",
    "    def myfunct(self):\n",
    "        print(\"These are my family members:{}\".format(self.name, self.age))\n",
    "\n",
    "member1 = family('heena', 21)\n",
    "member2 = family('shaiz', 28)\n",
    "member3 = family('shamshad', 52)\n",
    "member4 = family('zameer', 60)\n",
    "\n",
    "member1.myfunct()\n",
    "member2.myfunct()\n",
    "member3.myfunct()\n",
    "member4.myfunct()"
   ]
  },
  {
   "cell_type": "code",
   "execution_count": null,
   "id": "92f45c20",
   "metadata": {},
   "outputs": [],
   "source": [
    "class Set:\n",
    "    def __init__(self, values=None):\n",
    "        \"\"\"This is constructor\n",
    "        use it\"\"\"\n",
    "        \n",
    "        s1 = Set()\n",
    "        s2 = Set([1,2,3,4])\n",
    "        \n",
    "        self.dict = {}\n",
    "        \n",
    "        if values is not None:\n",
    "            for value in values:\n",
    "                self.add(value)\n",
    "            \n",
    "a = Set()\n",
    "a.s1()"
   ]
  },
  {
   "cell_type": "code",
   "execution_count": 5,
   "id": "35436bdb",
   "metadata": {},
   "outputs": [
    {
     "ename": "TypeError",
     "evalue": "__init__() takes 2 positional arguments but 3 were given",
     "output_type": "error",
     "traceback": [
      "\u001b[1;31m---------------------------------------------------------------------------\u001b[0m",
      "\u001b[1;31mTypeError\u001b[0m                                 Traceback (most recent call last)",
      "\u001b[1;32m~\\AppData\\Local\\Temp/ipykernel_15728/287747377.py\u001b[0m in \u001b[0;36m<module>\u001b[1;34m\u001b[0m\n\u001b[0;32m      3\u001b[0m         \u001b[1;32mreturn\u001b[0m \u001b[0mbase\u001b[0m\u001b[1;33m**\u001b[0m\u001b[0mpower\u001b[0m\u001b[1;33m\u001b[0m\u001b[1;33m\u001b[0m\u001b[0m\n\u001b[0;32m      4\u001b[0m \u001b[1;33m\u001b[0m\u001b[0m\n\u001b[1;32m----> 5\u001b[1;33m \u001b[0ma\u001b[0m \u001b[1;33m=\u001b[0m \u001b[0mexp\u001b[0m\u001b[1;33m(\u001b[0m\u001b[1;36m2\u001b[0m\u001b[1;33m,\u001b[0m\u001b[1;36m3\u001b[0m\u001b[1;33m)\u001b[0m\u001b[1;33m\u001b[0m\u001b[1;33m\u001b[0m\u001b[0m\n\u001b[0m\u001b[0;32m      6\u001b[0m \u001b[0mprint\u001b[0m\u001b[1;33m(\u001b[0m\u001b[0ma\u001b[0m\u001b[1;33m.\u001b[0m\u001b[0mexp\u001b[0m\u001b[1;33m)\u001b[0m\u001b[1;33m\u001b[0m\u001b[1;33m\u001b[0m\u001b[0m\n",
      "\u001b[1;31mTypeError\u001b[0m: __init__() takes 2 positional arguments but 3 were given"
     ]
    }
   ],
   "source": [
    "class exp:\n",
    "    def __init__(self, base, power):\n",
    "        return base**power\n",
    "\n",
    "a = exp(2,3)\n",
    "print(a.exp)\n"
   ]
  }
 ],
 "metadata": {
  "kernelspec": {
   "display_name": "Python 3 (ipykernel)",
   "language": "python",
   "name": "python3"
  },
  "language_info": {
   "codemirror_mode": {
    "name": "ipython",
    "version": 3
   },
   "file_extension": ".py",
   "mimetype": "text/x-python",
   "name": "python",
   "nbconvert_exporter": "python",
   "pygments_lexer": "ipython3",
   "version": "3.9.2"
  }
 },
 "nbformat": 4,
 "nbformat_minor": 5
}
