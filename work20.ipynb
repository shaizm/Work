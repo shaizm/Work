{
 "cells": [
  {
   "cell_type": "code",
   "execution_count": 2,
   "id": "7f74be5b",
   "metadata": {},
   "outputs": [
    {
     "name": "stdout",
     "output_type": "stream",
     "text": [
      "abc ab\n",
      "yes\n"
     ]
    }
   ],
   "source": [
    "s1, s2 = map(str, input().split())\n",
    "if s2 in s1:\n",
    "    print('yes')\n",
    "else:\n",
    "    print('no')"
   ]
  },
  {
   "cell_type": "code",
   "execution_count": 4,
   "id": "66630b8c",
   "metadata": {},
   "outputs": [
    {
     "name": "stdout",
     "output_type": "stream",
     "text": [
      "guvi Guvi\n",
      "no\n"
     ]
    }
   ],
   "source": [
    "s1, s2 = map(str, input().split())\n",
    "\n",
    "if s1==s2:\n",
    "     print('yes')\n",
    "else:\n",
    "    print('no')"
   ]
  },
  {
   "cell_type": "code",
   "execution_count": 20,
   "id": "03cd656d",
   "metadata": {},
   "outputs": [
    {
     "name": "stdout",
     "output_type": "stream",
     "text": [
      "codekata\n",
      "tkdc\n"
     ]
    }
   ],
   "source": [
    "s = input()\n",
    "s1 = ''\n",
    "\n",
    "for i in s:\n",
    "    if i in \"AEIOUaeiou\":\n",
    "        continue\n",
    "    else:\n",
    "        s1 = i+s1\n",
    "        \n",
    "if len(s1)>0:\n",
    "    print(s1)\n",
    "else:\n",
    "    print(-1)\n",
    "\n",
    "'''\n",
    "dosen't work because of reversed \n",
    "def printing(x):\n",
    "    if len(s1)>0:\n",
    "        rev = reversed(s1)\n",
    "        print(rev\n",
    "    else:\n",
    "        print(-1)\n",
    "\n",
    "printing(s1)\n",
    "'''"
   ]
  },
  {
   "cell_type": "code",
   "execution_count": 29,
   "id": "79269308",
   "metadata": {},
   "outputs": [
    {
     "name": "stdout",
     "output_type": "stream",
     "text": [
      "codekata\n",
      "['t', 'k', 'd', 'c']\n"
     ]
    }
   ],
   "source": [
    "s = input()\n",
    "s1 = ''\n",
    "\n",
    "for i in s:\n",
    "    if i in \"AEIOUaeiou\":\n",
    "        continue\n",
    "    else:\n",
    "        s1 = s1 + i\n",
    "        #s1 = i+s1\n",
    "\n",
    "def printing(x):\n",
    "    if len(x)>0: \n",
    "        print(list(reversed(x)))\n",
    "    else:\n",
    "        print(-1)\n",
    "        \n",
    "printing(s1)"
   ]
  },
  {
   "cell_type": "code",
   "execution_count": 55,
   "id": "ef6e52b0",
   "metadata": {
    "scrolled": true
   },
   "outputs": [
    {
     "name": "stdout",
     "output_type": "stream",
     "text": [
      "nitin intni\n",
      "1\n"
     ]
    }
   ],
   "source": [
    "s1, s2 = list(map(str, input().split()))\n",
    "s11 = ''.join(list(reversed(s1)))\n",
    "s22 = ''.join(list(reversed(s2)))\n",
    "\n",
    "if s11 == s1 and s22 == s2:\n",
    "    if sorted(s11) == sorted(s22):\n",
    "        print(1)\n",
    "    else:\n",
    "        print(0)"
   ]
  },
  {
   "cell_type": "code",
   "execution_count": 57,
   "id": "356c6776",
   "metadata": {},
   "outputs": [
    {
     "name": "stdout",
     "output_type": "stream",
     "text": [
      "guvi guvigeeks\n",
      "yes\n"
     ]
    }
   ],
   "source": [
    "s1, s2 = map(str, input().split())\n",
    "\n",
    "if (s2 in s1) or (s1 in s2):\n",
    "    print('yes')\n",
    "else:\n",
    "    print('no')"
   ]
  },
  {
   "cell_type": "code",
   "execution_count": 62,
   "id": "514cdc40",
   "metadata": {},
   "outputs": [
    {
     "name": "stdout",
     "output_type": "stream",
     "text": [
      "guvi   geeks\n",
      "guvi geeks\n"
     ]
    }
   ],
   "source": [
    "s = input()\n",
    "s = ' '.join(s.split())\n",
    "print(s)"
   ]
  },
  {
   "cell_type": "code",
   "execution_count": 64,
   "id": "b7237a76",
   "metadata": {},
   "outputs": [
    {
     "name": "stdout",
     "output_type": "stream",
     "text": [
      "guvi geeks\n",
      "['guvi', 'geeks']\n",
      "guvi geeks\n"
     ]
    }
   ],
   "source": [
    "s = input()\n",
    "s = s.split(' ')\n",
    "print(s)\n",
    "s = \" \".join(s)\n",
    "print(s)"
   ]
  },
  {
   "cell_type": "code",
   "execution_count": 76,
   "id": "81773b7d",
   "metadata": {},
   "outputs": [
    {
     "name": "stdout",
     "output_type": "stream",
     "text": [
      "2\n",
      "1\n",
      "2\n"
     ]
    }
   ],
   "source": [
    "# easy but .... codekat/string/39\n",
    "\n",
    "# l = 'john johnny jackie johnny john jackie jamie jamie john johnny jamie johnny john'\n",
    "l = ['john', 'johnny', 'jackie', 'johnny', 'john']\n",
    "l2 = set(l)\n",
    "\n",
    "for i in l2:\n",
    "    \n",
    "    print(l.count(i))"
   ]
  },
  {
   "cell_type": "code",
   "execution_count": 78,
   "id": "6b65bb0b",
   "metadata": {},
   "outputs": [
    {
     "name": "stdout",
     "output_type": "stream",
     "text": [
      "john johnny jackie johnny john jackie jamie jamie john johnny jamie\n",
      "{'jamie': 0}\n"
     ]
    }
   ],
   "source": [
    "# easy but .... codekat/string/39\n",
    "'''\n",
    "name = list(map(str, input().split()))\n",
    "non_repeated_names = set(name)\n",
    "\n",
    "for i in non_repeated_names:\n",
    "    diction = {i: l.count(i)}\n",
    "    \n",
    "print(diction)\n",
    "'''"
   ]
  },
  {
   "cell_type": "code",
   "execution_count": 80,
   "id": "a5e7644e",
   "metadata": {},
   "outputs": [
    {
     "name": "stdout",
     "output_type": "stream",
     "text": [
      "dfghj\n",
      "no\n"
     ]
    }
   ],
   "source": [
    "s = input()\n",
    "\n",
    "if s.isdigit():\n",
    "    print('yes')\n",
    "else:\n",
    "    print('no')"
   ]
  },
  {
   "cell_type": "code",
   "execution_count": 89,
   "id": "b82bff97",
   "metadata": {},
   "outputs": [
    {
     "name": "stdout",
     "output_type": "stream",
     "text": [
      "dfgh rtyh vbn dfgh fghj dfgh\n",
      "DFGH rtyh VBN dfgh FGHJ dfgh\n"
     ]
    }
   ],
   "source": [
    "s = list(map(str, input().split()))\n",
    "s1 = []\n",
    "for i in range(0, len(s)):\n",
    "    if i==0:\n",
    "        s1.append(s[0].upper())\n",
    "    elif i%2 == 1 :\n",
    "        s1.append(s[i].lower())\n",
    "    elif i%2 == 0 :\n",
    "        s1.append(s[i].upper())\n",
    "    else:\n",
    "        s1.append(s[i].lower())\n",
    "\n",
    "print(*s1)"
   ]
  },
  {
   "cell_type": "code",
   "execution_count": 92,
   "id": "b5772d50",
   "metadata": {},
   "outputs": [
    {
     "name": "stdout",
     "output_type": "stream",
     "text": [
      "codekata\n",
      "cd\n"
     ]
    }
   ],
   "source": [
    "s = input()\n",
    "# print(''.join(s[0]+s[2]))\n",
    "print(s[0]+s[2])"
   ]
  },
  {
   "cell_type": "code",
   "execution_count": 133,
   "id": "53b04d69",
   "metadata": {},
   "outputs": [
    {
     "name": "stdout",
     "output_type": "stream",
     "text": [
      "Sunnyday\n",
      "Snnyay ud\n"
     ]
    }
   ],
   "source": [
    "# easy but ...\n",
    "'''\n",
    "s = list(''.join(input()))\n",
    "odd = ''\n",
    "even = ''\n",
    "for i in s:\n",
    "    if s.index(i) == 0:\n",
    "        odd = odd +i\n",
    "    elif s.index(i) == 1:\n",
    "        even = even + i\n",
    "    elif (s.index(i))%2 == 0:\n",
    "        odd = odd + i\n",
    "    else:\n",
    "        even = even + i\n",
    "print(odd, even)\n",
    "'''"
   ]
  },
  {
   "cell_type": "code",
   "execution_count": null,
   "id": "9268a21f",
   "metadata": {},
   "outputs": [],
   "source": []
  }
 ],
 "metadata": {
  "kernelspec": {
   "display_name": "Python 3 (ipykernel)",
   "language": "python",
   "name": "python3"
  },
  "language_info": {
   "codemirror_mode": {
    "name": "ipython",
    "version": 3
   },
   "file_extension": ".py",
   "mimetype": "text/x-python",
   "name": "python",
   "nbconvert_exporter": "python",
   "pygments_lexer": "ipython3",
   "version": "3.9.2"
  }
 },
 "nbformat": 4,
 "nbformat_minor": 5
}
