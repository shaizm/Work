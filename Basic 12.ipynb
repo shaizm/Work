{
 "cells": [
  {
   "cell_type": "code",
   "execution_count": 4,
   "id": "a637b2dd",
   "metadata": {},
   "outputs": [
    {
     "data": {
      "text/plain": [
       "13"
      ]
     },
     "execution_count": 4,
     "metadata": {},
     "output_type": "execute_result"
    }
   ],
   "source": [
    "#Adding elements of array\n",
    "\n",
    "arr = [1,5,7]\n",
    "def arra ():\n",
    "    return sum(arr)\n",
    "    \n",
    "arra()\n",
    "        "
   ]
  },
  {
   "cell_type": "code",
   "execution_count": 18,
   "id": "9a08fa4d",
   "metadata": {},
   "outputs": [
    {
     "name": "stdout",
     "output_type": "stream",
     "text": [
      "1 2 3\n"
     ]
    },
    {
     "data": {
      "text/plain": [
       "6"
      ]
     },
     "execution_count": 18,
     "metadata": {},
     "output_type": "execute_result"
    }
   ],
   "source": [
    "# n = int(input())\n",
    "arr = input()  # takes the whole line of n numbers\n",
    "l = list(map(int,arr.split(' '))) # split those numbers wi\n",
    "total = sum(l)\n",
    "total\n",
    "    "
   ]
  },
  {
   "cell_type": "code",
   "execution_count": 25,
   "id": "7e861c97",
   "metadata": {},
   "outputs": [
    {
     "data": {
      "text/plain": [
       "6"
      ]
     },
     "execution_count": 25,
     "metadata": {},
     "output_type": "execute_result"
    }
   ],
   "source": [
    "#Adding elements of array when array in not a user input\n",
    "arr = [1,2,3]\n",
    "def arra(x):\n",
    "    return sum(x)\n",
    "\n",
    "arra(arr)"
   ]
  },
  {
   "cell_type": "code",
   "execution_count": 29,
   "id": "4c17cf26",
   "metadata": {},
   "outputs": [
    {
     "name": "stdout",
     "output_type": "stream",
     "text": [
      "2 3 6\n"
     ]
    },
    {
     "data": {
      "text/plain": [
       "11"
      ]
     },
     "execution_count": 29,
     "metadata": {},
     "output_type": "execute_result"
    }
   ],
   "source": [
    "#Adding elements of array with user input\n",
    "arr = input()\n",
    "l = list(map(int, arr.split(' ')))\n",
    "total = sum(l)\n",
    "\n",
    "total\n",
    "\n",
    "\n"
   ]
  },
  {
   "cell_type": "code",
   "execution_count": 40,
   "id": "de5fe0c8",
   "metadata": {},
   "outputs": [
    {
     "name": "stdout",
     "output_type": "stream",
     "text": [
      "0\n",
      "10\n",
      "the numbers are: [2, 3, 5, 7]\n"
     ]
    }
   ],
   "source": [
    "def prime(x,y):\n",
    "    lst = []\n",
    "    for i in range (x,y):\n",
    "        if i == 0 or i==1:\n",
    "            continue\n",
    "        else:\n",
    "            for j in range (2, int(i/2)+1):\n",
    "                if i % j == 0:\n",
    "                    break\n",
    "            else:\n",
    "                lst.append(i)\n",
    "    return (lst)\n",
    "\n",
    "a = int(input())\n",
    "b = int(input())\n",
    "ca = prime(a,b)\n",
    "\n",
    "if len(ca) == 0:\n",
    "    print (\"No prime\")\n",
    "else:\n",
    "    print (\"the numbers are:\", ca)\n",
    "    \n",
    "# def prime(x,y):\n",
    "#     prime_list = []\n",
    "#     for i in range(x,y):\n",
    "#         if i == 0 or i == 1:\n",
    "#             continue\n",
    "#         else:\n",
    "#             for j in range (2, int(i/2)+1):\n",
    "#                 if i % j ==0:\n",
    "#                     break\n",
    "                    \n",
    "#             else:\n",
    "#                 prime_list.append(i)b\n",
    "#     return prime_list\n",
    "# a = int(input())\n",
    "# b = int(input())\n",
    "# lst = prime(a,b)\n",
    "\n",
    "# if len(lst)==0:\n",
    "#     print('There is no prime number')\n",
    "# else:\n",
    "#     print('The numbers are', lst)"
   ]
  },
  {
   "cell_type": "code",
   "execution_count": 2,
   "id": "4ca54d82",
   "metadata": {},
   "outputs": [
    {
     "name": "stdout",
     "output_type": "stream",
     "text": [
      "5 6 9\n"
     ]
    },
    {
     "data": {
      "text/plain": [
       "20"
      ]
     },
     "execution_count": 2,
     "metadata": {},
     "output_type": "execute_result"
    }
   ],
   "source": [
    "arr = input()\n",
    "def arra(x):\n",
    "    l = list(map(int, arr.split(' ')))\n",
    "    return sum(l)\n",
    "    \n",
    "arra(arr)"
   ]
  },
  {
   "cell_type": "code",
   "execution_count": 24,
   "id": "8b76c212",
   "metadata": {},
   "outputs": [
    {
     "name": "stdout",
     "output_type": "stream",
     "text": [
      "0\n",
      "5\n",
      "the prime are [2, 3]\n"
     ]
    }
   ],
   "source": [
    "def prime(x,y):\n",
    "    pri = []\n",
    "    for i in range (x,y):\n",
    "        if i==0 or i==1:\n",
    "            continue\n",
    "        else:\n",
    "            for j in range (2, int(i/2)+1):\n",
    "                if i % j == 0:\n",
    "                    break\n",
    "            else:\n",
    "                pri.append(i)\n",
    "    return pri\n",
    "a = int(input())\n",
    "b = int(input())\n",
    "c = prime(a,b)\n",
    "\n",
    "if len(c)==0:\n",
    "    print('no prime')\n",
    "else:\n",
    "    print('the prime are', c)\n",
    "                "
   ]
  },
  {
   "cell_type": "code",
   "execution_count": 23,
   "id": "a91495e7",
   "metadata": {},
   "outputs": [
    {
     "name": "stdout",
     "output_type": "stream",
     "text": [
      "5\n",
      "yes prime\n"
     ]
    }
   ],
   "source": [
    "i = int(input())\n",
    "if i > 1:    \n",
    "    for j in range (2, int(i/2)+1):\n",
    "        if i % j == 0:\n",
    "            print (\"not prime\")\n",
    "            break\n",
    "    else:\n",
    "        print(\"yes prime\")\n",
    "\n",
    "                \n"
   ]
  },
  {
   "cell_type": "code",
   "execution_count": null,
   "id": "b7c68b14",
   "metadata": {},
   "outputs": [],
   "source": [
    "de"
   ]
  }
 ],
 "metadata": {
  "kernelspec": {
   "display_name": "Python 3 (ipykernel)",
   "language": "python",
   "name": "python3"
  },
  "language_info": {
   "codemirror_mode": {
    "name": "ipython",
    "version": 3
   },
   "file_extension": ".py",
   "mimetype": "text/x-python",
   "name": "python",
   "nbconvert_exporter": "python",
   "pygments_lexer": "ipython3",
   "version": "3.9.2"
  }
 },
 "nbformat": 4,
 "nbformat_minor": 5
}
