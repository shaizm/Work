{
 "cells": [
  {
   "cell_type": "code",
   "execution_count": 38,
   "id": "f34ab337",
   "metadata": {},
   "outputs": [
    {
     "name": "stdout",
     "output_type": "stream",
     "text": [
      "5\n",
      "A23 B56 B56 C79 D16\n",
      "A23 B56 C79 D16\n"
     ]
    }
   ],
   "source": [
    "# Input Data will be lost by this method\n",
    "total_passports = int(input())\n",
    "all_passports = list(map(str,input().split(' ')[:total_passports]))\n",
    "                  \n",
    "no_dupli = set(all_passports)\n",
    "no_dupli = sorted(list(no_dupli))\n",
    "\n",
    "print(*no_dupli)"
   ]
  },
  {
   "cell_type": "code",
   "execution_count": 49,
   "id": "8bd260f6",
   "metadata": {},
   "outputs": [
    {
     "name": "stdout",
     "output_type": "stream",
     "text": [
      "15\n",
      "11 12 13 A14 15 15 12 19 16 B18\n",
      "11 12 13 15 16 19 A14 B18\n"
     ]
    }
   ],
   "source": [
    "# No data will be lost but onlt the print function hides it\n",
    "total_passports = int(input())\n",
    "all_passports = list(map(str,input().split(' ')))\n",
    "\n",
    "no_dupli = set(all_passports)\n",
    "no_dupli = sorted(list(no_dupli))\n",
    "\n",
    "print(*no_dupli[:total_passports]) \n",
    "\n"
   ]
  },
  {
   "cell_type": "code",
   "execution_count": 60,
   "id": "d4c8bdaa",
   "metadata": {},
   "outputs": [
    {
     "name": "stdout",
     "output_type": "stream",
     "text": [
      "5\n",
      "11 12 13 A14 15 15 12 19 16 B18\n",
      "11 12 13 A14 15 19 16 B18\n"
     ]
    }
   ],
   "source": [
    "\"\"\"Does the work well but sorting is the problem\"\"\"\n",
    "\n",
    "total_passports = int(input())\n",
    "all_passports = list(map(str,input().split(' ')))\n",
    "new_passport = []\n",
    "\n",
    "def no_dup(name):\n",
    "    for i in name:\n",
    "        if i not in new_passport:\n",
    "            new_passport.append(i)\n",
    "        else:\n",
    "            continue\n",
    "    \n",
    "    print(*new_passport)\n",
    "        \n",
    "#sorting = new_passport.sort()\n",
    "no_dup(all_passports)\n",
    "\n"
   ]
  },
  {
   "cell_type": "code",
   "execution_count": 73,
   "id": "ae50e82d",
   "metadata": {},
   "outputs": [
    {
     "name": "stdout",
     "output_type": "stream",
     "text": [
      "11 12 13 A14 15 15 12 19 16 B18\n",
      "11 12 12 13 15 15 16 19 A14 B18 "
     ]
    }
   ],
   "source": [
    "import re \n",
    "\n",
    "def sorted_nicely( x ): \n",
    "    \"\"\" Sort the given iterable in the way that humans expect.\"\"\" \n",
    "    convert = lambda text: int(text) if text.isdigit() else text \n",
    "    #alphanum_key = lambda key: [ convert(c) for c in re.split('([0-9]+)', key) ] \n",
    "    return sorted(all_passports)#, key = alphanum_key)\n",
    "\n",
    "all_passports = list(map(str,input().split(' ')))\n",
    "for x in sorted_nicely(all_passports):\n",
    "    print(x, end=\" \")"
   ]
  },
  {
   "cell_type": "code",
   "execution_count": 47,
   "id": "854cc4cb",
   "metadata": {},
   "outputs": [
    {
     "name": "stdout",
     "output_type": "stream",
     "text": [
      "11 12 13 A14 15 15 12 19 16 B18\n",
      "['11', '12', '13', 'A14', '15', '15', '12', '19', '16', 'B18']\n",
      "11\n",
      "12\n",
      "12\n",
      "13\n",
      "15\n",
      "15\n",
      "16\n",
      "19\n",
      "A14\n",
      "B18\n"
     ]
    }
   ],
   "source": [
    "import re\n",
    "def sorted_nicely( l ):\n",
    "    \"\"\" Sorts the given iterable in the way that is expected.\n",
    " \n",
    "    Required arguments:\n",
    "    l -- The iterable to be sorted.\n",
    " \n",
    "    \"\"\"\n",
    "    convert = lambda text: int(text) if text.isdigit() else text\n",
    "    alphanum_key = lambda key: [convert(c) for c in re.split('([0-9]+)', key)]\n",
    "    return sorted(l, key = alphanum_key)\n",
    "\n",
    "l = list(map(str,input().split(' ')))\n",
    "print(l)\n",
    "for x in sorted_nicely(l):\n",
    "    print(x)"
   ]
  },
  {
   "cell_type": "code",
   "execution_count": 66,
   "id": "01cafd98",
   "metadata": {},
   "outputs": [
    {
     "data": {
      "text/plain": [
       "'101, 102, 102, 103, 105, 105, 106, 109, A14, B18'"
      ]
     },
     "execution_count": 66,
     "metadata": {},
     "output_type": "execute_result"
    }
   ],
   "source": [
    "all_pappsort = [11, 12, 13, \"A14\", 15, 15, 12, 19, 16, \"B18\"]\n",
    "\n",
    "def srt(val):\n",
    "    \"\"\"split and sort\"\"\"\n",
    "    old = val\n",
    "    new = [\"{}{:0>2.0f}\".format(i[0],int(i[1:]))  for i in old]\n",
    "    new.sort()\n",
    "    out = \", \".join([i for i in new])\n",
    "    return out\n",
    "\n",
    "srt(all_passports)"
   ]
  }
 ],
 "metadata": {
  "kernelspec": {
   "display_name": "Python 3 (ipykernel)",
   "language": "python",
   "name": "python3"
  },
  "language_info": {
   "codemirror_mode": {
    "name": "ipython",
    "version": 3
   },
   "file_extension": ".py",
   "mimetype": "text/x-python",
   "name": "python",
   "nbconvert_exporter": "python",
   "pygments_lexer": "ipython3",
   "version": "3.9.2"
  }
 },
 "nbformat": 4,
 "nbformat_minor": 5
}
