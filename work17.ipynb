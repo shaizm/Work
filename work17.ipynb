{
 "cells": [
  {
   "cell_type": "code",
   "execution_count": 2,
   "id": "ddfd10d3",
   "metadata": {},
   "outputs": [
    {
     "name": "stdout",
     "output_type": "stream",
     "text": [
      "12 20 16\n",
      "yes\n"
     ]
    }
   ],
   "source": [
    "a,b,c = map(int,input().split())\n",
    "\n",
    "if a > b and a > c:\n",
    "    hypot = a\n",
    "    side1 = b\n",
    "    side2 = c\n",
    "elif b > a and b > c:\n",
    "    hypot = b\n",
    "    side1 = a\n",
    "    side2 = c\n",
    "else:\n",
    "    hypot = c\n",
    "    side1 = a\n",
    "    side2 = b\n",
    "\n",
    "if hypot**2 == (side1**2 + side2**2):\n",
    "    print('yes')\n",
    "else:\n",
    "    print('no')"
   ]
  },
  {
   "cell_type": "code",
   "execution_count": 13,
   "id": "2b7bbfd3",
   "metadata": {},
   "outputs": [
    {
     "name": "stdout",
     "output_type": "stream",
     "text": [
      "5\n",
      "1 2 3 4 5\n",
      "1 5\n"
     ]
    }
   ],
   "source": [
    "n = int(input())\n",
    "elements = list(map(int,input().split()[:n]))\n",
    "print(elements.index(min(elements))+1, elements.index(max(elements))+1)"
   ]
  },
  {
   "cell_type": "code",
   "execution_count": 18,
   "id": "ea4c8f98",
   "metadata": {},
   "outputs": [
    {
     "name": "stdout",
     "output_type": "stream",
     "text": [
      "3 4 1\n",
      "no\n"
     ]
    }
   ],
   "source": [
    "a,b,c = map(int, input().split())\n",
    "\n",
    "if (a+b)>c and (a+c)>b and (b+c)>a:\n",
    "    print('yes')\n",
    "    \n",
    "else:\n",
    "    print('no')"
   ]
  },
  {
   "cell_type": "code",
   "execution_count": 23,
   "id": "f5c9ee80",
   "metadata": {},
   "outputs": [
    {
     "name": "stdout",
     "output_type": "stream",
     "text": [
      "all is well\n",
      "well is all\n"
     ]
    }
   ],
   "source": [
    "string = input()\n",
    "\n",
    "string = string.split(' ')\n",
    "print(*reversed(string))\n",
    "\n",
    "print(*string)\n",
    "'''\n",
    "Another solution to this problem is in \"googled solution\"\n",
    "'''"
   ]
  },
  {
   "cell_type": "code",
   "execution_count": 42,
   "id": "6b646831",
   "metadata": {},
   "outputs": [
    {
     "name": "stdout",
     "output_type": "stream",
     "text": [
      "S R\n",
      "R\n"
     ]
    }
   ],
   "source": [
    "a,b = map(str,input().split())\n",
    "\n",
    "if (a == 'R' or b == 'R') and (a =='P' or b == 'P'):\n",
    "    print('P')\n",
    "    \n",
    "elif (a == 'P' or b == 'P') and (a == 'S' or b == 'S'):\n",
    "    print('S')\n",
    "    \n",
    "elif (a  == 'S' or b == 'S') and (a  == 'R' or b == 'R'):\n",
    "    print('R')\n",
    "    \n",
    "else:\n",
    "    print('D')"
   ]
  }
 ],
 "metadata": {
  "kernelspec": {
   "display_name": "Python 3 (ipykernel)",
   "language": "python",
   "name": "python3"
  },
  "language_info": {
   "codemirror_mode": {
    "name": "ipython",
    "version": 3
   },
   "file_extension": ".py",
   "mimetype": "text/x-python",
   "name": "python",
   "nbconvert_exporter": "python",
   "pygments_lexer": "ipython3",
   "version": "3.9.2"
  }
 },
 "nbformat": 4,
 "nbformat_minor": 5
}
