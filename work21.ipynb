{
 "cells": [
  {
   "cell_type": "code",
   "execution_count": 2,
   "id": "dc939d3e",
   "metadata": {},
   "outputs": [
    {
     "name": "stdout",
     "output_type": "stream",
     "text": [
      "asdf\n",
      "fdsa\n"
     ]
    }
   ],
   "source": [
    "s = input()\n",
    "s1 = list(reversed(s))\n",
    "print(''.join(s1))"
   ]
  },
  {
   "cell_type": "code",
   "execution_count": 3,
   "id": "1d939c4a",
   "metadata": {},
   "outputs": [
    {
     "name": "stdout",
     "output_type": "stream",
     "text": [
      "assdf\n",
      "f-d-s-s-a\n"
     ]
    }
   ],
   "source": [
    "s = input()\n",
    "s1 = list(reversed(s))\n",
    "print('-'.join(s1))"
   ]
  },
  {
   "cell_type": "code",
   "execution_count": 5,
   "id": "c2a1e880",
   "metadata": {},
   "outputs": [
    {
     "name": "stdout",
     "output_type": "stream",
     "text": [
      "Sunday\n",
      "yes\n"
     ]
    }
   ],
   "source": [
    "s = input().lower()\n",
    "holi = ['sunday','saturday']\n",
    "work = ['monday','tuesday','wednesday','thursday','friday']\n",
    "if s in holi:\n",
    "    print('yes')\n",
    "else:\n",
    "    print('no')"
   ]
  },
  {
   "cell_type": "code",
   "execution_count": 8,
   "id": "255aba53",
   "metadata": {},
   "outputs": [
    {
     "name": "stdout",
     "output_type": "stream",
     "text": [
      "dabbc\n",
      "d a c\n"
     ]
    }
   ],
   "source": [
    "# might help in yesterdays problem\n",
    "\n",
    "s = input()\n",
    "l = []\n",
    "for i in s:\n",
    "    if s.count(i)>1:\n",
    "        continue\n",
    "    else:\n",
    "        l.append(i)\n",
    "        \n",
    "print(*l)"
   ]
  },
  {
   "cell_type": "code",
   "execution_count": 29,
   "id": "866188a1",
   "metadata": {},
   "outputs": [
    {
     "name": "stdout",
     "output_type": "stream",
     "text": [
      "1100100\n",
      "64\n"
     ]
    }
   ],
   "source": [
    "'''taking input in binary and telling the 'int' function that its binary \n",
    "by mentioning base 2. it then converts the given binary to base 10'''\n",
    "\n",
    "s = int(input(),2)\n",
    "#converting it into hexadecimal\n",
    "s = hex(s)\n",
    "print(s.lstrip('0x'))"
   ]
  },
  {
   "cell_type": "code",
   "execution_count": 30,
   "id": "07443d5c",
   "metadata": {},
   "outputs": [
    {
     "name": "stdout",
     "output_type": "stream",
     "text": [
      "asd df\n",
      "asddf\n"
     ]
    }
   ],
   "source": [
    "s = input()\n",
    "print(s.replace(\" \",''))"
   ]
  },
  {
   "cell_type": "code",
   "execution_count": 61,
   "id": "5dcde1c1",
   "metadata": {},
   "outputs": [
    {
     "name": "stdout",
     "output_type": "stream",
     "text": [
      "5\n",
      "asdf\n",
      "ffggh\n",
      "ffggh\n",
      "rty\n",
      "dffgh\n",
      "yes\n"
     ]
    }
   ],
   "source": [
    "# might help in solving yeaterdays problem\n",
    "n = int(input())\n",
    "l = []\n",
    "for i in range(0, n):\n",
    "    name = input()\n",
    "    l.append(name)\n",
    "\n",
    "for j in range(0, n-1):\n",
    "    if l[j] == l[j + 1]:\n",
    "        print('yes')\n",
    "        break\n",
    "else:\n",
    "    print('no')"
   ]
  },
  {
   "cell_type": "code",
   "execution_count": 67,
   "id": "d2af0c4a",
   "metadata": {},
   "outputs": [
    {
     "name": "stdout",
     "output_type": "stream",
     "text": [
      "virat kohli\n",
      "kohli virat\n"
     ]
    }
   ],
   "source": [
    "# to sort elements\n",
    "s = input().split()\n",
    "print(*sorted(s))"
   ]
  },
  {
   "cell_type": "code",
   "execution_count": 71,
   "id": "9106f04b",
   "metadata": {},
   "outputs": [
    {
     "name": "stdout",
     "output_type": "stream",
     "text": [
      "wrong wrong\n",
      "-1\n"
     ]
    }
   ],
   "source": [
    "s1 ,s2 = map(str, input().split())\n",
    "s1 = [i for i in s1]\n",
    "s2 = [i for i in s2]\n",
    "\n",
    "l = ''\n",
    "for i in s1:\n",
    "    if i not in s2:\n",
    "        l = l+i\n",
    "        \n",
    "\n",
    "if len(l)>0:\n",
    "    print(l)\n",
    "else:\n",
    "    print(-1)"
   ]
  },
  {
   "cell_type": "code",
   "execution_count": 95,
   "id": "9f588e0e",
   "metadata": {},
   "outputs": [
    {
     "name": "stdout",
     "output_type": "stream",
     "text": [
      "3 5\n",
      "0 2\n",
      "2 4\n",
      "3 5\n",
      "yes\n"
     ]
    }
   ],
   "source": [
    "n ,m = map(int, input().split())\n",
    "l = []\n",
    "for i in range(0, n):\n",
    "    l.append(list(map(int, input().split())))\n",
    "\n",
    "for i in range (0, n):\n",
    "    if l[i][0] >= n and l[i][1] == m:\n",
    "        print('yes')\n",
    "        break\n",
    "else:\n",
    "    print('no')"
   ]
  },
  {
   "cell_type": "code",
   "execution_count": 102,
   "id": "0471e283",
   "metadata": {},
   "outputs": [
    {
     "name": "stdout",
     "output_type": "stream",
     "text": [
      "2\n",
      "a\n"
     ]
    }
   ],
   "source": [
    "s = 'shaiz'\n",
    "print(s.index('a'))\n",
    "print(s[2])"
   ]
  },
  {
   "cell_type": "code",
   "execution_count": 126,
   "id": "76dd0526",
   "metadata": {},
   "outputs": [
    {
     "name": "stdout",
     "output_type": "stream",
     "text": [
      "Enter the string:abc\n",
      "To shift by:1\n",
      "BCD\n"
     ]
    }
   ],
   "source": [
    "alphabet = \"ABCDEFGHIJKLMNOPQRSTUVWXYZABCDEFGHIJKLMNOPQRSTUVWXYZ\"\n",
    "s = list(map(str, ''.join(input(\"Enter the string:\").upper())))\n",
    "n = int(input(\"To shift by:\"))\n",
    "encr = ''\n",
    "\n",
    "for i in s:\n",
    "    if i in alphabet:\n",
    "        ind = alphabet.index(i)\n",
    "        encr = encr + alphabet[ind+n]\n",
    "\n",
    "print(encr)"
   ]
  },
  {
   "cell_type": "code",
   "execution_count": 132,
   "id": "fd477ace",
   "metadata": {},
   "outputs": [
    {
     "name": "stdout",
     "output_type": "stream",
     "text": [
      "5 3\n",
      "code\n",
      "kata\n",
      "cif\n",
      "cif\n",
      "cif\n",
      "yes\n"
     ]
    }
   ],
   "source": [
    "n,k = map(int, input().split())\n",
    "l = []\n",
    "count = 0\n",
    "for i in range(0, n):\n",
    "    name = input()\n",
    "    l.append(name)\n",
    "\n",
    "for j in range(0, n-1):\n",
    "    if l[j] == l[j + 1]:\n",
    "        count = count + 1\n",
    "\n",
    "if count == k-1:\n",
    "    print('yes')\n",
    "else:\n",
    "    print('no')"
   ]
  },
  {
   "cell_type": "code",
   "execution_count": 1,
   "id": "17cf46e9",
   "metadata": {},
   "outputs": [
    {
     "name": "stdout",
     "output_type": "stream",
     "text": [
      "sunnyday\n",
      "ud ssnnyay\n"
     ]
    }
   ],
   "source": [
    "# Failed\n",
    "\n",
    "'''\n",
    "s = list(''.join(input()))\n",
    "odd = ''\n",
    "even = ''\n",
    "\n",
    "for i in s:\n",
    "    if s.index(i) == 0:\n",
    "        odd = odd + i\n",
    "    if s.index(i) == 1:\n",
    "        even = even + i\n",
    "    elif s.index(i)%2==0:   \n",
    "                            # Need to get the indexo of second occurance\n",
    "        odd = odd + i\n",
    "    else:\n",
    "        even = even + i\n",
    "print(even, odd)'''"
   ]
  },
  {
   "cell_type": "code",
   "execution_count": 14,
   "id": "c0bb93bd",
   "metadata": {},
   "outputs": [
    {
     "name": "stdout",
     "output_type": "stream",
     "text": [
      "XCODE\n",
      "XOE CD\n"
     ]
    }
   ],
   "source": [
    "s = list(''.join(input()))\n",
    "even = []\n",
    "odd = []\n",
    "for i in range(len(s)):\n",
    "    if len(s)%2 ==0:\n",
    "        even.append(s.pop())\n",
    "    elif len(s)%2 !=0:\n",
    "        odd.append(s.pop())\n",
    "        \n",
    "print( ''.join(reversed(odd)), ''.join(reversed(even)))"
   ]
  },
  {
   "cell_type": "code",
   "execution_count": 20,
   "id": "16eb2f92",
   "metadata": {},
   "outputs": [
    {
     "name": "stdout",
     "output_type": "stream",
     "text": [
      "123345\n",
      "yes\n"
     ]
    }
   ],
   "source": [
    "s = input()\n",
    "\n",
    "for i in s:\n",
    "    if s.count(i)>1:\n",
    "        print('yes')\n",
    "        break\n",
    "else:\n",
    "    print('no')\n",
    "    \n"
   ]
  },
  {
   "cell_type": "code",
   "execution_count": 36,
   "id": "79f9f93e",
   "metadata": {},
   "outputs": [
    {
     "name": "stdout",
     "output_type": "stream",
     "text": [
      "dfg654fghj\n",
      "dfgfghj15\n"
     ]
    }
   ],
   "source": [
    "s = input()\n",
    "digit = []\n",
    "alpha = []\n",
    "\n",
    "for i in s:\n",
    "    if i.isdigit():\n",
    "        digit.append(int(i))   \n",
    "    else:\n",
    "        alpha.append(i)\n",
    "\n",
    "total = sum(digit)\n",
    "print(\"\".join(alpha) + str(total))"
   ]
  },
  {
   "cell_type": "code",
   "execution_count": 52,
   "id": "ecbea480",
   "metadata": {},
   "outputs": [
    {
     "name": "stdout",
     "output_type": "stream",
     "text": [
      "apple 2\n",
      "PpLl\n"
     ]
    }
   ],
   "source": [
    "n,k = input().split()\n",
    "k = int(k)\n",
    "elemt = ''\n",
    "\n",
    "for i in range(0, len(n)):\n",
    "    if i == 0:\n",
    "        continue\n",
    "        elemt = elemt + n[i+1].upper()\n",
    "        elemt = elemt + n[i+1]\n",
    "\n",
    "print(elemt)"
   ]
  },
  {
   "cell_type": "code",
   "execution_count": 47,
   "id": "8c1a56f5",
   "metadata": {},
   "outputs": [
    {
     "name": "stdout",
     "output_type": "stream",
     "text": [
      "apple 2\n",
      "p\n",
      "l\n"
     ]
    }
   ],
   "source": [
    "n,k = input().split()\n",
    "k = int(k)\n",
    "\n",
    "for i in range(1, len(n), k):\n",
    "    print(n[i])"
   ]
  },
  {
   "cell_type": "code",
   "execution_count": 65,
   "id": "1bc7fdf9",
   "metadata": {},
   "outputs": [
    {
     "name": "stdout",
     "output_type": "stream",
     "text": [
      "sdfg 2\n"
     ]
    },
    {
     "ename": "IndexError",
     "evalue": "pop index out of range",
     "output_type": "error",
     "traceback": [
      "\u001b[1;31m---------------------------------------------------------------------------\u001b[0m",
      "\u001b[1;31mIndexError\u001b[0m                                Traceback (most recent call last)",
      "\u001b[1;32m~\\AppData\\Local\\Temp/ipykernel_6736/2584328155.py\u001b[0m in \u001b[0;36m<module>\u001b[1;34m\u001b[0m\n\u001b[0;32m      8\u001b[0m         \u001b[0mstring\u001b[0m \u001b[1;33m=\u001b[0m \u001b[0mstring\u001b[0m \u001b[1;33m+\u001b[0m \u001b[0ms\u001b[0m\u001b[1;33m.\u001b[0m\u001b[0mpop\u001b[0m\u001b[1;33m(\u001b[0m\u001b[1;36m1\u001b[0m\u001b[1;33m)\u001b[0m\u001b[1;33m.\u001b[0m\u001b[0mupper\u001b[0m\u001b[1;33m(\u001b[0m\u001b[1;33m)\u001b[0m\u001b[1;33m\u001b[0m\u001b[1;33m\u001b[0m\u001b[0m\n\u001b[0;32m      9\u001b[0m     \u001b[1;32melif\u001b[0m \u001b[0mlen\u001b[0m\u001b[1;33m(\u001b[0m\u001b[0ms\u001b[0m\u001b[1;33m)\u001b[0m\u001b[1;33m%\u001b[0m\u001b[0mk\u001b[0m \u001b[1;33m!=\u001b[0m\u001b[1;36m0\u001b[0m\u001b[1;33m:\u001b[0m\u001b[1;33m\u001b[0m\u001b[1;33m\u001b[0m\u001b[0m\n\u001b[1;32m---> 10\u001b[1;33m         \u001b[0mstring\u001b[0m \u001b[1;33m=\u001b[0m \u001b[0mstring\u001b[0m \u001b[1;33m+\u001b[0m \u001b[0ms\u001b[0m\u001b[1;33m.\u001b[0m\u001b[0mpop\u001b[0m\u001b[1;33m(\u001b[0m\u001b[1;36m1\u001b[0m\u001b[1;33m)\u001b[0m\u001b[1;33m\u001b[0m\u001b[1;33m\u001b[0m\u001b[0m\n\u001b[0m\u001b[0;32m     11\u001b[0m \u001b[1;33m\u001b[0m\u001b[0m\n\u001b[0;32m     12\u001b[0m \u001b[0mprint\u001b[0m\u001b[1;33m(\u001b[0m\u001b[0mstring\u001b[0m\u001b[1;33m)\u001b[0m\u001b[1;33m\u001b[0m\u001b[1;33m\u001b[0m\u001b[0m\n",
      "\u001b[1;31mIndexError\u001b[0m: pop index out of range"
     ]
    }
   ],
   "source": [
    "# codekat/String/59\n",
    "'''\n",
    "s,k = input().split()\n",
    "s = list(map(str, s))\n",
    "k = int(k)\n",
    "string = ''\n",
    "\n",
    "for i in range(1, len(s)+1):\n",
    "    if len(s)%k ==0:\n",
    "        string = string + s.pop(1).upper()\n",
    "    elif len(s)%k !=0:\n",
    "        string = string + s.pop(1)\n",
    "        \n",
    "print(string)\n",
    "'''"
   ]
  },
  {
   "cell_type": "code",
   "execution_count": null,
   "id": "3634d3de",
   "metadata": {},
   "outputs": [],
   "source": []
  }
 ],
 "metadata": {
  "kernelspec": {
   "display_name": "Python 3 (ipykernel)",
   "language": "python",
   "name": "python3"
  },
  "language_info": {
   "codemirror_mode": {
    "name": "ipython",
    "version": 3
   },
   "file_extension": ".py",
   "mimetype": "text/x-python",
   "name": "python",
   "nbconvert_exporter": "python",
   "pygments_lexer": "ipython3",
   "version": "3.9.2"
  }
 },
 "nbformat": 4,
 "nbformat_minor": 5
}
