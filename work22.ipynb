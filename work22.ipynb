{
 "cells": [
  {
   "cell_type": "code",
   "execution_count": 8,
   "id": "9d388f10",
   "metadata": {},
   "outputs": [
    {
     "name": "stdout",
     "output_type": "stream",
     "text": [
      "541543\n",
      "554431\n"
     ]
    }
   ],
   "source": [
    "s = list(map(int, ''.join(input())))\n",
    "s = list(reversed(sorted(s)))\n",
    "l = []\n",
    "\n",
    "for i in s:\n",
    "    l.append(str(i))\n",
    "    \n",
    "print(''.join(l))"
   ]
  },
  {
   "cell_type": "code",
   "execution_count": 40,
   "id": "11016ce9",
   "metadata": {},
   "outputs": [
    {
     "name": "stdout",
     "output_type": "stream",
     "text": [
      "18\n",
      "2\n"
     ]
    }
   ],
   "source": [
    "x = input()\n",
    "y = ''\n",
    "\n",
    "for i in x:\n",
    "    y = i+y\n",
    "\n",
    "index_ = y.index('1')+1\n",
    "a = format(index_, 'b')\n",
    "print(int(a, 2))"
   ]
  },
  {
   "cell_type": "code",
   "execution_count": 43,
   "id": "9f81a000",
   "metadata": {},
   "outputs": [
    {
     "name": "stdout",
     "output_type": "stream",
     "text": [
      "sTrinG\n",
      "StRINg\n"
     ]
    }
   ],
   "source": [
    "s = input()\n",
    "new_s = ''\n",
    "\n",
    "for i in s:\n",
    "    if i.isupper():\n",
    "        new_s = new_s + i.lower()\n",
    "    else:\n",
    "        new_s = new_s + i.upper()\n",
    "        \n",
    "print(new_s)"
   ]
  },
  {
   "cell_type": "code",
   "execution_count": 45,
   "id": "47e13ade",
   "metadata": {},
   "outputs": [
    {
     "name": "stdout",
     "output_type": "stream",
     "text": [
      "sdfghj GUVI \n",
      "no\n"
     ]
    }
   ],
   "source": [
    "s = input()\n",
    "look_for = 'GUVI'\n",
    "look_for2 = 'GEEK'\n",
    "\n",
    "if look_for in s and look_for2 in s:\n",
    "    print('yes')\n",
    "else:\n",
    "    print('no')"
   ]
  },
  {
   "cell_type": "code",
   "execution_count": 55,
   "id": "1551c637",
   "metadata": {},
   "outputs": [
    {
     "name": "stdout",
     "output_type": "stream",
     "text": [
      "string 3\n",
      " r g\n"
     ]
    }
   ],
   "source": [
    "s,k = map(str, input().split())\n",
    "k = int(k)\n",
    "new_s = ''\n",
    "\n",
    "for i in s:\n",
    "    if (s.index(i)+1)%k == 0:\n",
    "        new_s = new_s + ' ' + i\n",
    "    else:\n",
    "        continue\n",
    "        \n",
    "print(new_s)"
   ]
  },
  {
   "cell_type": "code",
   "execution_count": 64,
   "id": "5f7dfdc1",
   "metadata": {},
   "outputs": [
    {
     "name": "stdout",
     "output_type": "stream",
     "text": [
      "276\n"
     ]
    },
    {
     "data": {
      "text/plain": [
       "3"
      ]
     },
     "execution_count": 64,
     "metadata": {},
     "output_type": "execute_result"
    }
   ],
   "source": [
    "num = format(int(input()), 'b')\n",
    "num.count('1')"
   ]
  },
  {
   "cell_type": "code",
   "execution_count": 65,
   "id": "e525ab94",
   "metadata": {},
   "outputs": [
    {
     "name": "stdout",
     "output_type": "stream",
     "text": [
      "asdfghj asdf\n",
      "yes\n"
     ]
    }
   ],
   "source": [
    "s,p = input().split()\n",
    "\n",
    "if p in s:\n",
    "    print('yes')\n",
    "else:\n",
    "    print('no')"
   ]
  },
  {
   "cell_type": "code",
   "execution_count": 6,
   "id": "3a40f431",
   "metadata": {},
   "outputs": [
    {
     "name": "stdout",
     "output_type": "stream",
     "text": [
      "1100100\n"
     ]
    },
    {
     "ename": "ValueError",
     "evalue": "Unknown format code 'h' for object of type 'int'",
     "output_type": "error",
     "traceback": [
      "\u001b[1;31m---------------------------------------------------------------------------\u001b[0m",
      "\u001b[1;31mValueError\u001b[0m                                Traceback (most recent call last)",
      "\u001b[1;32m~\\AppData\\Local\\Temp/ipykernel_8928/1521404160.py\u001b[0m in \u001b[0;36m<module>\u001b[1;34m\u001b[0m\n\u001b[0;32m      1\u001b[0m \u001b[0ms\u001b[0m \u001b[1;33m=\u001b[0m \u001b[0mint\u001b[0m\u001b[1;33m(\u001b[0m\u001b[0minput\u001b[0m\u001b[1;33m(\u001b[0m\u001b[1;33m)\u001b[0m\u001b[1;33m,\u001b[0m \u001b[1;36m2\u001b[0m\u001b[1;33m)\u001b[0m\u001b[1;33m\u001b[0m\u001b[1;33m\u001b[0m\u001b[0m\n\u001b[1;32m----> 2\u001b[1;33m \u001b[0ms\u001b[0m \u001b[1;33m=\u001b[0m \u001b[0mformat\u001b[0m\u001b[1;33m(\u001b[0m\u001b[0ms\u001b[0m\u001b[1;33m,\u001b[0m \u001b[1;34m'h'\u001b[0m\u001b[1;33m)\u001b[0m\u001b[1;33m\u001b[0m\u001b[1;33m\u001b[0m\u001b[0m\n\u001b[0m\u001b[0;32m      3\u001b[0m \u001b[0mprint\u001b[0m\u001b[1;33m(\u001b[0m\u001b[0ms\u001b[0m\u001b[1;33m)\u001b[0m\u001b[1;33m\u001b[0m\u001b[1;33m\u001b[0m\u001b[0m\n",
      "\u001b[1;31mValueError\u001b[0m: Unknown format code 'h' for object of type 'int'"
     ]
    }
   ],
   "source": [
    "# codekata /string/70...check if string is hexadecimal\n",
    "'''\n",
    "s = int(input(), 2)\n",
    "s = format(s, 'h')\n",
    "print(s)\n",
    "'''"
   ]
  },
  {
   "cell_type": "code",
   "execution_count": 38,
   "id": "2b790211",
   "metadata": {},
   "outputs": [
    {
     "name": "stdout",
     "output_type": "stream",
     "text": [
      "Hi how are you\n",
      "Hi era woh you\n"
     ]
    }
   ],
   "source": [
    "# codekata/string/71....problem 73 in string is also same\n",
    "\n",
    "'''\n",
    "s = list(map(str, input().split()))\n",
    "s1 = s[1:-1]\n",
    "l = ''\n",
    "\n",
    "for i in s1:\n",
    "    for j in i:\n",
    "        if j == ' ':\n",
    "            break\n",
    "        else:\n",
    "            l = j + l \n",
    "    l = ' '+ l \n",
    "print(s[0],l[1:],s[-1])\n",
    "\n",
    "# print(s[0]+l+s[-1])\n",
    "'''"
   ]
  },
  {
   "cell_type": "code",
   "execution_count": 46,
   "id": "095ebf4d",
   "metadata": {},
   "outputs": [
    {
     "name": "stdout",
     "output_type": "stream",
     "text": [
      "code w\n",
      "-1\n"
     ]
    }
   ],
   "source": [
    "s, char = map(str, input().split())\n",
    "if char in s:\n",
    "    print(s.index(char)+1)\n",
    "else:\n",
    "    print(-1)"
   ]
  },
  {
   "cell_type": "code",
   "execution_count": 48,
   "id": "07a7d3ba",
   "metadata": {},
   "outputs": [
    {
     "name": "stdout",
     "output_type": "stream",
     "text": [
      "codekata codekate\n",
      "yes\n"
     ]
    }
   ],
   "source": [
    "s, s2 = map(str, input().split())\n",
    "l = 0\n",
    "\n",
    "for i in range(len(s)):\n",
    "    if s[i]==s2[i]:\n",
    "        continue\n",
    "    else:\n",
    "        l = l+1\n",
    "        \n",
    "if l == 1:\n",
    "    print('yes')\n",
    "else:\n",
    "    print('no')"
   ]
  },
  {
   "cell_type": "code",
   "execution_count": 52,
   "id": "9e5bd4fb",
   "metadata": {},
   "outputs": [
    {
     "name": "stdout",
     "output_type": "stream",
     "text": [
      "Happy Birthday\n",
      "Happy\n",
      "Birthday\n"
     ]
    }
   ],
   "source": [
    "s1 = input()\n",
    "s2 = input()\n",
    "\n",
    "if s2 in s1:\n",
    "    new_s2 = s1.replace(s2,\"\")\n",
    "    print(new_s2[1:])\n",
    "else:\n",
    "    print(s1)"
   ]
  },
  {
   "cell_type": "code",
   "execution_count": 53,
   "id": "6d00d77c",
   "metadata": {},
   "outputs": [
    {
     "name": "stdout",
     "output_type": "stream",
     "text": [
      "codekata codeguvi 4\n",
      "yes\n"
     ]
    }
   ],
   "source": [
    "s, s2, k = map(str, input().split())\n",
    "k = int(k)\n",
    "l = 0\n",
    "\n",
    "for i in range(len(s)):\n",
    "    if s[i]==s2[i]:\n",
    "        continue\n",
    "    else:\n",
    "        l = l+1\n",
    "        \n",
    "if l == k:\n",
    "    print('yes')\n",
    "else:\n",
    "    print('no')"
   ]
  },
  {
   "cell_type": "code",
   "execution_count": 6,
   "id": "67c0c334",
   "metadata": {},
   "outputs": [
    {
     "name": "stdout",
     "output_type": "stream",
     "text": [
      "123\n",
      "6\n"
     ]
    }
   ],
   "source": [
    "a = list(map(int, ''.join(input())))\n",
    "num = 1\n",
    "\n",
    "for i in a:\n",
    "    num = num*i\n",
    "\n",
    "print(num)"
   ]
  },
  {
   "cell_type": "code",
   "execution_count": 8,
   "id": "10226d86",
   "metadata": {},
   "outputs": [
    {
     "name": "stdout",
     "output_type": "stream",
     "text": [
      "5 5\n",
      "even\n"
     ]
    }
   ],
   "source": [
    "n,m = map(int, input().split())\n",
    "dif = n-m\n",
    "\n",
    "if dif%2==0:\n",
    "    print('even')\n",
    "else:\n",
    "    print('odd')"
   ]
  },
  {
   "cell_type": "code",
   "execution_count": 11,
   "id": "c56871cc",
   "metadata": {},
   "outputs": [
    {
     "name": "stdout",
     "output_type": "stream",
     "text": [
      "99\n",
      "100\n"
     ]
    }
   ],
   "source": [
    "n = int(input())\n",
    "\n",
    "print(((n//10)*10)+10)"
   ]
  },
  {
   "cell_type": "code",
   "execution_count": 22,
   "id": "ba43e646",
   "metadata": {},
   "outputs": [
    {
     "name": "stdout",
     "output_type": "stream",
     "text": [
      "2143\n",
      "1 3\n"
     ]
    }
   ],
   "source": [
    "n = map(int, ''.join(input()))\n",
    "l = []\n",
    "\n",
    "for i in n:\n",
    "    if i%2 !=0:\n",
    "        l.append(i)\n",
    "        \n",
    "if len(l)>0:\n",
    "    print(*l)\n",
    "else:\n",
    "    print(-1)"
   ]
  },
  {
   "cell_type": "code",
   "execution_count": 23,
   "id": "e284fbe7",
   "metadata": {},
   "outputs": [
    {
     "name": "stdout",
     "output_type": "stream",
     "text": [
      "123\n",
      "no\n"
     ]
    }
   ],
   "source": [
    "num = int(input())\n",
    "\n",
    "for i in range (2,num):\n",
    "    if num%i==0:\n",
    "        print(\"no\")\n",
    "        break\n",
    "    \n",
    "else:\n",
    "    print(\"yes\")"
   ]
  },
  {
   "cell_type": "code",
   "execution_count": 33,
   "id": "fe1bd10a",
   "metadata": {},
   "outputs": [
    {
     "name": "stdout",
     "output_type": "stream",
     "text": [
      "10\n",
      "1\n"
     ]
    }
   ],
   "source": [
    "s = list(map(int, ''.join(input())))\n",
    "l = ''\n",
    "for i in s:\n",
    "    l = str(i)+l\n",
    "print(l.strip('0'))    "
   ]
  }
 ],
 "metadata": {
  "kernelspec": {
   "display_name": "Python 3 (ipykernel)",
   "language": "python",
   "name": "python3"
  },
  "language_info": {
   "codemirror_mode": {
    "name": "ipython",
    "version": 3
   },
   "file_extension": ".py",
   "mimetype": "text/x-python",
   "name": "python",
   "nbconvert_exporter": "python",
   "pygments_lexer": "ipython3",
   "version": "3.9.2"
  }
 },
 "nbformat": 4,
 "nbformat_minor": 5
}
