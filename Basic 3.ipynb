{
 "cells": [
  {
   "cell_type": "code",
   "execution_count": 18,
   "id": "eb8a54b5",
   "metadata": {},
   "outputs": [
    {
     "name": "stdout",
     "output_type": "stream",
     "text": [
      "Enter Starting number of range0\n",
      "Enter Last number10\n",
      "The prime numbers in this range are:  [2, 3, 5, 7]\n"
     ]
    }
   ],
   "source": [
    "# Python program to print all\n",
    "# prime number in an interval\n",
    "\n",
    "def prime(x, y):\n",
    "    prime_list = []\n",
    "    for i in range(x, y):\n",
    "        if i == 0 or i == 1:\n",
    "            continue\n",
    "        else:\n",
    "            for j in range(2, int(i/2)+1):\n",
    "                if i % j == 0:\n",
    "                    #print(\"the j is {} and the number is {}\".format(j,i))\n",
    "                    break\n",
    "            else:\n",
    "               # print(\"appending here\")\n",
    "                prime_list.append(i)\n",
    "    return prime_list\n",
    "\n",
    "# Driver program\n",
    "starting_range = int(input(\"Enter Starting number of range\"))\n",
    "ending_range = int(input(\"Enter Last number\"))\n",
    "lst = prime(starting_range, ending_range)\n",
    "if len(lst) == 0:\n",
    "    print(\"There are no prime numbers in this range\")\n",
    "else:\n",
    "    print(\"The prime numbers in this range are: \", lst)\n"
   ]
  },
  {
   "cell_type": "code",
   "execution_count": 21,
   "id": "bba9330d",
   "metadata": {},
   "outputs": [
    {
     "name": "stdout",
     "output_type": "stream",
     "text": [
      "0\n",
      "10\n",
      "The numbers are [2, 3, 5, 7]\n"
     ]
    }
   ],
   "source": [
    "\n",
    "\n",
    "def prime(x,y):\n",
    "    prime_list = []\n",
    "    for i in range(x,y):\n",
    "        if i == 0 or i == 1:\n",
    "            continue\n",
    "        else:\n",
    "            for j in range (2, int(i/2)+1):\n",
    "                if i % j ==0:\n",
    "                    break\n",
    "                    \n",
    "            else:\n",
    "                prime_list.append(i)\n",
    "    return prime_list\n",
    "a = int(input())\n",
    "b = int(input())\n",
    "lst = prime(a,b)\n",
    "\n",
    "if len(lst)==0:\n",
    "    print('There is no prime number')\n",
    "else:\n",
    "    print('The numbers are', lst)"
   ]
  },
  {
   "cell_type": "code",
   "execution_count": null,
   "id": "d8c6fd49",
   "metadata": {},
   "outputs": [],
   "source": [
    "2, 3, 5, 7, 11, 13, 17, 19, 23, 29, 31, 37, 41, 43, 47, 53, 59, 61, 67, 71, 73, 79, 83, 89, 97"
   ]
  }
 ],
 "metadata": {
  "kernelspec": {
   "display_name": "Python 3 (ipykernel)",
   "language": "python",
   "name": "python3"
  },
  "language_info": {
   "codemirror_mode": {
    "name": "ipython",
    "version": 3
   },
   "file_extension": ".py",
   "mimetype": "text/x-python",
   "name": "python",
   "nbconvert_exporter": "python",
   "pygments_lexer": "ipython3",
   "version": "3.9.2"
  }
 },
 "nbformat": 4,
 "nbformat_minor": 5
}
