{
 "cells": [
  {
   "cell_type": "code",
   "execution_count": 43,
   "id": "67fcc5f5",
   "metadata": {},
   "outputs": [
    {
     "name": "stdout",
     "output_type": "stream",
     "text": [
      "The total is: 10\n"
     ]
    }
   ],
   "source": [
    "# Add all elements of a list\n",
    "elements = [4,3,2,1]\n",
    "\n",
    "def adding(x):\n",
    "    total = 0\n",
    "    for i in elements:\n",
    "        total = total + i\n",
    "    return total\n",
    "    \n",
    "print(f\"The total is: {adding(elements)}\")"
   ]
  },
  {
   "cell_type": "code",
   "execution_count": 45,
   "id": "0f4c0548",
   "metadata": {},
   "outputs": [
    {
     "data": {
      "text/plain": [
       "10"
      ]
     },
     "execution_count": 45,
     "metadata": {},
     "output_type": "execute_result"
    }
   ],
   "source": [
    "elements = [4,3,2,1]\n",
    "\n",
    "sum(elements)"
   ]
  },
  {
   "cell_type": "code",
   "execution_count": 44,
   "id": "c1ef6f22",
   "metadata": {},
   "outputs": [
    {
     "name": "stdout",
     "output_type": "stream",
     "text": [
      "The total is: -10\n"
     ]
    }
   ],
   "source": [
    "# substracting all elements\n",
    "elements = [4,3,2,1]\n",
    "\n",
    "def adding(x):\n",
    "    total = 0\n",
    "    for i in elements:\n",
    "        total = total - i\n",
    "    return total\n",
    "    \n",
    "print(f\"The total is: {adding(elements)}\")"
   ]
  },
  {
   "cell_type": "code",
   "execution_count": 47,
   "id": "2c826cf9",
   "metadata": {},
   "outputs": [
    {
     "name": "stdout",
     "output_type": "stream",
     "text": [
      "The product is: 24\n"
     ]
    }
   ],
   "source": [
    "# product of all elements\n",
    "elements = [4,3,2,1]\n",
    "\n",
    "def adding(x):\n",
    "    total = 1\n",
    "    for i in elements:\n",
    "        total = total * i\n",
    "    return total\n",
    "    \n",
    "print(f\"The product is: {adding(elements)}\")"
   ]
  },
  {
   "cell_type": "code",
   "execution_count": 48,
   "id": "cd1ecbfd",
   "metadata": {},
   "outputs": [
    {
     "data": {
      "text/plain": [
       "24"
      ]
     },
     "execution_count": 48,
     "metadata": {},
     "output_type": "execute_result"
    }
   ],
   "source": [
    "from math import prod\n",
    "elements = [4,3,2,1]\n",
    "prod(elements)"
   ]
  },
  {
   "cell_type": "code",
   "execution_count": 59,
   "id": "c28d419c",
   "metadata": {},
   "outputs": [
    {
     "name": "stdout",
     "output_type": "stream",
     "text": [
      "The quotient is: 0.6666666666666666\n"
     ]
    }
   ],
   "source": [
    "# Devision of all elements\n",
    "\n",
    "elements = [4,3,2,1]\n",
    "\n",
    "def adding(x):\n",
    "    total = 1\n",
    "    for i in elements:\n",
    "        if i == elements[0]:\n",
    "            total = i/total \n",
    "        else:\n",
    "            total = total/i\n",
    "    return total\n",
    "    \n",
    "print(f\"The quotient is: {adding(elements)}\")"
   ]
  },
  {
   "cell_type": "code",
   "execution_count": 40,
   "id": "08c993d3",
   "metadata": {},
   "outputs": [
    {
     "name": "stdout",
     "output_type": "stream",
     "text": [
      "4\n",
      "4 3 2 1\n",
      "0\n"
     ]
    }
   ],
   "source": [
    "# AND of all elements of list.\n",
    "\n",
    "N = int(input())\n",
    "elements = list(map(int, input().split()[:N]))\n",
    "\n",
    "def and_funt(x):\n",
    "    ans = x[0]\n",
    "    for i in range(1, len(elements)):\n",
    "        ans = x[i] & ans\n",
    "    return ans\n",
    "    \n",
    "print(and_funt(elements))"
   ]
  },
  {
   "cell_type": "code",
   "execution_count": 54,
   "id": "1a81171b",
   "metadata": {},
   "outputs": [
    {
     "name": "stdout",
     "output_type": "stream",
     "text": [
      "7\n"
     ]
    }
   ],
   "source": [
    "# OR of all elements of list\n",
    "\n",
    "elements = [4,3,2,1]\n",
    "\n",
    "def and_funt(x):\n",
    "    ans = x[0]\n",
    "    for i in range(1, len(elements)):\n",
    "        ans = x[i] | ans\n",
    "    return ans\n",
    "    \n",
    "    \n",
    "    \n",
    "print(and_funt(elements))"
   ]
  },
  {
   "cell_type": "code",
   "execution_count": 65,
   "id": "581c1fb8",
   "metadata": {},
   "outputs": [
    {
     "name": "stdout",
     "output_type": "stream",
     "text": [
      "2 4\n",
      "4\n"
     ]
    }
   ],
   "source": [
    "base, height = map(int, input().split())\n",
    "area = (0.5*base*height)\n",
    "\n",
    "print(round(area))"
   ]
  },
  {
   "cell_type": "code",
   "execution_count": 70,
   "id": "090629b7",
   "metadata": {},
   "outputs": [
    {
     "name": "stdout",
     "output_type": "stream",
     "text": [
      "3\n",
      "6\n"
     ]
    }
   ],
   "source": [
    "num = int(input())\n",
    "\n",
    "total = 0\n",
    "for i in range(1, num+1):\n",
    "    total = total + i\n",
    "\n",
    "print(total)"
   ]
  },
  {
   "cell_type": "code",
   "execution_count": 73,
   "id": "861d0c0c",
   "metadata": {},
   "outputs": [
    {
     "name": "stdout",
     "output_type": "stream",
     "text": [
      "3 4 5\n",
      "yes\n"
     ]
    }
   ],
   "source": [
    "a,b,c = map(int, input().split())\n",
    "\n",
    "if a != b != c:\n",
    "    if (a+b)>c or (a+c)>b or (b+c)>a:\n",
    "        print('yes')\n",
    "    \n",
    "else:\n",
    "    print('no')\n",
    "    \n",
    "'''the Triangle Inequality Theorem, which states that the sum of two side\n",
    "    lengths of a triangle is always greater than the third side'''\n"
   ]
  },
  {
   "cell_type": "code",
   "execution_count": 45,
   "id": "243591f4",
   "metadata": {},
   "outputs": [
    {
     "name": "stdout",
     "output_type": "stream",
     "text": [
      "12 24\n",
      "24\n"
     ]
    }
   ],
   "source": [
    "import math\n",
    "\n",
    "a,b = map(int, input().split())\n",
    "\n",
    "g = math.lcm(a,b)\n",
    "\n",
    "if a*b>=1 :\n",
    "    print(g)\n",
    "    \n",
    "else:\n",
    "    print(-1)"
   ]
  }
 ],
 "metadata": {
  "kernelspec": {
   "display_name": "Python 3 (ipykernel)",
   "language": "python",
   "name": "python3"
  },
  "language_info": {
   "codemirror_mode": {
    "name": "ipython",
    "version": 3
   },
   "file_extension": ".py",
   "mimetype": "text/x-python",
   "name": "python",
   "nbconvert_exporter": "python",
   "pygments_lexer": "ipython3",
   "version": "3.9.2"
  }
 },
 "nbformat": 4,
 "nbformat_minor": 5
}
