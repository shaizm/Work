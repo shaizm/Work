{
 "cells": [
  {
   "cell_type": "raw",
   "id": "77eee722",
   "metadata": {},
   "source": [
    "#Regex Documentation\n",
    "[] \tA set of characters \t\"[a-m]\" \t\n",
    "\\ \tSignals a special sequence (can also be used to escape special characters) \t\"\\d\" \t\n",
    ". \tAny character (except newline character) \t\"he..o\" \t\n",
    "^ \tStarts with \t\"^hello\" \t\n",
    "$ \tEnds with \t\"planet$\" \t\n",
    "* \tZero or more occurrences \t\"he.*o\" \t\n",
    "+ \tOne or more occurrences \t\"he.+o\" \t\n",
    "? \tZero or one occurrences \t\"he.?o\" \t\n",
    "{} \tExactly the specified number of occurrences \t\"he{2}o\" \t\n",
    "| \tEither or \t\"falls|stays\"\n",
    "\n",
    "\\A \tReturns a match if the specified characters are at the beginning of the string \t\"\\AThe\" \t\n",
    "\\b \tReturns a match where the specified characters are at the beginning or at the end of a word\n",
    "(the \"r\" in the beginning is making sure that the string is being treated as a \"raw string\") \tr\"\\bain\"\n",
    "r\"ain\\b\" \t\n",
    "\n",
    "\\B \tReturns a match where the specified characters are present, but NOT at the beginning (or at the end) of a word\n",
    "(the \"r\" in the beginning is making sure that the string is being treated as a \"raw string\") \tr\"\\Bain\"\n",
    "r\"ain\\B\" \t\n",
    "\n",
    "\\d \tReturns a match where the string contains digits (numbers from 0-9) \t\"\\d\" \t\n",
    "\\D \tReturns a match where the string DOES NOT contain digits \t\"\\D\" \t\n",
    "\\s \tReturns a match where the string contains a white space character \t\"\\s\" \t\n",
    "\\S \tReturns a match where the string DOES NOT contain a white space character \t\"\\S\" \t\n",
    "\\w \tReturns a match where the string contains any word characters (characters from a to Z, digits from 0-9, and the underscore _ character) \t\"\\w\" \t\n",
    "\\W \tReturns a match where the string DOES NOT contain any word characters \t\"\\W\" \t\n",
    "\\Z \tReturns a match if the specified characters are at the end of the string \t\"Spain\\Z\"\n",
    "\n",
    "[arn] \tReturns a match where one of the specified characters (a, r, or n) are present \t\n",
    "[a-n] \tReturns a match for any lower case character, alphabetically between a and n \t\n",
    "[^arn] \tReturns a match for any character EXCEPT a, r, and n \t\n",
    "[0123] \tReturns a match where any of the specified digits (0, 1, 2, or 3) are present \t\n",
    "[0-9] \tReturns a match for any digit between 0 and 9 \t\n",
    "[0-5][0-9] \tReturns a match for any two-digit numbers from 00 and 59 \t\n",
    "[a-zA-Z] \tReturns a match for any character alphabetically between a and z, lower case OR upper case \t\n",
    "[+] \tIn sets, +, *, ., |, (), $,{} has no special meaning, so [+] means: return a match for any + character in the string"
   ]
  },
  {
   "cell_type": "code",
   "execution_count": 3,
   "id": "ebd94881",
   "metadata": {},
   "outputs": [
    {
     "name": "stdout",
     "output_type": "stream",
     "text": [
      "<re.Match object; span=(8, 11), match='you'>\n"
     ]
    }
   ],
   "source": [
    "import re\n",
    "string = \"How are you doing, good man\"\n",
    "my = re.search('you', string)\n",
    "print(my)"
   ]
  },
  {
   "cell_type": "code",
   "execution_count": 60,
   "id": "d0500f57",
   "metadata": {},
   "outputs": [
    {
     "name": "stdout",
     "output_type": "stream",
     "text": [
      "['o', 'a', 'e', 'o', 'doing', 'good', 'man']\n"
     ]
    }
   ],
   "source": [
    "string = \"How are you doing, good man\"\n",
    "my = re.findall('[a-o]+',string)\n",
    "print(my)"
   ]
  },
  {
   "cell_type": "code",
   "execution_count": 9,
   "id": "b3b67b9d",
   "metadata": {},
   "outputs": [
    {
     "name": "stdout",
     "output_type": "stream",
     "text": [
      "['', 'ow', '', 'are', '', 'you', '', 'doing', '', '', 'good', '', 'man', '']\n"
     ]
    }
   ],
   "source": [
    "string = \"How are you doing, good man\"\n",
    "my = re.findall('[a-z]*', string)\n",
    "print(my)"
   ]
  },
  {
   "cell_type": "code",
   "execution_count": 61,
   "id": "d423daca",
   "metadata": {},
   "outputs": [
    {
     "name": "stdout",
     "output_type": "stream",
     "text": [
      "['How']\n"
     ]
    }
   ],
   "source": [
    "string = \"How are you doing, good man\"\n",
    "my = re.findall('how|now', string, re.I)\n",
    "print(my)"
   ]
  },
  {
   "cell_type": "code",
   "execution_count": 62,
   "id": "48aa07f0",
   "metadata": {},
   "outputs": [
    {
     "name": "stdout",
     "output_type": "stream",
     "text": [
      "['good']\n"
     ]
    }
   ],
   "source": [
    "string = \"How are you doing, good man 10254\"\n",
    "a = re.findall('..od',string)\n",
    "print(a)"
   ]
  },
  {
   "cell_type": "code",
   "execution_count": 65,
   "id": "f08528c0",
   "metadata": {},
   "outputs": [
    {
     "name": "stdout",
     "output_type": "stream",
     "text": [
      "['How are you doing, good man of asguardi']\n"
     ]
    }
   ],
   "source": [
    "string = \"How are you doing, good man of asguardinan\"\n",
    "a = re.findall('.*rdi',string)\n",
    "print(a)"
   ]
  },
  {
   "cell_type": "code",
   "execution_count": 66,
   "id": "d27ee650",
   "metadata": {},
   "outputs": [
    {
     "name": "stdout",
     "output_type": "stream",
     "text": [
      "['How are you doing, good man of asguardi']\n"
     ]
    }
   ],
   "source": [
    "string = \"How are you doing, good man of asguardinan\"\n",
    "a = re.findall('.*rdi',string)\n",
    "print(a)"
   ]
  },
  {
   "cell_type": "code",
   "execution_count": 97,
   "id": "65e6f0cc",
   "metadata": {},
   "outputs": [
    {
     "name": "stdout",
     "output_type": "stream",
     "text": [
      "<re.Match object; span=(0, 2), match='Ho'>\n"
     ]
    }
   ],
   "source": [
    "string = \"How are you doing, good man\"\n",
    "b = re.search('\\AHo',string)\n",
    "print(b)"
   ]
  },
  {
   "cell_type": "code",
   "execution_count": 99,
   "id": "9352ccdb",
   "metadata": {},
   "outputs": [
    {
     "name": "stdout",
     "output_type": "stream",
     "text": [
      "<re.Match object; span=(21, 23), match='od'>\n",
      "<re.Match object; span=(4, 7), match='are'>\n"
     ]
    }
   ],
   "source": [
    "string = \"How are you doing, good man\"\n",
    "b = re.search(r'od\\b',string)\n",
    "c = re.search(r'are\\b',string)\n",
    "print(b)\n",
    "print(c)"
   ]
  },
  {
   "cell_type": "code",
   "execution_count": 41,
   "id": "82245f2e",
   "metadata": {},
   "outputs": [
    {
     "name": "stdout",
     "output_type": "stream",
     "text": [
      "<re.Match object; span=(0, 17), match='How are you doing'>\n"
     ]
    }
   ],
   "source": [
    "string = \"How are you doing, good man\"\n",
    "b = re.search(r'.*ing\\b',string)\n",
    "print(b)"
   ]
  },
  {
   "cell_type": "code",
   "execution_count": 93,
   "id": "4a735673",
   "metadata": {},
   "outputs": [
    {
     "name": "stdout",
     "output_type": "stream",
     "text": [
      "<re.Match object; span=(12, 17), match='doing'>\n"
     ]
    }
   ],
   "source": [
    "string = \"How are you doing, good man\"\n",
    "b = re.search(r'doing\\b', string)\n",
    "print(b)"
   ]
  },
  {
   "cell_type": "code",
   "execution_count": 103,
   "id": "7b5e95f8",
   "metadata": {},
   "outputs": [
    {
     "name": "stdout",
     "output_type": "stream",
     "text": [
      "<re.Match object; span=(28, 33), match='10125'>\n"
     ]
    }
   ],
   "source": [
    "string = \"How are you doing, good man 10125\"\n",
    "b = re.search('\\d+', string)\n",
    "print(b)"
   ]
  },
  {
   "cell_type": "code",
   "execution_count": 104,
   "id": "8f75adfc",
   "metadata": {},
   "outputs": [
    {
     "name": "stdout",
     "output_type": "stream",
     "text": [
      "<re.Match object; span=(0, 28), match='How are you doing, good man '>\n"
     ]
    }
   ],
   "source": [
    "string = \"How are you doing, good man 10125\"\n",
    "b = re.search('\\D+', string)\n",
    "print(b)"
   ]
  },
  {
   "cell_type": "code",
   "execution_count": 108,
   "id": "06d34167",
   "metadata": {},
   "outputs": [
    {
     "name": "stdout",
     "output_type": "stream",
     "text": [
      "<re.Match object; span=(0, 0), match=''>\n"
     ]
    }
   ],
   "source": [
    "string = \"How are you doing, good man 10125\"\n",
    "b = re.search('\\s*', string)\n",
    "print(b)"
   ]
  },
  {
   "cell_type": "code",
   "execution_count": 107,
   "id": "f51892cf",
   "metadata": {},
   "outputs": [
    {
     "name": "stdout",
     "output_type": "stream",
     "text": [
      "<re.Match object; span=(0, 3), match='How'>\n"
     ]
    }
   ],
   "source": [
    "string = \"How are you doing, good man 10125\"\n",
    "b = re.search('\\S+', string)\n",
    "print(b)"
   ]
  },
  {
   "cell_type": "code",
   "execution_count": 110,
   "id": "57193754",
   "metadata": {},
   "outputs": [
    {
     "name": "stdout",
     "output_type": "stream",
     "text": [
      "<re.Match object; span=(0, 1), match='H'>\n"
     ]
    }
   ],
   "source": [
    "string = \"How are you doing, good man 10125\"\n",
    "b = re.search('\\w+', string)\n",
    "print(b)"
   ]
  },
  {
   "cell_type": "code",
   "execution_count": 115,
   "id": "9224d5d0",
   "metadata": {},
   "outputs": [
    {
     "name": "stdout",
     "output_type": "stream",
     "text": [
      "<re.Match object; span=(14, 15), match=' '>\n"
     ]
    }
   ],
   "source": [
    "string = \"Howareoudoinggoodman10125\"\n",
    "b = re.search('\\W+', string)\n",
    "print(b)"
   ]
  },
  {
   "cell_type": "code",
   "execution_count": 119,
   "id": "ff420637",
   "metadata": {},
   "outputs": [
    {
     "name": "stdout",
     "output_type": "stream",
     "text": [
      "<re.Match object; span=(8, 9), match='y'>\n"
     ]
    }
   ],
   "source": [
    "string = \"How are you doing, good man 10125\"\n",
    "b = re.search('[zyx]', string)\n",
    "print(b)"
   ]
  },
  {
   "cell_type": "code",
   "execution_count": 120,
   "id": "a1c38b03",
   "metadata": {},
   "outputs": [
    {
     "name": "stdout",
     "output_type": "stream",
     "text": [
      "<re.Match object; span=(4, 5), match='a'>\n"
     ]
    }
   ],
   "source": [
    "string = \"How are you doing, good man 10125\"\n",
    "b = re.search('[a-d]', string)\n",
    "print(b)"
   ]
  },
  {
   "cell_type": "code",
   "execution_count": 139,
   "id": "da0f5783",
   "metadata": {},
   "outputs": [
    {
     "name": "stdout",
     "output_type": "stream",
     "text": [
      "<re.Match object; span=(28, 29), match='q'>\n"
     ]
    }
   ],
   "source": [
    "string = \"How are you doing, good man q\"\n",
    "b = re.search('[^Hoedw aru,mying]', string, re.I)\n",
    "print(b)"
   ]
  },
  {
   "cell_type": "code",
   "execution_count": 142,
   "id": "e86bd291",
   "metadata": {},
   "outputs": [
    {
     "name": "stdout",
     "output_type": "stream",
     "text": [
      "<re.Match object; span=(28, 33), match='10125'>\n"
     ]
    }
   ],
   "source": [
    "string = \"How are you doing, good man 10125\"\n",
    "b = re.search('[0-9]+', string, re.I)\n",
    "print(b)"
   ]
  },
  {
   "cell_type": "code",
   "execution_count": 145,
   "id": "7b8c7bea",
   "metadata": {},
   "outputs": [
    {
     "name": "stdout",
     "output_type": "stream",
     "text": [
      "<re.Match object; span=(0, 28), match='How are you doing, good man '>\n"
     ]
    }
   ],
   "source": [
    "string = \"How are you doing, good man 10125\"\n",
    "b = re.search('[^01234]', string, re.I)\n",
    "print(b)"
   ]
  },
  {
   "cell_type": "code",
   "execution_count": 148,
   "id": "af3c048a",
   "metadata": {},
   "outputs": [
    {
     "name": "stdout",
     "output_type": "stream",
     "text": [
      "<re.Match object; span=(28, 30), match='39'>\n"
     ]
    }
   ],
   "source": [
    "string = \"How are you doing, good man 39\"\n",
    "b = re.search('[0-3][0-9]', string, re.I)\n",
    "print(b)"
   ]
  },
  {
   "cell_type": "code",
   "execution_count": 153,
   "id": "c0b39cd0",
   "metadata": {},
   "outputs": [
    {
     "name": "stdout",
     "output_type": "stream",
     "text": [
      "<re.Match object; span=(0, 3), match='How'>\n"
     ]
    }
   ],
   "source": [
    "string = \"How are you doing, good man 10125\"\n",
    "b = re.search('[a-zA-Z]+', string)\n",
    "print(b)"
   ]
  },
  {
   "cell_type": "code",
   "execution_count": 157,
   "id": "264e0b75",
   "metadata": {},
   "outputs": [
    {
     "name": "stdout",
     "output_type": "stream",
     "text": [
      "None\n"
     ]
    }
   ],
   "source": [
    "string = \"How are you doing * good man 10125\"\n",
    "b = re.search('[+]', string)\n",
    "print(b)"
   ]
  },
  {
   "cell_type": "code",
   "execution_count": 158,
   "id": "33905807",
   "metadata": {},
   "outputs": [
    {
     "name": "stdout",
     "output_type": "stream",
     "text": [
      "['How', 'are', 'you', 'doing', 'good', 'man', '10125']\n"
     ]
    }
   ],
   "source": [
    "string = \"How are you doing good man 10125\"\n",
    "b = re.split('\\s', string)\n",
    "print(b)"
   ]
  }
 ],
 "metadata": {
  "kernelspec": {
   "display_name": "Python 3 (ipykernel)",
   "language": "python",
   "name": "python3"
  },
  "language_info": {
   "codemirror_mode": {
    "name": "ipython",
    "version": 3
   },
   "file_extension": ".py",
   "mimetype": "text/x-python",
   "name": "python",
   "nbconvert_exporter": "python",
   "pygments_lexer": "ipython3",
   "version": "3.9.2"
  }
 },
 "nbformat": 4,
 "nbformat_minor": 5
}
