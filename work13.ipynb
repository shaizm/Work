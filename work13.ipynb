{
 "cells": [
  {
   "cell_type": "code",
   "execution_count": 44,
   "id": "68343a26",
   "metadata": {},
   "outputs": [
    {
     "name": "stdout",
     "output_type": "stream",
     "text": [
      "2 5\n",
      "3\n"
     ]
    }
   ],
   "source": [
    "# Prime no in range of ...\n",
    "num1,num2 = map(int,input().split())\n",
    "\n",
    "prime = []\n",
    "no_prime = []\n",
    "\n",
    "for num in range (num1,num2+1):\n",
    "    for i in range(2,num):\n",
    "        if num%i == 0:\n",
    "            break\n",
    "    else:\n",
    "        prime.append(num)\n",
    "        \n",
    "print(len(prime))\n",
    "#print(no_prime)\n",
    "#print(len(prime))"
   ]
  },
  {
   "cell_type": "code",
   "execution_count": 72,
   "id": "f5a21cc6",
   "metadata": {},
   "outputs": [
    {
     "name": "stdout",
     "output_type": "stream",
     "text": [
      "13\n",
      "Yes prime\n"
     ]
    }
   ],
   "source": [
    "# prime numbers..yes or no\n",
    "num = int(input())\n",
    "\n",
    "for i in range (2,num):\n",
    "    if num%i==0:\n",
    "        print(\"No\")\n",
    "        break\n",
    "    \n",
    "else:\n",
    "    print(\"Yes prime\")"
   ]
  },
  {
   "cell_type": "code",
   "execution_count": 3,
   "id": "35af074b",
   "metadata": {},
   "outputs": [
    {
     "name": "stdout",
     "output_type": "stream",
     "text": [
      "5 2\n",
      "1 2 5 4 7\n",
      "1\n"
     ]
    }
   ],
   "source": [
    "num1,num2 = map(int,input().split())\n",
    "ele = list(map(int, input().split()[:num1]))\n",
    "l = 0\n",
    "if num2 in ele:\n",
    "    l = l+1\n",
    "else:\n",
    "    l = -1\n",
    "    \n",
    "print(l)\n"
   ]
  },
  {
   "cell_type": "code",
   "execution_count": 118,
   "id": "b8b57703",
   "metadata": {},
   "outputs": [
    {
     "name": "stdout",
     "output_type": "stream",
     "text": [
      "6 2\n",
      "1 2 3 5 7 8\n",
      "0\n"
     ]
    }
   ],
   "source": [
    "num1,num2 = map(int,input().split())\n",
    "ele = list(map(int, input().split()[:num1]))\n",
    "\n",
    "count = ele.count(num2)\n",
    "f = set([count for i in ele if count > 1])\n",
    "\n",
    "if count >=2:\n",
    "    print(*f)\n",
    "elif count == 1:\n",
    "    print(0)\n",
    "else:`\n",
    "    print(-1)"
   ]
  },
  {
   "cell_type": "code",
   "execution_count": 120,
   "id": "288aaf1f",
   "metadata": {},
   "outputs": [
    {
     "name": "stdout",
     "output_type": "stream",
     "text": [
      "100 200\n",
      "100\n"
     ]
    }
   ],
   "source": [
    "num1,num2 = map(int,input().split())\n",
    "\n",
    "print(num2-num1)"
   ]
  },
  {
   "cell_type": "code",
   "execution_count": 6,
   "id": "aedd43b7",
   "metadata": {},
   "outputs": [
    {
     "name": "stdout",
     "output_type": "stream",
     "text": [
      "3 7\n",
      "2187\n"
     ]
    }
   ],
   "source": [
    "num1,num2 = map(int,input().split())\n",
    "\n",
    "if num1>=1 and num1<=5 and num2>=5 and num2 <=50:\n",
    "    print(num1**num2)"
   ]
  },
  {
   "cell_type": "code",
   "execution_count": 126,
   "id": "44ab7c69",
   "metadata": {},
   "outputs": [
    {
     "name": "stdout",
     "output_type": "stream",
     "text": [
      "5 4 3 2 1 7 6 10 8 9\n",
      "1\n"
     ]
    }
   ],
   "source": [
    "numbers = list(map(int,input().split()))\n",
    "print(min(numbers))"
   ]
  },
  {
   "cell_type": "code",
   "execution_count": 127,
   "id": "42582089",
   "metadata": {},
   "outputs": [
    {
     "name": "stdout",
     "output_type": "stream",
     "text": [
      "3\n",
      "2 6\n",
      "yes\n"
     ]
    }
   ],
   "source": [
    "num1 = int(input())\n",
    "num2, num3 = map(int,input().split())\n",
    "\n",
    "if num1 in range(num2,num3+1):\n",
    "    print('yes')\n",
    "else:\n",
    "    print('no')"
   ]
  },
  {
   "cell_type": "code",
   "execution_count": 142,
   "id": "47d5b79b",
   "metadata": {},
   "outputs": [
    {
     "name": "stdout",
     "output_type": "stream",
     "text": [
      "64\n",
      "8\n"
     ]
    }
   ],
   "source": [
    "from math import sqrt\n",
    "num = int(input())\n",
    "\n",
    "squareroot = sqrt(num)\n",
    "\n",
    "\n",
    "for i in range(num, x)\n",
    "if squareroot.is_integer():\n",
    "    #print('{0:.0f}'.format(squareroot))\n",
    "\n",
    "    #PENDING - Codekatta Basics no17\n"
   ]
  }
 ],
 "metadata": {
  "kernelspec": {
   "display_name": "Python 3 (ipykernel)",
   "language": "python",
   "name": "python3"
  },
  "language_info": {
   "codemirror_mode": {
    "name": "ipython",
    "version": 3
   },
   "file_extension": ".py",
   "mimetype": "text/x-python",
   "name": "python",
   "nbconvert_exporter": "python",
   "pygments_lexer": "ipython3",
   "version": "3.9.2"
  }
 },
 "nbformat": 4,
 "nbformat_minor": 5
}
