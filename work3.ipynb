{
 "cells": [
  {
   "cell_type": "code",
   "execution_count": 50,
   "id": "95659341",
   "metadata": {},
   "outputs": [
    {
     "name": "stdout",
     "output_type": "stream",
     "text": [
      "5\n",
      "9 18 27 36 45 "
     ]
    }
   ],
   "source": [
    "#Doesn't work\n",
    "user_input = int(input())\n",
    "\n",
    "if user_input == 0:\n",
    "    print(\"NULL\")\n",
    "\n",
    "else:\n",
    "    for i in range(1,user_input+1):\n",
    "        i = 9*i\n",
    "        print(i, end = \" \")"
   ]
  },
  {
   "cell_type": "code",
   "execution_count": 49,
   "id": "859c1e7b",
   "metadata": {},
   "outputs": [
    {
     "name": "stdout",
     "output_type": "stream",
     "text": [
      "5\n",
      "9 18 27 36 45\n"
     ]
    }
   ],
   "source": [
    "#Does work\n",
    "user_input = int(input())\n",
    "\n",
    "l = []\n",
    "if user_input == 0:\n",
    "    print(\"NULL\")\n",
    "\n",
    "else:\n",
    "    for i in range(1,user_input+1):\n",
    "        i = 9*i\n",
    "        l.append(i)\n",
    "        #print(i, end = \" \")\n",
    "print(*l)"
   ]
  },
  {
   "cell_type": "code",
   "execution_count": 25,
   "id": "5050c1df",
   "metadata": {},
   "outputs": [
    {
     "name": "stdout",
     "output_type": "stream",
     "text": [
      "1.5\n",
      "1.9\n",
      "3.4\n"
     ]
    }
   ],
   "source": [
    "num1 = float(input())\n",
    "num2 = float(input())\n",
    "\n",
    "print (round((num1+num2),1))"
   ]
  },
  {
   "cell_type": "code",
   "execution_count": 2,
   "id": "7f5d3ca9",
   "metadata": {},
   "outputs": [
    {
     "name": "stdout",
     "output_type": "stream",
     "text": [
      "60 45\n",
      "15\n"
     ]
    }
   ],
   "source": [
    "#finding HCF by division method\n",
    "num1,num2 = map(int,input().split())\n",
    "\n",
    "if num1>num2:\n",
    "    small = num1\n",
    "else:\n",
    "    small = num2\n",
    "\n",
    "for i in range(1,small+1):\n",
    "    if (num1 % i == 0) and (num2 % i == 0):\n",
    "        hcf = i\n",
    "        \n",
    "print (hcf)\n",
    "\n",
    "'''\n",
    "also learn LCM\n",
    "'''"
   ]
  },
  {
   "cell_type": "code",
   "execution_count": null,
   "id": "f5c1bbad",
   "metadata": {},
   "outputs": [],
   "source": []
  },
  {
   "cell_type": "code",
   "execution_count": 53,
   "id": "a1d2f846",
   "metadata": {},
   "outputs": [
    {
     "name": "stdout",
     "output_type": "stream",
     "text": [
      "3\n",
      "6\n"
     ]
    }
   ],
   "source": [
    "user_input = int(input())\n",
    "\n",
    "N = 0\n",
    "for i in range(1,user_input+1):\n",
    "    N = i+N\n",
    "print(N)"
   ]
  },
  {
   "cell_type": "code",
   "execution_count": 57,
   "id": "1cb92107",
   "metadata": {},
   "outputs": [
    {
     "name": "stdout",
     "output_type": "stream",
     "text": [
      "asdf wedf\n",
      "8\n"
     ]
    }
   ],
   "source": [
    "user_input = input()\n",
    "\n",
    "print(len(user_input.replace(\" \",\"\")))"
   ]
  },
  {
   "cell_type": "code",
   "execution_count": 91,
   "id": "c0c6338f",
   "metadata": {},
   "outputs": [
    {
     "name": "stdout",
     "output_type": "stream",
     "text": [
      "15563219546\n",
      "[1, 5, 5, 6, 3, 2, 1, 9, 5, 4, 6]\n",
      "2 4 6 6\n",
      "1 1 3 5 5 5 9\n"
     ]
    }
   ],
   "source": [
    "user_input = \" \".join(input())\n",
    "\n",
    "even = []\n",
    "odd = []\n",
    "\n",
    "ints =list(map(int,(user_input.split(\" \"))))\n",
    "print(ints)\n",
    "\n",
    "for i in ints:\n",
    "    if i%2 == 0:\n",
    "        even.append(i)\n",
    "    else:\n",
    "        odd.append(i)\n",
    "        \n",
    "sorted_even = even.sort()\n",
    "sorted_odd = odd.sort()\n",
    "\n",
    "print(*even)\n",
    "print(*odd)"
   ]
  },
  {
   "cell_type": "code",
   "execution_count": 93,
   "id": "dbd107e5",
   "metadata": {},
   "outputs": [
    {
     "name": "stdout",
     "output_type": "stream",
     "text": [
      "156\n",
      "1 5 6\n"
     ]
    }
   ],
   "source": [
    "num = \" \".join(input())\n",
    "\n",
    "digits = tuple(map(int, num.split(\" \")))\n",
    "\n",
    "print(*digits)"
   ]
  },
  {
   "cell_type": "code",
   "execution_count": null,
   "id": "3ee3bc34",
   "metadata": {},
   "outputs": [],
   "source": []
  }
 ],
 "metadata": {
  "kernelspec": {
   "display_name": "Python 3 (ipykernel)",
   "language": "python",
   "name": "python3"
  },
  "language_info": {
   "codemirror_mode": {
    "name": "ipython",
    "version": 3
   },
   "file_extension": ".py",
   "mimetype": "text/x-python",
   "name": "python",
   "nbconvert_exporter": "python",
   "pygments_lexer": "ipython3",
   "version": "3.9.2"
  }
 },
 "nbformat": 4,
 "nbformat_minor": 5
}
