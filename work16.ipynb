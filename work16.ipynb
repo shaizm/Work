{
 "cells": [
  {
   "cell_type": "code",
   "execution_count": null,
   "id": "3a25b9c9",
   "metadata": {},
   "outputs": [
    {
     "name": "stdout",
     "output_type": "stream",
     "text": [
      "hello\n"
     ]
    }
   ],
   "source": [
    "string = input()\n",
    "\n",
    "def swap(array):\n",
    "    if len(array) == 0:\n",
    "        return\n",
    "    else:\n",
    "        swap(array[01])\n",
    "        print(array[0])\n",
    "    \n",
    "print(swap(string))"
   ]
  }
 ],
 "metadata": {
  "kernelspec": {
   "display_name": "Python 3 (ipykernel)",
   "language": "python",
   "name": "python3"
  },
  "language_info": {
   "codemirror_mode": {
    "name": "ipython",
    "version": 3
   },
   "file_extension": ".py",
   "mimetype": "text/x-python",
   "name": "python",
   "nbconvert_exporter": "python",
   "pygments_lexer": "ipython3",
   "version": "3.9.2"
  }
 },
 "nbformat": 4,
 "nbformat_minor": 5
}
