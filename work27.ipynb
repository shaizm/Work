{
 "cells": [
  {
   "cell_type": "code",
   "execution_count": 3,
   "id": "72ee947d",
   "metadata": {},
   "outputs": [
    {
     "name": "stdout",
     "output_type": "stream",
     "text": [
      "7\n",
      "1 2 3 4 6 0 0\n",
      "1\n"
     ]
    }
   ],
   "source": [
    "n = int(input())\n",
    "array = list(map(int, input().split()[:n]))\n",
    "\n",
    "if sum(array[:3]) == sum(array[-3:]):\n",
    "    print(1)\n",
    "else:\n",
    "    print(0)\n",
    "    "
   ]
  }
 ],
 "metadata": {
  "kernelspec": {
   "display_name": "Python 3 (ipykernel)",
   "language": "python",
   "name": "python3"
  },
  "language_info": {
   "codemirror_mode": {
    "name": "ipython",
    "version": 3
   },
   "file_extension": ".py",
   "mimetype": "text/x-python",
   "name": "python",
   "nbconvert_exporter": "python",
   "pygments_lexer": "ipython3",
   "version": "3.9.2"
  }
 },
 "nbformat": 4,
 "nbformat_minor": 5
}
