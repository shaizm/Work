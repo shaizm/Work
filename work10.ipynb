{
 "cells": [
  {
   "cell_type": "code",
   "execution_count": 35,
   "id": "1adeaa0f",
   "metadata": {},
   "outputs": [
    {
     "name": "stdout",
     "output_type": "stream",
     "text": [
      "5 5\n",
      "12346\n",
      "no\n"
     ]
    }
   ],
   "source": [
    "len_of_n, k = map(str,input().split(' '))\n",
    "len_of_n  = int(len_of_n)\n",
    "n = ','.join(input()[0:len_of_n])\n",
    "\n",
    "if str(k) in n:\n",
    "    print(k,n)\n",
    "    print(\"yes\")\n",
    "else:\n",
    "    print(\"no\")"
   ]
  },
  {
   "cell_type": "code",
   "execution_count": 50,
   "id": "49b99433",
   "metadata": {},
   "outputs": [
    {
     "name": "stdout",
     "output_type": "stream",
     "text": [
      "5 5\n",
      "yes\n"
     ]
    }
   ],
   "source": [
    "from math import sqrt\n",
    "\n",
    "n1,n2 = map(int,input().split(' '))\n",
    "\n",
    "num = sqrt(n1*n2)\n",
    "if (num).is_integer():\n",
    "    print(\"yes\")\n",
    "else:\n",
    "    print('no')"
   ]
  },
  {
   "cell_type": "code",
   "execution_count": 52,
   "id": "5ce33541",
   "metadata": {},
   "outputs": [
    {
     "name": "stdout",
     "output_type": "stream",
     "text": [
      "5 5\n",
      "yes\n"
     ]
    }
   ],
   "source": [
    "n1,n2 = map(int,input().split(' '))\n",
    "\n",
    "num = sqrt(n1*n2)\n",
    "if num%1 == 0:\n",
    "    print(\"yes\")\n",
    "else:\n",
    "    print('no')"
   ]
  },
  {
   "cell_type": "code",
   "execution_count": 56,
   "id": "ef1f8ba4",
   "metadata": {},
   "outputs": [
    {
     "name": "stdout",
     "output_type": "stream",
     "text": [
      "19\n",
      "no\n"
     ]
    }
   ],
   "source": [
    "num = int(input())\n",
    "\n",
    "if num == 1 or num == 2:\n",
    "    print('no')\n",
    "\n",
    "elif num%2 == 0 or num%3 == 0:\n",
    "    print('yes')\n",
    "    \n",
    "else:\n",
    "    print('no')"
   ]
  },
  {
   "cell_type": "code",
   "execution_count": 58,
   "id": "88682206",
   "metadata": {},
   "outputs": [
    {
     "name": "stdout",
     "output_type": "stream",
     "text": [
      "5 6\n",
      "odd\n"
     ]
    }
   ],
   "source": [
    "n1,n2 = map(int,input().split(' '))\n",
    "\n",
    "add = n1 + n2\n",
    "\n",
    "if add%2 == 0:\n",
    "    print('even')\n",
    "    \n",
    "else:\n",
    "    print('odd')"
   ]
  },
  {
   "cell_type": "code",
   "execution_count": 6,
   "id": "72b87673",
   "metadata": {},
   "outputs": [
    {
     "name": "stdout",
     "output_type": "stream",
     "text": [
      "3\n",
      "6\n"
     ]
    }
   ],
   "source": [
    "num = int(input())\n",
    "\n",
    "total = 0\n",
    "for i in range(1,num+1):\n",
    "    total = i + total\n",
    "    \n",
    "print(total)"
   ]
  }
 ],
 "metadata": {
  "kernelspec": {
   "display_name": "Python 3 (ipykernel)",
   "language": "python",
   "name": "python3"
  },
  "language_info": {
   "codemirror_mode": {
    "name": "ipython",
    "version": 3
   },
   "file_extension": ".py",
   "mimetype": "text/x-python",
   "name": "python",
   "nbconvert_exporter": "python",
   "pygments_lexer": "ipython3",
   "version": "3.9.2"
  }
 },
 "nbformat": 4,
 "nbformat_minor": 5
}
