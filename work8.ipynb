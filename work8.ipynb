{
 "cells": [
  {
   "cell_type": "markdown",
   "id": "870917df",
   "metadata": {},
   "source": [
    "### Mathematics"
   ]
  },
  {
   "cell_type": "code",
   "execution_count": 61,
   "id": "52b9856e",
   "metadata": {},
   "outputs": [
    {
     "name": "stdout",
     "output_type": "stream",
     "text": [
      "101011111\n",
      "5\n"
     ]
    }
   ],
   "source": [
    "#count consecutif 1 in list. list exemple \n",
    "\n",
    "#l = ['1','0','1','0','1','1','1','1','1']\n",
    "#l = ['0','0','0','0','0']\n",
    "\n",
    "l = list(\"\".join(input()))\n",
    "\n",
    "count = 0\n",
    "nil =[]\n",
    "\n",
    "for i in l:\n",
    "    if i == '1':\n",
    "        count += 1\n",
    "    else:\n",
    "        nil.append(count)\n",
    "        count = 0       \n",
    "        \n",
    "nil.append(count)\n",
    "\n",
    "if nil[0] == 0 :\n",
    "    print(-1)\n",
    "else:\n",
    "    print(nil[-1])"
   ]
  },
  {
   "cell_type": "code",
   "execution_count": 11,
   "id": "6c8f21a9",
   "metadata": {},
   "outputs": [
    {
     "data": {
      "text/plain": [
       "[1, 2, 2]"
      ]
     },
     "execution_count": 11,
     "metadata": {},
     "output_type": "execute_result"
    }
   ],
   "source": [
    ">>> from itertools import groupby\n",
    ">>> def groups(l):\n",
    "        return [sum(g) for i, g in groupby(l) if i == 1]\n",
    "\n",
    "l = [1,0,1,1,0,1,1]\n",
    "groups(l)"
   ]
  },
  {
   "cell_type": "code",
   "execution_count": 64,
   "id": "bdd2be16",
   "metadata": {},
   "outputs": [
    {
     "name": "stdout",
     "output_type": "stream",
     "text": [
      "117\n",
      "no\n"
     ]
    }
   ],
   "source": [
    "num = int(input())\n",
    "\n",
    "if num%7 == 0:\n",
    "    print(\"yes\")\n",
    "else:\n",
    "    print(\"no\")"
   ]
  },
  {
   "cell_type": "code",
   "execution_count": 68,
   "id": "5315803e",
   "metadata": {},
   "outputs": [
    {
     "name": "stdout",
     "output_type": "stream",
     "text": [
      "101010\n",
      "Saturated\n"
     ]
    }
   ],
   "source": [
    "num = set(map(int,input()))\n",
    "\n",
    "if len(num) == 2:\n",
    "    print(\"Saturated\")\n",
    "else:\n",
    "    print(\"Not Saturated\")"
   ]
  },
  {
   "cell_type": "code",
   "execution_count": 72,
   "id": "28991a43",
   "metadata": {},
   "outputs": [
    {
     "name": "stdout",
     "output_type": "stream",
     "text": [
      "4563178\n",
      "not\n"
     ]
    }
   ],
   "source": [
    "n = list(map(int,input()))\n",
    "\n",
    "if sum(n)%3 == 0:\n",
    "    print(\"pure\")\n",
    "\n",
    "else:\n",
    "    print(\"not\")\n",
    "\n"
   ]
  },
  {
   "cell_type": "code",
   "execution_count": 129,
   "id": "8810c6a7",
   "metadata": {},
   "outputs": [
    {
     "name": "stdout",
     "output_type": "stream",
     "text": [
      "20\n",
      "10\n"
     ]
    }
   ],
   "source": [
    "# palindrome\n",
    "n = int(input())\n",
    "\n",
    "count = 0\n",
    "\n",
    "for i in range(1,n+1):\n",
    "    global num\n",
    "    num = i\n",
    "    num = str(num)\n",
    "    rev_num = (num[::-1])\n",
    "\n",
    "    if num == rev_num:\n",
    "        count += 1\n",
    "\n",
    "print(count)\n"
   ]
  },
  {
   "cell_type": "code",
   "execution_count": 2,
   "id": "1486578f",
   "metadata": {},
   "outputs": [
    {
     "name": "stdout",
     "output_type": "stream",
     "text": [
      "3\n",
      "17 72\n"
     ]
    }
   ],
   "source": [
    "#  Doubt\n",
    "\n",
    "num = int(input())\n",
    "\n",
    "x = 0\n",
    "y = 0\n",
    "\n",
    "if num == 1:\n",
    "    x = 1\n",
    "    y = 6\n",
    "else:\n",
    "    x = (6*num)-1\n",
    "    y = 6*(6*(num-1))\n",
    "    \n",
    "print(x,y)"
   ]
  },
  {
   "cell_type": "code",
   "execution_count": 9,
   "id": "37bf8b0d",
   "metadata": {},
   "outputs": [
    {
     "name": "stdout",
     "output_type": "stream",
     "text": [
      "3 5 0\n",
      "5\n"
     ]
    }
   ],
   "source": [
    "a,b,x=list(map(int,input().split()))\n",
    "\n",
    "y=(a*x)+b\n",
    "print(y)\n"
   ]
  },
  {
   "cell_type": "code",
   "execution_count": 17,
   "id": "219b57c8",
   "metadata": {},
   "outputs": [
    {
     "name": "stdout",
     "output_type": "stream",
     "text": [
      "3\n",
      "1 2 8 9\n",
      "8 9 10 22 32 54 65 88 98\n",
      "[1, 2, 8, 8, 9, 9, 10, 22]\n"
     ]
    }
   ],
   "source": [
    "# Debugging .....to do if free\n",
    "\n",
    "n = int(input())\n",
    "\n",
    "list1 = list(map(int,input().split()[:n+1]))\n",
    "list2 = list(map(int,input().split()[:n+1]))\n",
    "\n",
    "list1.extend(list2)\n",
    "print(sorted(list1))\n",
    "# while(n>0):\n",
    "#     if(n > 0):\n",
    "#         print(list1[n-1] + list1[n+1])\n",
    "#         break\n",
    "#  else:\n",
    "#      print(-1)"
   ]
  },
  {
   "cell_type": "code",
   "execution_count": null,
   "id": "30850e6e",
   "metadata": {},
   "outputs": [],
   "source": []
  }
 ],
 "metadata": {
  "kernelspec": {
   "display_name": "Python 3 (ipykernel)",
   "language": "python",
   "name": "python3"
  },
  "language_info": {
   "codemirror_mode": {
    "name": "ipython",
    "version": 3
   },
   "file_extension": ".py",
   "mimetype": "text/x-python",
   "name": "python",
   "nbconvert_exporter": "python",
   "pygments_lexer": "ipython3",
   "version": "3.9.2"
  }
 },
 "nbformat": 4,
 "nbformat_minor": 5
}
