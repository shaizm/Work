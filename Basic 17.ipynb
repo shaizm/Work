{
 "cells": [
  {
   "cell_type": "code",
   "execution_count": 2,
   "id": "5ca41552",
   "metadata": {},
   "outputs": [
    {
     "name": "stdout",
     "output_type": "stream",
     "text": [
      "<class 'int'> <class 'float'> <class 'complex'>\n"
     ]
    }
   ],
   "source": [
    "a = 100\n",
    "b = 10.5\n",
    "c = 10j\n",
    "print(type(a),type(b),type(c))"
   ]
  },
  {
   "cell_type": "code",
   "execution_count": 4,
   "id": "7059aba6",
   "metadata": {},
   "outputs": [
    {
     "name": "stdout",
     "output_type": "stream",
     "text": [
      "harry.\n",
      "r\n"
     ]
    }
   ],
   "source": [
    "c = input()\n",
    "a = c+\" happy hoo\"\n",
    "print(a[])"
   ]
  },
  {
   "cell_type": "code",
   "execution_count": 29,
   "id": "72ff1b5b",
   "metadata": {},
   "outputs": [
    {
     "name": "stdout",
     "output_type": "stream",
     "text": [
      "Mon,Oct,10,17:37:04, India Standard Time,2022\n"
     ]
    }
   ],
   "source": [
    "import time\n",
    "time_ = time.localtime()\n",
    "print(time.strftime('%a,%b,%d,%H:%M:%S, %Z,%Y',time_))"
   ]
  },
  {
   "cell_type": "code",
   "execution_count": 38,
   "id": "19925f92",
   "metadata": {},
   "outputs": [
    {
     "name": "stdout",
     "output_type": "stream",
     "text": [
      "[0, 1, 2, 3, 4]\n"
     ]
    }
   ],
   "source": [
    "x = []\n",
    "for i in range(5):\n",
    "    x.append(i)\n",
    "print(x)"
   ]
  },
  {
   "cell_type": "code",
   "execution_count": 39,
   "id": "df8a2d6e",
   "metadata": {},
   "outputs": [],
   "source": [
    "del x[1:3]"
   ]
  },
  {
   "cell_type": "code",
   "execution_count": 40,
   "id": "b4d8f59f",
   "metadata": {},
   "outputs": [
    {
     "data": {
      "text/plain": [
       "[0, 3, 4]"
      ]
     },
     "execution_count": 40,
     "metadata": {},
     "output_type": "execute_result"
    }
   ],
   "source": [
    "x"
   ]
  },
  {
   "cell_type": "code",
   "execution_count": null,
   "id": "75829914",
   "metadata": {},
   "outputs": [],
   "source": [
    "x = (5,7,6,9)\n",
    "\n",
    "for i in x:\n",
    "    d.append(i+7b\n",
    "        "
   ]
  },
  {
   "cell_type": "code",
   "execution_count": 42,
   "id": "77da144a",
   "metadata": {},
   "outputs": [
    {
     "data": {
      "text/plain": [
       "{'apple': 100, 'bannana': 20, 'jam': 'A box'}"
      ]
     },
     "execution_count": 42,
     "metadata": {},
     "output_type": "execute_result"
    }
   ],
   "source": [
    "s = {}\n",
    "s['apple'] = 100\n",
    "s['bannana'] = 20\n",
    "s['jam'] = 'A box'\n",
    "s"
   ]
  },
  {
   "cell_type": "code",
   "execution_count": 51,
   "id": "c3a9d9a2",
   "metadata": {},
   "outputs": [
    {
     "data": {
      "text/plain": [
       "{'apple': 100, 'bannana': 20, 'jam': '2box'}"
      ]
     },
     "execution_count": 51,
     "metadata": {},
     "output_type": "execute_result"
    }
   ],
   "source": [
    "s['jam'] = '2box'\n",
    "s"
   ]
  },
  {
   "cell_type": "code",
   "execution_count": 49,
   "id": "7d7e041f",
   "metadata": {},
   "outputs": [
    {
     "data": {
      "text/plain": [
       "'2box'"
      ]
     },
     "execution_count": 49,
     "metadata": {},
     "output_type": "execute_result"
    }
   ],
   "source": [
    "s.pop('jam')\n"
   ]
  },
  {
   "cell_type": "code",
   "execution_count": 56,
   "id": "665826e2",
   "metadata": {},
   "outputs": [
    {
     "data": {
      "text/plain": [
       "('jam', '2box')"
      ]
     },
     "execution_count": 56,
     "metadata": {},
     "output_type": "execute_result"
    }
   ],
   "source": [
    "s.popitem()"
   ]
  },
  {
   "cell_type": "code",
   "execution_count": 57,
   "id": "c6623e5b",
   "metadata": {},
   "outputs": [
    {
     "name": "stdout",
     "output_type": "stream",
     "text": [
      "*\n",
      "**\n",
      "***\n",
      "****\n",
      "*****\n",
      "****\n",
      "***\n",
      "**\n",
      "*\n"
     ]
    }
   ],
   "source": [
    "for i in range(1,6):\n",
    "    print('*'*i)\n",
    "for i in range(4,0,-1):\n",
    "    print('*'*i)\n",
    "    "
   ]
  },
  {
   "cell_type": "code",
   "execution_count": 65,
   "id": "ede2486d",
   "metadata": {},
   "outputs": [
    {
     "name": "stdout",
     "output_type": "stream",
     "text": [
      "*\n",
      "**\n",
      "***\n",
      "****\n",
      "*****\n",
      "****\n",
      "***\n",
      "**\n",
      "*\n"
     ]
    }
   ],
   "source": [
    "for i in range(1,5):\n",
    "    for j in range(i):\n",
    "        print('*',end='')\n",
    "    print('')\n",
    "for i in range(5,0,-1):\n",
    "    for j in range(i):\n",
    "        print('*',end='')\n",
    "    print('')   "
   ]
  },
  {
   "cell_type": "code",
   "execution_count": 68,
   "id": "985e0e0b",
   "metadata": {},
   "outputs": [
    {
     "name": "stdout",
     "output_type": "stream",
     "text": [
      "1\n",
      "5\n",
      "7\n",
      "11\n",
      "13\n",
      "17\n",
      "19\n"
     ]
    }
   ],
   "source": [
    "i = 0\n",
    "while i < 21:\n",
    "    if i%2!=0 and i%3!=0:\n",
    "        print(i)\n",
    "    i+=1\n",
    "    "
   ]
  },
  {
   "cell_type": "code",
   "execution_count": 76,
   "id": "fa51fdf3",
   "metadata": {},
   "outputs": [
    {
     "data": {
      "text/plain": [
       "5"
      ]
     },
     "execution_count": 76,
     "metadata": {},
     "output_type": "execute_result"
    }
   ],
   "source": [
    "def rec(a,b):\n",
    "    if a==0:\n",
    "        return b\n",
    "    else:\n",
    "        return rec(b%a,a)\n",
    "\n",
    "rec(5,25)"
   ]
  },
  {
   "cell_type": "code",
   "execution_count": 81,
   "id": "3ccde4e1",
   "metadata": {},
   "outputs": [
    {
     "name": "stdout",
     "output_type": "stream",
     "text": [
      "Enter the hypo5\n",
      "Enter the side13\n",
      "Enter the side24\n",
      "True\n"
     ]
    }
   ],
   "source": [
    "h = float(input('Enter the hypo'))\n",
    "a = float(input('Enter the side1'))\n",
    "b = float(input('Enter the side2'))\n",
    "\n",
    "if(h**2) == (a**2+b**2):\n",
    "    print(True)"
   ]
  },
  {
   "cell_type": "code",
   "execution_count": 99,
   "id": "49749f68",
   "metadata": {},
   "outputs": [
    {
     "name": "stdout",
     "output_type": "stream",
     "text": [
      "0\n",
      "1\n",
      "1\n",
      "2\n",
      "3\n"
     ]
    }
   ],
   "source": [
    "count = 0\n",
    "n = 5\n",
    "a,b = 0,1\n",
    "if  n<0:\n",
    "    print('Enter positive num')\n",
    "elif n==b:\n",
    "    print(a)\n",
    "else:\n",
    "    while count < n:\n",
    "        print(a)\n",
    "        c = a+b\n",
    "        a = b\n",
    "        b = c\n",
    "        count = count + 1\n"
   ]
  },
  {
   "cell_type": "code",
   "execution_count": 100,
   "id": "bfbcfcab",
   "metadata": {},
   "outputs": [
    {
     "name": "stdout",
     "output_type": "stream",
     "text": [
      "11\n"
     ]
    }
   ],
   "source": [
    "print(5+6)"
   ]
  },
  {
   "cell_type": "code",
   "execution_count": 98,
   "id": "d8b02883",
   "metadata": {},
   "outputs": [],
   "source": [
    "def fib(n):\n",
    "    a,b = 0,1\n",
    "    while b<n:\n",
    "        print(b)\n",
    "        a,b=b,a+b\n",
    "    print()"
   ]
  },
  {
   "cell_type": "code",
   "execution_count": 105,
   "id": "22c82753",
   "metadata": {},
   "outputs": [
    {
     "name": "stdout",
     "output_type": "stream",
     "text": [
      "Enter the file nameC:\\Users\\Shaiz!!\\temp2\\Python Basics\\Ineuron\\try_1.txt\n",
      "Enter the file nameC:\\Users\\Shaiz!!\\temp2\\Python Basics\\Ineuron\\try_2.txt\n"
     ]
    },
    {
     "data": {
      "text/plain": [
       "19"
      ]
     },
     "execution_count": 105,
     "metadata": {},
     "output_type": "execute_result"
    }
   ],
   "source": [
    "file1 = input(\"Enter the file name\")\n",
    "file2 = input(\"Enter the file name\")\n",
    "\n",
    "f1 = open(file1,'r')\n",
    "ans = f1.read()\n",
    "\n",
    "f2 = open(file2,'+w')\n",
    "f2.write(ans)\n",
    "\n"
   ]
  },
  {
   "cell_type": "code",
   "execution_count": 106,
   "id": "f00946ee",
   "metadata": {},
   "outputs": [],
   "source": [
    "f1.close()\n",
    "f2.close()"
   ]
  },
  {
   "cell_type": "code",
   "execution_count": null,
   "id": "40fc9afa",
   "metadata": {},
   "outputs": [],
   "source": [
    "file1 = input()\n",
    "file2 = input()\n",
    "\n",
    "a=open(file1,'+w')\n",
    "c = a.write('apple ,call, jokcey')\n",
    "d = a.read(-1)\n",
    "\n",
    "b = open(file2,'w')\n",
    "b.write(d)\n",
    "\n",
    "a.close()\n",
    "b.close()"
   ]
  },
  {
   "cell_type": "code",
   "execution_count": 150,
   "id": "2408e795",
   "metadata": {},
   "outputs": [
    {
     "name": "stdout",
     "output_type": "stream",
     "text": [
      "C:\\Users\\Shaiz!!\\temp2\\Python Basics\\Ineuron\\try_1.txt\n"
     ]
    },
    {
     "data": {
      "text/plain": [
       "['qqqqqq',\n",
       " 'qqqqqqqq',\n",
       " 'qqqwe',\n",
       " 'eeeeee',\n",
       " 'eeeeeeeeeeefff',\n",
       " 'fffff',\n",
       " 'gff',\n",
       " 'fffffff',\n",
       " 'ffffffh',\n",
       " 'cvvvvv',\n",
       " 'jflhcsd',\n",
       " 'gfsjkcbn',\n",
       " 'sccsvsd',\n",
       " 'rrrrrrr',\n",
       " 'srrrrr',\n",
       " 'errrrrrr',\n",
       " 'qrrrrrrrrrrr',\n",
       " 'wrrrrrrrr',\n",
       " 'zrrrrr']"
      ]
     },
     "execution_count": 150,
     "metadata": {},
     "output_type": "execute_result"
    }
   ],
   "source": [
    "file = input()\n",
    "\n",
    "f1 = open(file,'r')\n",
    "f_read = f1.read()\n",
    "contnt = f_read.split()\n",
    "f1.close()\n",
    "contnt\n",
    "# for i in f_read:\n",
    "#     if i not in x:\n",
    "#         x.append(i)\n",
    "    \n",
    "# print(sorted(x))"
   ]
  }
 ],
 "metadata": {
  "kernelspec": {
   "display_name": "Python 3 (ipykernel)",
   "language": "python",
   "name": "python3"
  },
  "language_info": {
   "codemirror_mode": {
    "name": "ipython",
    "version": 3
   },
   "file_extension": ".py",
   "mimetype": "text/x-python",
   "name": "python",
   "nbconvert_exporter": "python",
   "pygments_lexer": "ipython3",
   "version": "3.9.2"
  }
 },
 "nbformat": 4,
 "nbformat_minor": 5
}
