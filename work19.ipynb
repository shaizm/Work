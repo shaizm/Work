{
 "cells": [
  {
   "cell_type": "code",
   "execution_count": 32,
   "id": "46dfec1d",
   "metadata": {},
   "outputs": [
    {
     "name": "stdout",
     "output_type": "stream",
     "text": [
      " I was born on 12 october 1998.\n",
      "1998\n"
     ]
    }
   ],
   "source": [
    "a = map(str,input().replace('.','').split(' '))\n",
    "num = []\n",
    "for i in a:\n",
    "    if i.isdigit():\n",
    "        num.append(int(i))\n",
    "print(max(num))"
   ]
  },
  {
   "cell_type": "code",
   "execution_count": 47,
   "id": "84d55318",
   "metadata": {},
   "outputs": [
    {
     "name": "stdout",
     "output_type": "stream",
     "text": [
      "I am john cena cena john\n",
      "I am\n"
     ]
    }
   ],
   "source": [
    "'''\n",
    "string = input().split(' ')\n",
    "\n",
    "new_str = ''\n",
    "for i in string:\n",
    "    if string.count(i)>1:\n",
    "        continue\n",
    "    else:\n",
    "        new_str = new_str + ' '+i\n",
    "\n",
    "print(new_str[1:])\n",
    "'''\n",
    "#string problem 11"
   ]
  },
  {
   "cell_type": "code",
   "execution_count": 82,
   "id": "b3417c60",
   "metadata": {},
   "outputs": [
    {
     "name": "stdout",
     "output_type": "stream",
     "text": [
      "The sun rises in the east\n",
      "sun east\n"
     ]
    }
   ],
   "source": [
    "# 1\n",
    "s = input()\n",
    "s1 = s.lower()\n",
    "t = ['the','a','an']\n",
    "trans = s1.split()\n",
    "l = [i for i,x in enumerate(trans) if x in t]\n",
    "print(*[s.split()[y+1] for y in l])"
   ]
  },
  {
   "cell_type": "code",
   "execution_count": 68,
   "id": "6363c7c1",
   "metadata": {},
   "outputs": [
    {
     "name": "stdout",
     "output_type": "stream",
     "text": [
      "['is', 'python']\n"
     ]
    }
   ],
   "source": [
    "# 2 \n",
    "s = 'hi my NAME is ryan, and i am new to NAME python and would like to learn more'\n",
    "t = 'NAME'\n",
    "il = [i for i, x in enumerate(s.translate(s.maketrans(\"\",\"\")).split()) if x == t]\n",
    "print ([s.split()[x+1] for x in il])\n",
    "\n",
    "#https://www.w3schools.com/python/ref_string_maketrans.asp"
   ]
  },
  {
   "cell_type": "code",
   "execution_count": 37,
   "id": "c809e494",
   "metadata": {},
   "outputs": [
    {
     "name": "stdout",
     "output_type": "stream",
     "text": [
      "[[]][{{)\n",
      "1\n"
     ]
    }
   ],
   "source": [
    "s = input()\n",
    "count = []\n",
    "\n",
    "for i in s:\n",
    "    c = s.count(i)\n",
    "    count.append(c)\n",
    "\n",
    "if sum(count)%2 == 0:\n",
    "    print(1)\n",
    "else:\n",
    "    print(0)"
   ]
  },
  {
   "cell_type": "code",
   "execution_count": null,
   "id": "59abab09",
   "metadata": {},
   "outputs": [],
   "source": [
    "#1\n",
    "s = input()\n",
    "s1 = s.lower()\n",
    "mid = len(s)//2\n",
    "\n",
    "if s1[0]=='a' and s[-1]=='z' and s[mid]=='m':\n",
    "    print(1)\n",
    "else:\n",
    "    print(0) "
   ]
  },
  {
   "cell_type": "code",
   "execution_count": 49,
   "id": "e4d4a985",
   "metadata": {},
   "outputs": [
    {
     "name": "stdout",
     "output_type": "stream",
     "text": [
      "1\n"
     ]
    }
   ],
   "source": [
    "#2\n",
    "# from math import ceil\n",
    "from math import floor \n",
    "\n",
    "s = \"Abmcz\"\n",
    "s1 = s.lower()\n",
    "#mid = ceil(len(s)/2)\n",
    "mid = floor(len(s)/2)\n",
    "\n",
    "if s1[0]=='a' and s[-1]=='z' and s[mid]=='m':\n",
    "    print(1)\n",
    "else:\n",
    "    print(0)  "
   ]
  },
  {
   "cell_type": "code",
   "execution_count": 53,
   "id": "793e3397",
   "metadata": {},
   "outputs": [
    {
     "name": "stdout",
     "output_type": "stream",
     "text": [
      "aaaaaAAAAAA\n",
      "0\n"
     ]
    }
   ],
   "source": [
    "s = input()\n",
    "s1 = set(s)\n",
    "\n",
    "if len(s1)== 3:\n",
    "    print(1)\n",
    "else:\n",
    "    print(0) "
   ]
  },
  {
   "cell_type": "code",
   "execution_count": 71,
   "id": "ae8796f1",
   "metadata": {},
   "outputs": [
    {
     "name": "stdout",
     "output_type": "stream",
     "text": [
      "tomato\n",
      "to**to\n"
     ]
    }
   ],
   "source": [
    "s = input()\n",
    "\n",
    "new_s = ''\n",
    "\n",
    "if len(s)%2 == 0:\n",
    "    mid1 = (len(s)/2)-1\n",
    "    mid2 = (len(s)/2)\n",
    "    mid = None\n",
    "else:\n",
    "    mid = len(s)//2\n",
    "    mid1 = None\n",
    "    mid2 = None\n",
    "\n",
    "for i,x in enumerate(s):\n",
    "    if i == mid or i == mid1 or i == mid2:\n",
    "        x = '*'\n",
    "        new_s = new_s + x\n",
    "    else:\n",
    "        new_s = new_s + x\n",
    "\n",
    "print(new_s)"
   ]
  },
  {
   "cell_type": "code",
   "execution_count": 81,
   "id": "9fc67167",
   "metadata": {},
   "outputs": [
    {
     "name": "stdout",
     "output_type": "stream",
     "text": [
      "I enjoy doing codekata\n",
      "joy\n",
      "-1\n"
     ]
    }
   ],
   "source": [
    "sentence = input().lower()\n",
    "string = input().lower()\n",
    "\n",
    "if string in sentence.split():\n",
    "    print(1)\n",
    "else:\n",
    "    print(-1)"
   ]
  },
  {
   "cell_type": "code",
   "execution_count": 87,
   "id": "ccb294c8",
   "metadata": {},
   "outputs": [
    {
     "name": "stdout",
     "output_type": "stream",
     "text": [
      "nitin\n",
      "1\n"
     ]
    }
   ],
   "source": [
    "string = input().lower()\n",
    "rever_string = ''.join(reversed(string))\n",
    "\n",
    "if string == rever_string:\n",
    "    print(1)\n",
    "else:\n",
    "    print(-1)"
   ]
  },
  {
   "cell_type": "code",
   "execution_count": 92,
   "id": "33044a3a",
   "metadata": {},
   "outputs": [
    {
     "name": "stdout",
     "output_type": "stream",
     "text": [
      "codekata\n",
      "8\n"
     ]
    }
   ],
   "source": [
    "s = input()\n",
    "count = 0\n",
    "\n",
    "for i in s:\n",
    "    count = count + 1\n",
    "print(count)"
   ]
  },
  {
   "cell_type": "code",
   "execution_count": 93,
   "id": "245a3bd0",
   "metadata": {},
   "outputs": [
    {
     "name": "stdout",
     "output_type": "stream",
     "text": [
      "hello world\n",
      "hello world\n"
     ]
    }
   ],
   "source": [
    "s = input()\n",
    "print(s)"
   ]
  },
  {
   "cell_type": "code",
   "execution_count": 138,
   "id": "8bc932f4",
   "metadata": {},
   "outputs": [
    {
     "name": "stdout",
     "output_type": "stream",
     "text": [
      "apple\n",
      "a\n"
     ]
    }
   ],
   "source": [
    "# prints the first non repeating character\n",
    "s= input()\n",
    "l = []\n",
    "\n",
    "for i in s:\n",
    "    if s.count(i)==1:\n",
    "        l.append(i)\n",
    "        break\n",
    "    \n",
    "\n",
    "if len(l)>0:\n",
    "    print(l[0])\n",
    "else:\n",
    "    print(-1)"
   ]
  },
  {
   "cell_type": "code",
   "execution_count": 1,
   "id": "890c75d0",
   "metadata": {},
   "outputs": [
    {
     "name": "stdout",
     "output_type": "stream",
     "text": [
      "aabbcc\n",
      "Wonder\n"
     ]
    }
   ],
   "source": [
    "s = input()\n",
    "s = set(s)\n",
    "if len(s) == 3:\n",
    "    print('Wonder')\n",
    "else:\n",
    "    print(-1)"
   ]
  },
  {
   "cell_type": "code",
   "execution_count": 36,
   "id": "c108caba",
   "metadata": {},
   "outputs": [
    {
     "name": "stdout",
     "output_type": "stream",
     "text": [
      "HXTPS2142R8\n"
     ]
    }
   ],
   "source": [
    "string = ''.join(input())\n",
    "#string1 = list(map(str, string))\n",
    "string1 = list(string1)\n",
    "\n",
    "s = []\n",
    "n = []\n",
    "\n",
    "for i in string:\n",
    "    if i.isdigit():\n",
    "        n.append(i)\n",
    "    else:\n",
    "        s.append(i)\n",
    "\n",
    "if len(string)==10:\n",
    "    for i in string:\n",
    "        if i.isupper():\n",
    "            if string[0:5].isalpha() and string[-1].isalpha():\n",
    "                if string[5:9].isdigit():\n",
    "                    print('pan')\n",
    "                    break\n",
    "                else:\n",
    "                    print('no pan')\n",
    "                    break\n",
    "#             else:\n",
    "#                 print('no pan')\n",
    "#                 break\n",
    "#         else:\n",
    "#             print('no pan')\n",
    "#             break"
   ]
  },
  {
   "cell_type": "code",
   "execution_count": 40,
   "id": "965e4de6",
   "metadata": {},
   "outputs": [
    {
     "name": "stdout",
     "output_type": "stream",
     "text": [
      "HXTPS2142R\n",
      "pan\n",
      "pan\n",
      "pan\n",
      "pan\n",
      "pan\n",
      "pan\n"
     ]
    }
   ],
   "source": [
    "string = ''.join(input())\n",
    "\n",
    "s = []\n",
    "n = []\n",
    "\n",
    "for i in string:\n",
    "    if i.isdigit():\n",
    "        n.append(i)\n",
    "    else:\n",
    "        s.append(i)\n",
    "\n",
    "def next_condition():        \n",
    "    if len(string)==10:\n",
    "        if string[0:5].isalpha() and string[-1].isalpha():\n",
    "            if string[5:9].isdigit():\n",
    "                print('pan')                \n",
    "    else:\n",
    "        print('no pan')\n",
    "        \n",
    "        \n",
    "for i in s:\n",
    "    if i.isupper():\n",
    "        next_condition()\n",
    "    else:\n",
    "        print('no pan')\n",
    "        \n",
    "\n",
    "#             else:\n",
    "#                 print('no pan')\n",
    "#                 break\n",
    "#         else:\n",
    "#             print('no pan')\n",
    "#             break"
   ]
  },
  {
   "cell_type": "code",
   "execution_count": 51,
   "id": "c35279d3",
   "metadata": {},
   "outputs": [
    {
     "name": "stdout",
     "output_type": "stream",
     "text": [
      "HXtPS2142R\n",
      "no pan\n"
     ]
    }
   ],
   "source": [
    "string = ''.join(input())\n",
    "\n",
    "s = []\n",
    "n = []\n",
    "s2 = []\n",
    "\n",
    "def next_condition():        \n",
    "    if len(string)==10:\n",
    "        if string[0:5].isalpha() and string[-1].isalpha():\n",
    "            if string[5:9].isdigit():\n",
    "                print('pan')                \n",
    "    else:\n",
    "        print('not pan')\n",
    "\n",
    "def seperation():\n",
    "    for i in string:\n",
    "        if i.isdigit():\n",
    "            n.append(i)\n",
    "        else:\n",
    "            s.append(i)\n",
    "\n",
    "def condition():\n",
    "    for i in s:\n",
    "        if i.isupper():\n",
    "            s2.append(i)\n",
    "    if len(s2)==6:\n",
    "        next_condition()\n",
    "    else:\n",
    "        print('not pan')\n",
    "        \n",
    "seperation()\n",
    "condition()"
   ]
  },
  {
   "cell_type": "code",
   "execution_count": 58,
   "id": "095b4a54",
   "metadata": {},
   "outputs": [
    {
     "name": "stdout",
     "output_type": "stream",
     "text": [
      "abcddee\n",
      "d e\n"
     ]
    }
   ],
   "source": [
    "from collections import Counter\n",
    "\n",
    "string = input()\n",
    "\n",
    "c = Counter(string)\n",
    "dup_char = [x for x in string if c[x] == 2]\n",
    "\n",
    "dup_char = set(dup_char)\n",
    "\n",
    "if len(dup_char)>0:\n",
    "    print(*dup_char)\n",
    "else:\n",
    "    print(-1)"
   ]
  }
 ],
 "metadata": {
  "kernelspec": {
   "display_name": "Python 3 (ipykernel)",
   "language": "python",
   "name": "python3"
  },
  "language_info": {
   "codemirror_mode": {
    "name": "ipython",
    "version": 3
   },
   "file_extension": ".py",
   "mimetype": "text/x-python",
   "name": "python",
   "nbconvert_exporter": "python",
   "pygments_lexer": "ipython3",
   "version": "3.9.2"
  }
 },
 "nbformat": 4,
 "nbformat_minor": 5
}
