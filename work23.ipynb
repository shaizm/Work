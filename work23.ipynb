{
 "cells": [
  {
   "cell_type": "code",
   "execution_count": 9,
   "id": "c18a3aff",
   "metadata": {},
   "outputs": [
    {
     "name": "stdout",
     "output_type": "stream",
     "text": [
      "5\n",
      "code\n",
      "overload\n",
      "vishal\n",
      "sundar\n",
      "anish\n",
      "yes\n"
     ]
    }
   ],
   "source": [
    "n = int(input())\n",
    "l = []\n",
    "L = []\n",
    "\n",
    "for i in range(0,n):\n",
    "    name = input()\n",
    "    l.append(name)\n",
    "    \n",
    "for j in l:\n",
    "    for k in j:\n",
    "        if k in 'AEIOUaeiou':\n",
    "            L.append(j)\n",
    "            break\n",
    "        else:\n",
    "            continue\n",
    "        \n",
    "if len(L) == n:\n",
    "    print('yes')\n",
    "else:\n",
    "    print('no')        \n"
   ]
  },
  {
   "cell_type": "code",
   "execution_count": 28,
   "id": "1e91e5b8",
   "metadata": {},
   "outputs": [
    {
     "name": "stdout",
     "output_type": "stream",
     "text": [
      "5\n",
      "1\n",
      "1 1 1\n",
      "1 1 1 1 1\n",
      "1 1 1 1 1 1 1\n",
      "1 1 1 1 1 1 1 1 1\n"
     ]
    }
   ],
   "source": [
    "n = int(input())\n",
    "count = 0\n",
    "\n",
    "for i in range(0,(n+n),2):\n",
    "    if count <= n:\n",
    "        print(\" \".join('1'*(i+1)))\n",
    "        count += 1\n",
    "    else:\n",
    "        break\n",
    "    "
   ]
  },
  {
   "cell_type": "code",
   "execution_count": 50,
   "id": "8ecd3d6c",
   "metadata": {},
   "outputs": [
    {
     "name": "stdout",
     "output_type": "stream",
     "text": [
      "jack and jill went up and down to get water\n",
      "jill and jack went up and down to get water\n"
     ]
    }
   ],
   "source": [
    "s = list(map(str, input().split()))\n",
    "pre = ''\n",
    "post = ''\n",
    "\n",
    "def swap():\n",
    "    for i in s:\n",
    "        if i == 'and':\n",
    "            pre_index = s.index(i)-1\n",
    "            pre = s[pre_index]\n",
    "            post_index = s.index(i)+1        \n",
    "            post = s[post_index]\n",
    "        \n",
    "\n",
    "    s[pre_index] = post\n",
    "    s[post_index] = pre\n",
    "\n",
    "swap()\n",
    "print(' '.join(s))\n",
    "\n",
    "# This code swaps only first occurance of 'and'\n",
    "# Refer 20-6-2022\n"
   ]
  },
  {
   "cell_type": "code",
   "execution_count": 59,
   "id": "e1b81f3c",
   "metadata": {},
   "outputs": [
    {
     "name": "stdout",
     "output_type": "stream",
     "text": [
      "jack and jill went up and down to get water\n",
      "jack\n",
      "jill\n",
      "jack and jill went up and down to get water\n"
     ]
    }
   ],
   "source": [
    "s = list(map(str, input().split()))\n",
    "pre = ''\n",
    "post = ''\n",
    "\n",
    "\n",
    "for i in s:\n",
    "    if i == 'and':\n",
    "        if count == 0:\n",
    "            pre_index = s.index(i)-1\n",
    "            pre = s[pre_index]\n",
    "            post_index = s.index(i)+1        \n",
    "            post = s[post_index]\n",
    "            count =+ 1\n",
    "            \n",
    "        elif count >0:\n",
    "            pre_index = s.index(i, pre_index+1)-1\n",
    "            pre = s[pre_index]\n",
    "            print(pre)\n",
    "            post_index = s.index(i, pre_index+1)+1        \n",
    "            post = s[post_index]\n",
    "            count =+ 1\n",
    "\n",
    "    s[pre_index] = post\n",
    "    s[post_index] = pre\n",
    "\n",
    "print(' '.join(s))\n",
    "\n",
    "# some corrections required\n"
   ]
  }
 ],
 "metadata": {
  "kernelspec": {
   "display_name": "Python 3 (ipykernel)",
   "language": "python",
   "name": "python3"
  },
  "language_info": {
   "codemirror_mode": {
    "name": "ipython",
    "version": 3
   },
   "file_extension": ".py",
   "mimetype": "text/x-python",
   "name": "python",
   "nbconvert_exporter": "python",
   "pygments_lexer": "ipython3",
   "version": "3.9.2"
  }
 },
 "nbformat": 4,
 "nbformat_minor": 5
}
