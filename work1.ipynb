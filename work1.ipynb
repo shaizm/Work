{
 "cells": [
  {
   "cell_type": "code",
   "execution_count": 5,
   "id": "e94a8024",
   "metadata": {},
   "outputs": [
    {
     "name": "stdout",
     "output_type": "stream",
     "text": [
      "1 2 3 4 5\n",
      "1   2   3   4   5\n"
     ]
    }
   ],
   "source": [
    "A = input()\n",
    "print(A)"
   ]
  },
  {
   "cell_type": "code",
   "execution_count": 6,
   "id": "77678000",
   "metadata": {},
   "outputs": [
    {
     "name": "stdout",
     "output_type": "stream",
     "text": [
      "5 3\n",
      "12345\n",
      "5 3\n",
      "12345\n"
     ]
    }
   ],
   "source": [
    "A = input()\n",
    "B = input()\n",
    "print(A)\n",
    "print(B)"
   ]
  },
  {
   "cell_type": "code",
   "execution_count": 7,
   "id": "1593bb28",
   "metadata": {},
   "outputs": [
    {
     "name": "stdout",
     "output_type": "stream",
     "text": [
      "2 4\n",
      "2 4\n",
      "2 4\n",
      "2 4\n",
      "2 4\n",
      "2 4\n"
     ]
    }
   ],
   "source": [
    "A = input()\n",
    "B = input()\n",
    "C = input()\n",
    "print(A)\n",
    "print(B)\n",
    "print(C)"
   ]
  },
  {
   "cell_type": "code",
   "execution_count": 8,
   "id": "62af5e6d",
   "metadata": {},
   "outputs": [
    {
     "name": "stdout",
     "output_type": "stream",
     "text": [
      "2\n",
      "4\n",
      "5\n",
      "2 4 5\n"
     ]
    }
   ],
   "source": [
    "A = input()\n",
    "B = input()\n",
    "C = input()\n",
    "print(A, B, C)"
   ]
  },
  {
   "cell_type": "code",
   "execution_count": 9,
   "id": "87b38406",
   "metadata": {},
   "outputs": [
    {
     "name": "stdout",
     "output_type": "stream",
     "text": [
      "2 5\n",
      "2 5 6\n",
      "2 4 5\n",
      "2 5\n",
      "2 5 6\n",
      "2 4 5\n"
     ]
    }
   ],
   "source": [
    "A = input()\n",
    "B = input()\n",
    "C = input()\n",
    "print(A)\n",
    "print(B)\n",
    "print(C)"
   ]
  },
  {
   "cell_type": "code",
   "execution_count": 11,
   "id": "e61170ad",
   "metadata": {},
   "outputs": [
    {
     "name": "stdout",
     "output_type": "stream",
     "text": [
      "guvi\n",
      "g u v i\n"
     ]
    }
   ],
   "source": [
    "A = input()\n",
    "print(\" \".join(A))"
   ]
  },
  {
   "cell_type": "code",
   "execution_count": 22,
   "id": "bc50f1d1",
   "metadata": {},
   "outputs": [
    {
     "name": "stdout",
     "output_type": "stream",
     "text": [
      "1.2 2.3 5.6\n",
      "1.2\n",
      "2.3\n",
      "5.6\n"
     ]
    }
   ],
   "source": [
    "A = input()\n",
    "A = A.split(\" \")\n",
    "print(A[0])\n",
    "print(A[1])\n",
    "print(A[2])"
   ]
  },
  {
   "cell_type": "code",
   "execution_count": 33,
   "id": "dd27ea7d",
   "metadata": {},
   "outputs": [
    {
     "name": "stdout",
     "output_type": "stream",
     "text": [
      "Guvi Geek\n",
      "G\n",
      "u\n",
      "v\n",
      "i\n",
      "G\n",
      "e\n",
      "e\n",
      "k\n"
     ]
    }
   ],
   "source": [
    "A = input()\n",
    "A = A.replace(\" \",\"\")\n",
    "num = len(A)\n",
    "\n",
    "for i in range(num):\n",
    "    print(A[i])"
   ]
  },
  {
   "cell_type": "code",
   "execution_count": 38,
   "id": "90ee35df",
   "metadata": {},
   "outputs": [
    {
     "name": "stdout",
     "output_type": "stream",
     "text": [
      "sdfdfg\n",
      "s,d,f,d,f,g\n"
     ]
    }
   ],
   "source": [
    "A = input()\n",
    "print(\",\".join(A))"
   ]
  },
  {
   "cell_type": "code",
   "execution_count": 42,
   "id": "ae8b1476",
   "metadata": {},
   "outputs": [
    {
     "name": "stdout",
     "output_type": "stream",
     "text": [
      "2\n",
      "12.56\n"
     ]
    }
   ],
   "source": [
    "from math import pi\n",
    "\n",
    "radius = float(input())\n",
    "circumference = 2*pi*radius\n",
    "print(round(circumference,2))\n"
   ]
  },
  {
   "cell_type": "code",
   "execution_count": 44,
   "id": "b3796bc2",
   "metadata": {},
   "outputs": [
    {
     "name": "stdout",
     "output_type": "stream",
     "text": [
      "20\n",
      "173.21\n"
     ]
    }
   ],
   "source": [
    "from math import sqrt\n",
    "s = int(input())\n",
    "A = (1/4)*(sqrt(3)*(s*s))\n",
    "print(round(A,2))\n"
   ]
  },
  {
   "cell_type": "code",
   "execution_count": 49,
   "id": "e1aa7ae0",
   "metadata": {},
   "outputs": [
    {
     "name": "stdout",
     "output_type": "stream",
     "text": [
      "0\n",
      "0\n"
     ]
    }
   ],
   "source": [
    "N = int(input())\n",
    "\n",
    "if N > 0:\n",
    "    print(N*N)\n",
    "elif N == 0:\n",
    "    print(\"0\")\n",
    "else:\n",
    "    print(\"Error\") "
   ]
  },
  {
   "cell_type": "code",
   "execution_count": 50,
   "id": "5ec55b50",
   "metadata": {},
   "outputs": [
    {
     "name": "stdout",
     "output_type": "stream",
     "text": [
      "2\n",
      "8\n"
     ]
    }
   ],
   "source": [
    "N = int(input())\n",
    "print(N*N*N)"
   ]
  },
  {
   "cell_type": "code",
   "execution_count": 51,
   "id": "f944f7a5",
   "metadata": {},
   "outputs": [
    {
     "name": "stdout",
     "output_type": "stream",
     "text": [
      "2\n",
      "2000\n",
      "200000\n"
     ]
    }
   ],
   "source": [
    "N = int(input())\n",
    "print(N*1000)\n",
    "print(N*100000)"
   ]
  },
  {
   "cell_type": "code",
   "execution_count": 69,
   "id": "9a6de171",
   "metadata": {},
   "outputs": [
    {
     "name": "stdout",
     "output_type": "stream",
     "text": [
      "3\n",
      "31\n"
     ]
    }
   ],
   "source": [
    "Days = {1:31,2:28,3:31,4:30,5:31,6:30,7:31,8:31,9:30,10:31,11:30,12:31}\n",
    "Month = int(input())\n",
    "if Month > 12 or Month <1:\n",
    "    print(\"Error\")\n",
    "else:\n",
    "    print(Days[Month])"
   ]
  },
  {
   "cell_type": "code",
   "execution_count": 3,
   "id": "834e131f",
   "metadata": {},
   "outputs": [
    {
     "name": "stdout",
     "output_type": "stream",
     "text": [
      "2024\n",
      "Y\n"
     ]
    }
   ],
   "source": [
    "year = int(input())\n",
    "x = year%4 == 0\n",
    "\n",
    "if year % 4  == 0:\n",
    "    print('Y')\n",
    "else:\n",
    "    print('N')"
   ]
  },
  {
   "cell_type": "code",
   "execution_count": null,
   "id": "65539875",
   "metadata": {},
   "outputs": [],
   "source": []
  }
 ],
 "metadata": {
  "kernelspec": {
   "display_name": "Python 3 (ipykernel)",
   "language": "python",
   "name": "python3"
  },
  "language_info": {
   "codemirror_mode": {
    "name": "ipython",
    "version": 3
   },
   "file_extension": ".py",
   "mimetype": "text/x-python",
   "name": "python",
   "nbconvert_exporter": "python",
   "pygments_lexer": "ipython3",
   "version": "3.9.2"
  }
 },
 "nbformat": 4,
 "nbformat_minor": 5
}
