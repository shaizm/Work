{
 "cells": [
  {
   "cell_type": "code",
   "execution_count": null,
   "id": "c66b1e32",
   "metadata": {},
   "outputs": [],
   "source": [
    "# HCf by recursion \n",
    "\n",
    "\n",
    "num1 = int(input())\n",
    "num2 = int(input())\n",
    "\n",
    "def gcd_finder(x,y):\n",
    "    \n",
    "    if x < y:\n",
    "        smaller = x\n",
    "        greater = y\n",
    "    else:\n",
    "        smaller = x\n",
    "        greater = y\n",
    "    \n",
    "    if (x % smaller == 0) and (y % smaller == 0):\n",
    "        hcf = smaller\n",
    "        return hcf\n",
    "    else:\n",
    "        return gcd_finder(y,x%y)  # important mind fucking line\n",
    "        \n",
    "\n",
    "gcd_finder(num1, num2)\n"
   ]
  },
  {
   "cell_type": "code",
   "execution_count": null,
   "id": "c8c509c8",
   "metadata": {},
   "outputs": [],
   "source": [
    "# Python code to demonstrate naive\n",
    "# method to compute gcd ( recursion )\n",
    "\n",
    "def hcf(a, b):\n",
    "\tif(b == 0):\n",
    "\t\treturn abs(a)\n",
    "\telse:\n",
    "\t\treturn hcfnaive(b, a % b)\n",
    "\n",
    "print(\"The gcd of 60 and 48 is : \", end=\"\")\n",
    "print(hcf(300, 48))\n"
   ]
  },
  {
   "cell_type": "code",
   "execution_count": 6,
   "id": "9d6283ad",
   "metadata": {},
   "outputs": [
    {
     "name": "stdout",
     "output_type": "stream",
     "text": [
      "44 66\n",
      "0\n"
     ]
    }
   ],
   "source": [
    "# Adding the integers without carry\n",
    "\n",
    "l = list(map(int,''.join(input().replace(' ',''))))\n",
    "\n",
    "add1 = l[0]+l[2]\n",
    "add2 = l[1] + l[3]\n",
    "    \n",
    "\n",
    "a = 0\n",
    "b = 0\n",
    "\n",
    "if add2 >= 9:\n",
    "    a = str(add2)[-1] \n",
    "else:\n",
    "    a = str(add1)\n",
    "\n",
    "if add1 >= 9:\n",
    "    b = str(add1)[-1]   \n",
    "else:\n",
    "    b = str(add1)\n",
    "\n",
    "c = ''.join([b,a])\n",
    "print(int(c))"
   ]
  },
  {
   "cell_type": "code",
   "execution_count": null,
   "id": "33cc74ec",
   "metadata": {},
   "outputs": [],
   "source": []
  }
 ],
 "metadata": {
  "kernelspec": {
   "display_name": "Python 3 (ipykernel)",
   "language": "python",
   "name": "python3"
  },
  "language_info": {
   "codemirror_mode": {
    "name": "ipython",
    "version": 3
   },
   "file_extension": ".py",
   "mimetype": "text/x-python",
   "name": "python",
   "nbconvert_exporter": "python",
   "pygments_lexer": "ipython3",
   "version": "3.9.2"
  }
 },
 "nbformat": 4,
 "nbformat_minor": 5
}
