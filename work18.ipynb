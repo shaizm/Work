{
 "cells": [
  {
   "cell_type": "code",
   "execution_count": 23,
   "id": "faa0c77a",
   "metadata": {},
   "outputs": [
    {
     "name": "stdout",
     "output_type": "stream",
     "text": [
      "5\n",
      "1 2 3 4 5\n",
      "2 1 4 3 5\n"
     ]
    }
   ],
   "source": [
    "n = int(input())\n",
    "elements = list(map(int,input().split()[:n]))\n",
    "swap = []\n",
    "\n",
    "i = 0\n",
    "while i < len(elements):\n",
    "    if i+1 < len(elements):\n",
    "        swap.append(elements[i+1])\n",
    "        swap.append(elements[i]) \n",
    "    else:\n",
    "        swap.append(elements[-1])\n",
    "    i = i+2\n",
    "print(*swap)"
   ]
  },
  {
   "cell_type": "code",
   "execution_count": 28,
   "id": "c0a34004",
   "metadata": {},
   "outputs": [
    {
     "name": "stdout",
     "output_type": "stream",
     "text": [
      "5\n",
      "-6\n"
     ]
    }
   ],
   "source": [
    "n = int(input())\n",
    "print(~n)"
   ]
  },
  {
   "cell_type": "code",
   "execution_count": 70,
   "id": "44e1b98e",
   "metadata": {},
   "outputs": [
    {
     "name": "stdout",
     "output_type": "stream",
     "text": [
      "AB 23\n",
      "XY"
     ]
    }
   ],
   "source": [
    "# string = ' '.join(input())\n",
    "# n = int(input())\n",
    "\n",
    "string, n = map(str,input().split(' '))\n",
    "n = int(n)\n",
    "\n",
    "alphabet = 'ABCDEFGHIJKLMNOPQRSTUVWXYZ'\n",
    "alphabet_smal = alphabet.lower()\n",
    "\n",
    "\n",
    "for i in string:\n",
    "    if i in alphabet:\n",
    "        index_no = alphabet.index(i) + n\n",
    "        print(alphabet[index_no], end='')\n",
    "    elif i in alphabet_smal:\n",
    "        index_no = alphabet_smal.index(i) + n\n",
    "        print(alphabet_smal[index_no], end='')\n",
    "\n",
    "\n",
    "      "
   ]
  },
  {
   "cell_type": "code",
   "execution_count": 77,
   "id": "81878d48",
   "metadata": {},
   "outputs": [
    {
     "name": "stdout",
     "output_type": "stream",
     "text": [
      "5\n",
      "1 2 3 4 5 6 0\n",
      "1\n"
     ]
    }
   ],
   "source": [
    "n = int(input())\n",
    "elements = list(map(int, input().split()[:n]))\n",
    "\n",
    "print(min(elements))"
   ]
  },
  {
   "cell_type": "code",
   "execution_count": 97,
   "id": "112ca095",
   "metadata": {},
   "outputs": [
    {
     "name": "stdout",
     "output_type": "stream",
     "text": [
      "5\n",
      "5 25 35 -5 30\n",
      "1\n"
     ]
    }
   ],
   "source": [
    "n = int(input())\n",
    "elements = list(map(int,input().split()[:n]))\n",
    "\n",
    "if sum(elements)%2 ==0 and sum(elements)%3 ==0 and sum(elements)%5 ==0:\n",
    "    print(1)\n",
    "else:\n",
    "    print(0)"
   ]
  },
  {
   "cell_type": "code",
   "execution_count": 2,
   "id": "f99e3f22",
   "metadata": {},
   "outputs": [
    {
     "name": "stdout",
     "output_type": "stream",
     "text": [
      "5\n",
      "1 1 3 5\n",
      "[1, 1]\n"
     ]
    }
   ],
   "source": [
    "# Pending\n",
    "'''\n",
    "from collections import Counter\n",
    "\n",
    "n = int(input())\n",
    "elements = list(map(int,input().split()[:n]))\n",
    "\n",
    "elements = sorted(elements)\n",
    "\n",
    "c = Counter(elements)\n",
    "maxi = max(c.values())\n",
    "dup_lasr = [x for x in elements if c[x]==maxi]\n",
    "\n",
    "print(dup_lasr)\n",
    "'''\n",
    "\n",
    "\n",
    "# i/n 1 1 3 5\n",
    "# o/p 3 5 1 1 ... in ascending order ..and repeated elements at the end"
   ]
  },
  {
   "cell_type": "code",
   "execution_count": 24,
   "id": "55cda4fc",
   "metadata": {},
   "outputs": [
    {
     "name": "stdout",
     "output_type": "stream",
     "text": [
      "raja\n",
      "414\n"
     ]
    }
   ],
   "source": [
    "string = input()\n",
    "\n",
    "# a = sum(bytearray(string, encoding='utf8'))\n",
    "# print(a)\n",
    "\n",
    "a= sum(map(ord, string))\n",
    "print(a)"
   ]
  },
  {
   "cell_type": "code",
   "execution_count": 22,
   "id": "a5de43fa",
   "metadata": {},
   "outputs": [
    {
     "name": "stdout",
     "output_type": "stream",
     "text": [
      "jennyfer\n",
      "Refynnej\n"
     ]
    }
   ],
   "source": [
    "string = input()\n",
    "rvsd = string[::-1]\n",
    "rvsd0 = rvsd[0].upper()\n",
    "print(rvsd0 + rvsd[1:])"
   ]
  },
  {
   "cell_type": "code",
   "execution_count": 24,
   "id": "a04bb302",
   "metadata": {},
   "outputs": [
    {
     "name": "stdout",
     "output_type": "stream",
     "text": [
      "123221 45621\n",
      "5621465241\n"
     ]
    }
   ],
   "source": [
    "num1,num2 = map(int, input().split())\n",
    "print(num1 * num2)"
   ]
  },
  {
   "cell_type": "code",
   "execution_count": 29,
   "id": "e7e50ccc",
   "metadata": {},
   "outputs": [
    {
     "name": "stdout",
     "output_type": "stream",
     "text": [
      "asdfghjassd\n",
      "fghj\n"
     ]
    }
   ],
   "source": [
    "from collections import Counter\n",
    "\n",
    "string = input()\n",
    "\n",
    "c = Counter(string)\n",
    "single_char = [x for x in string if c[x] == 1]\n",
    "\n",
    "print(''.join(single_char))"
   ]
  },
  {
   "cell_type": "code",
   "execution_count": 11,
   "id": "dd6c9f84",
   "metadata": {},
   "outputs": [
    {
     "name": "stdout",
     "output_type": "stream",
     "text": [
      "3\n",
      "InfinityWar EndGame Avengers\n",
      "Avengers EndGame InfinityWar\n"
     ]
    }
   ],
   "source": [
    "n = int(input())\n",
    "string = map(str,input().split())\n",
    "string = sorted(string)\n",
    "print(*string)"
   ]
  },
  {
   "cell_type": "code",
   "execution_count": 15,
   "id": "8072ec49",
   "metadata": {},
   "outputs": [
    {
     "name": "stdout",
     "output_type": "stream",
     "text": [
      "i am shrey\n",
      " m shry\n"
     ]
    }
   ],
   "source": [
    "s = input()\n",
    "r = ''\n",
    "for i in s:\n",
    "    if i in 'aeiouAEIOU':\n",
    "        continue\n",
    "    else:\n",
    "        r = r+i \n",
    "print(r)"
   ]
  },
  {
   "cell_type": "code",
   "execution_count": 23,
   "id": "00466115",
   "metadata": {},
   "outputs": [
    {
     "name": "stdout",
     "output_type": "stream",
     "text": [
      "asdfghjk\n",
      "yes\n"
     ]
    }
   ],
   "source": [
    "s = input()\n",
    "\n",
    "for i in s:\n",
    "    if i in 'aeiouAEIOU' :\n",
    "        print('yes')\n",
    "        break\n",
    "    \n",
    "    print('no')\n",
    "    break"
   ]
  },
  {
   "cell_type": "code",
   "execution_count": 35,
   "id": "fefc431a",
   "metadata": {},
   "outputs": [
    {
     "name": "stdout",
     "output_type": "stream",
     "text": [
      "raja\n",
      "0\n"
     ]
    }
   ],
   "source": [
    "string = input()\n",
    "l = ''\n",
    "for i in string:\n",
    "    if i in 'aeiouAEIOU':\n",
    "        l = l+i\n",
    "\n",
    "a = map(ord, l)\n",
    "\n",
    "if sum(a)%8==0:\n",
    "    print(1)\n",
    "else:\n",
    "    print(0)"
   ]
  }
 ],
 "metadata": {
  "kernelspec": {
   "display_name": "Python 3 (ipykernel)",
   "language": "python",
   "name": "python3"
  },
  "language_info": {
   "codemirror_mode": {
    "name": "ipython",
    "version": 3
   },
   "file_extension": ".py",
   "mimetype": "text/x-python",
   "name": "python",
   "nbconvert_exporter": "python",
   "pygments_lexer": "ipython3",
   "version": "3.9.2"
  }
 },
 "nbformat": 4,
 "nbformat_minor": 5
}
