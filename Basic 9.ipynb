{
 "cells": [
  {
   "cell_type": "code",
   "execution_count": 7,
   "id": "c52da500",
   "metadata": {},
   "outputs": [
    {
     "name": "stdout",
     "output_type": "stream",
     "text": [
      "15\n"
     ]
    }
   ],
   "source": [
    "arr = [1,3,4,6,10,15,8]\n",
    "def arrmax(x):\n",
    "    return max(arr)\n",
    "\n",
    "print (arrmax(arr))"
   ]
  },
  {
   "cell_type": "code",
   "execution_count": 15,
   "id": "b118c9b7",
   "metadata": {},
   "outputs": [
    {
     "name": "stdout",
     "output_type": "stream",
     "text": [
      "6\n",
      "2 3 6 4 7\n",
      "7\n"
     ]
    }
   ],
   "source": [
    "def arrmax(arr):\n",
    "    return max(arr)\n",
    "\n",
    "n = int(input())\n",
    "arr = input()\n",
    "l = list(map(int, arr.split(' ')))\n",
    "\n",
    "print (arrmax(l))"
   ]
  }
 ],
 "metadata": {
  "kernelspec": {
   "display_name": "Python 3 (ipykernel)",
   "language": "python",
   "name": "python3"
  },
  "language_info": {
   "codemirror_mode": {
    "name": "ipython",
    "version": 3
   },
   "file_extension": ".py",
   "mimetype": "text/x-python",
   "name": "python",
   "nbconvert_exporter": "python",
   "pygments_lexer": "ipython3",
   "version": "3.9.2"
  }
 },
 "nbformat": 4,
 "nbformat_minor": 5
}
